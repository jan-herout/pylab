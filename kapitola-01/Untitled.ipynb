{
 "cells": [
  {
   "cell_type": "code",
   "execution_count": 1,
   "id": "17bd1ce2-2a34-417a-989f-084a37bc6a30",
   "metadata": {},
   "outputs": [],
   "source": [
    "piratu_celkem = 144"
   ]
  },
  {
   "cell_type": "code",
   "execution_count": 2,
   "id": "34e4b46e-6c8f-4e33-b742-fc6594bae465",
   "metadata": {},
   "outputs": [],
   "source": [
    "piratu_na_lod = 14 + 1 + 1"
   ]
  },
  {
   "cell_type": "code",
   "execution_count": 3,
   "id": "9d7e584c-9dc0-4cc7-bad7-83f7879c6430",
   "metadata": {},
   "outputs": [],
   "source": [
    "lodi = piratu_celkem / piratu_na_lod"
   ]
  },
  {
   "cell_type": "code",
   "execution_count": 4,
   "id": "c58aebee-0a1b-4d21-8977-dd0efceda7d5",
   "metadata": {},
   "outputs": [
    {
     "name": "stdout",
     "output_type": "stream",
     "text": [
      "Ve flotile bude celkem 9.0  lodí\n"
     ]
    }
   ],
   "source": [
    "print(\"Ve flotile bude celkem\", lodi, \" lodí\")"
   ]
  },
  {
   "cell_type": "code",
   "execution_count": null,
   "id": "42c996df-0a7b-4bc1-99af-80fce09ea309",
   "metadata": {},
   "outputs": [],
   "source": []
  }
 ],
 "metadata": {
  "kernelspec": {
   "display_name": "Python 3 (ipykernel)",
   "language": "python",
   "name": "python3"
  },
  "language_info": {
   "codemirror_mode": {
    "name": "ipython",
    "version": 3
   },
   "file_extension": ".py",
   "mimetype": "text/x-python",
   "name": "python",
   "nbconvert_exporter": "python",
   "pygments_lexer": "ipython3",
   "version": "3.11.1"
  }
 },
 "nbformat": 4,
 "nbformat_minor": 5
}
