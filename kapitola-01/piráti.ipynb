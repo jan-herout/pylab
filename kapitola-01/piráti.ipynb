{
 "cells": [
  {
   "cell_type": "code",
   "execution_count": 1,
   "id": "2fd0a595-2bbc-44a8-a8ff-f66648ae3b42",
   "metadata": {},
   "outputs": [],
   "source": [
    "piratu_celkem = 144"
   ]
  },
  {
   "cell_type": "code",
   "execution_count": 2,
   "id": "bdff359f-c90c-4591-af3a-037545073630",
   "metadata": {},
   "outputs": [],
   "source": [
    "piratu_na_lod = 14 + 1 + 1"
   ]
  },
  {
   "cell_type": "code",
   "execution_count": 3,
   "id": "95d3ebb2-f737-4347-8aac-3d83f891c50c",
   "metadata": {},
   "outputs": [],
   "source": [
    "lodi = piratu_celkem / piratu_na_lod"
   ]
  },
  {
   "cell_type": "code",
   "execution_count": 4,
   "id": "ef90fcc6-64fd-4d58-88fa-2d3126e155c7",
   "metadata": {},
   "outputs": [
    {
     "name": "stdout",
     "output_type": "stream",
     "text": [
      "Ve flotile bude celkem 9.0 lodí.\n"
     ]
    }
   ],
   "source": [
    "print(\"Ve flotile bude celkem\", lodi, \"lodí.\")"
   ]
  },
  {
   "cell_type": "code",
   "execution_count": null,
   "id": "522e06fa-fd22-4d00-83a4-1ef7efb628a2",
   "metadata": {},
   "outputs": [],
   "source": []
  }
 ],
 "metadata": {
  "kernelspec": {
   "display_name": "Python 3 (ipykernel)",
   "language": "python",
   "name": "python3"
  },
  "language_info": {
   "codemirror_mode": {
    "name": "ipython",
    "version": 3
   },
   "file_extension": ".py",
   "mimetype": "text/x-python",
   "name": "python",
   "nbconvert_exporter": "python",
   "pygments_lexer": "ipython3",
   "version": "3.12.2"
  }
 },
 "nbformat": 4,
 "nbformat_minor": 5
}
