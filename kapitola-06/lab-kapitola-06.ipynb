{
 "cells": [
  {
   "cell_type": "code",
   "execution_count": 1,
   "id": "0f2eaa94-5ed4-4df2-9c28-0b3e5f269b7f",
   "metadata": {},
   "outputs": [
    {
     "ename": "SyntaxError",
     "evalue": "invalid syntax (844207114.py, line 1)",
     "output_type": "error",
     "traceback": [
      "\u001b[1;36m  Cell \u001b[1;32mIn[1], line 1\u001b[1;36m\u001b[0m\n\u001b[1;33m    txt = \"John řekl: \"Půjdeme ve dvě hodiny.\"\"\u001b[0m\n\u001b[1;37m                       ^\u001b[0m\n\u001b[1;31mSyntaxError\u001b[0m\u001b[1;31m:\u001b[0m invalid syntax\n"
     ]
    }
   ],
   "source": [
    "txt = \"John řekl: \"Půjdeme ve dvě hodiny.\"\""
   ]
  },
  {
   "cell_type": "code",
   "execution_count": 3,
   "id": "b8f1c129-e135-4ddd-9554-160ead1617b1",
   "metadata": {},
   "outputs": [],
   "source": [
    "text = \"\"\"Nesmím se bát. Strach zabíjí myšlení. \n",
    "Strach je malá smrt přinášející naprosté vyhlazení.\n",
    "Budu svému strachu čelit. Dovolím mu, aby prošel kolem mne a skrze mne.\n",
    "A až projde a zmizí, otočím se a podívám se, kudy šel. \n",
    "Tam, kam strach odešel, nic nezůstane. Zůstanu pouze já.\"\"\""
   ]
  },
  {
   "cell_type": "code",
   "execution_count": 7,
   "id": "ff070390-1160-4b02-92d9-8f619f6648b6",
   "metadata": {},
   "outputs": [
    {
     "name": "stdout",
     "output_type": "stream",
     "text": [
      "před_tab\tza_tab\n"
     ]
    }
   ],
   "source": [
    "text_s_tab = \"před_tab\\tza_tab\" \n",
    "text_s_tab\n",
    "print(text_s_tab)"
   ]
  },
  {
   "cell_type": "code",
   "execution_count": 8,
   "id": "0d83b33b-7c28-4179-a739-869de829c10a",
   "metadata": {},
   "outputs": [
    {
     "name": "stdout",
     "output_type": "stream",
     "text": [
      "první řádek\n",
      "druhý řádek\n",
      "třetí řádek\n"
     ]
    }
   ],
   "source": [
    "text = \"první řádek\\ndruhý řádek\\ntřetí řádek\"\n",
    "print(text)"
   ]
  },
  {
   "cell_type": "code",
   "execution_count": 9,
   "id": "58f2c1ff-0e88-4adc-a804-f0813a4dd6a7",
   "metadata": {},
   "outputs": [
    {
     "name": "stdout",
     "output_type": "stream",
     "text": [
      "zpětné lomítko: \\\n",
      "text-před-tabulátorem-\t-text-za-tabulátorem\n"
     ]
    }
   ],
   "source": [
    "print(\"zpětné lomítko: \\\\\")\n",
    "print(\"text-před-tabulátorem-\\t-text-za-tabulátorem\")"
   ]
  },
  {
   "cell_type": "code",
   "execution_count": 13,
   "id": "e151ee1d-bcf6-4378-9e97-63090e02a9a1",
   "metadata": {},
   "outputs": [
    {
     "name": "stdout",
     "output_type": "stream",
     "text": [
      "--------------------------------------------------------------------------------\n",
      "Nesmím se bát. Strach zabíjí myšlení.\n",
      "Budu svému strachu čelit. Dovolím mu, aby prošel kolem mne a skrze mne.\n",
      "--------------------------------------------------------------------------------\n"
     ]
    }
   ],
   "source": [
    "veta_1 = \"Nesmím se bát. Strach zabíjí myšlení.\"\n",
    "veta_2 = \"Budu svému strachu čelit. Dovolím mu, aby prošel kolem mne a skrze mne.\"\n",
    "\n",
    "ram_vlevo = \"| \"\n",
    "ram_vpravo = \"|\"\n",
    "cara = \"-\" * 80\n",
    "delka_cary = len(cara)\n",
    "delka_v1 = len(veta_1)\n",
    "odstavec = cara + \"\\n\" + veta_1 + \"\\n\" + veta_2 + \"\\n\" + cara\n",
    "print(odstavec)"
   ]
  },
  {
   "cell_type": "code",
   "execution_count": 15,
   "id": "0e6417b9-7428-4890-9ef5-5c18deafd12a",
   "metadata": {},
   "outputs": [
    {
     "name": "stdout",
     "output_type": "stream",
     "text": [
      "tohle nejde1\n"
     ]
    }
   ],
   "source": [
    "print (\"tohle nejde\" + str(1))"
   ]
  },
  {
   "cell_type": "code",
   "execution_count": 16,
   "id": "86e65a38-af44-4165-8a46-a5592c188482",
   "metadata": {},
   "outputs": [
    {
     "name": "stdout",
     "output_type": "stream",
     "text": [
      "a\n",
      "b\n",
      "c\n",
      "d\n",
      "e\n",
      "f\n",
      "g\n",
      "h\n",
      "i\n",
      "j\n",
      "k\n",
      "l\n",
      "m\n",
      "n\n",
      "o\n",
      "p\n",
      "q\n",
      "r\n",
      "s\n",
      "t\n",
      "u\n",
      "v\n",
      "w\n",
      "x\n",
      "y\n",
      "z\n"
     ]
    }
   ],
   "source": [
    "pismena = \"abcdefghijklmnopqrstuvwxyz\"\n",
    "for pismeno in pismena:\n",
    "    print(pismeno)"
   ]
  },
  {
   "cell_type": "code",
   "execution_count": 17,
   "id": "8db5ca1f-9778-494c-b295-51c6e0323f6c",
   "metadata": {},
   "outputs": [
    {
     "name": "stdout",
     "output_type": "stream",
     "text": [
      "c\n"
     ]
    }
   ],
   "source": [
    "pismena = \"abcdefghijklmnopqrstuvwxyz\"\n",
    "pismeno_c = pismena[2]\n",
    "print(pismeno_c)"
   ]
  },
  {
   "cell_type": "code",
   "execution_count": 24,
   "id": "8f6b3a65-e143-4460-92cd-1be99cfca790",
   "metadata": {},
   "outputs": [
    {
     "name": "stdout",
     "output_type": "stream",
     "text": [
      "aBc\n"
     ]
    }
   ],
   "source": [
    "pismeno_a = \"a\"\n",
    "pismeno_b = \"B\"\n",
    "pismeno_c = \"c\"\n",
    "text = pismeno_a + pismeno_b + pismeno_c\n",
    "print(text)"
   ]
  },
  {
   "cell_type": "code",
   "execution_count": 25,
   "id": "0dfc9bde-79b8-4390-9028-d0d0fc4a6177",
   "metadata": {},
   "outputs": [
    {
     "name": "stdout",
     "output_type": "stream",
     "text": [
      "cdef\n"
     ]
    }
   ],
   "source": [
    "pismena = \"abcdefghijklmnopqrstuvwxyz\"\n",
    "print(pismena[2:6])"
   ]
  },
  {
   "cell_type": "code",
   "execution_count": 26,
   "id": "47364d2a-7fce-43e5-947a-7e20e17e137b",
   "metadata": {},
   "outputs": [
    {
     "name": "stdout",
     "output_type": "stream",
     "text": [
      "barva='žlutý'\n",
      "zvire='kůň'\n"
     ]
    }
   ],
   "source": [
    "barevne_zvire = \"žlutý kůň\"\n",
    "barva = barevne_zvire[:5]\n",
    "zvire = barevne_zvire[6:]\n",
    "print(f\"{barva=}\")\n",
    "print(f\"{zvire=}\")"
   ]
  },
  {
   "cell_type": "code",
   "execution_count": 27,
   "id": "0681c8f1-e500-4aee-9f44-d49d0119c02a",
   "metadata": {},
   "outputs": [
    {
     "name": "stdout",
     "output_type": "stream",
     "text": [
      "40\n"
     ]
    }
   ],
   "source": [
    "# rámeček vlevo a rámeček vpravo\n",
    "ram_vlevo = \"| \"\n",
    "ram_vpravo = \"|\"\n",
    "# jak je dlouhá čára nahoře?\n",
    "delka_cary = len(cara)\n",
    "# jak je dlouhá první věta?\n",
    "delka_v1 = len(veta_1)\n",
    "# kolik mezer potřebujeme doplnit? musíme započítat délku ohraničení zleva a zprava\n",
    "mezer_v1 = delka_cary - delka_v1 - len(ram_vlevo) - len(ram_vpravo)\n",
    "print(mezer_v1)"
   ]
  },
  {
   "cell_type": "code",
   "execution_count": 28,
   "id": "61ea443c-393f-42b6-a35f-d2d3b936f65d",
   "metadata": {},
   "outputs": [],
   "source": [
    "veta_1_ramovana = ram_vlevo + veta_1 + (\" \" * mezer_v1) + ram_vpravo"
   ]
  },
  {
   "cell_type": "code",
   "execution_count": 29,
   "id": "393912fd-eec3-4b38-b89c-a4479af03a5a",
   "metadata": {},
   "outputs": [
    {
     "name": "stdout",
     "output_type": "stream",
     "text": [
      "--------------------------------------------------------------------------------\n",
      "| Nesmím se bát. Strach zabíjí myšlení.                                        |\n"
     ]
    }
   ],
   "source": [
    "odstavec = cara + \"\\n\" + veta_1_ramovana\n",
    "print(odstavec)"
   ]
  },
  {
   "cell_type": "code",
   "execution_count": 31,
   "id": "704d1edf-6fdd-4847-88ea-d39faec45f21",
   "metadata": {},
   "outputs": [
    {
     "name": "stdout",
     "output_type": "stream",
     "text": [
      "..................................................\n"
     ]
    }
   ],
   "source": [
    "print(\".\" * 50)"
   ]
  },
  {
   "cell_type": "code",
   "execution_count": 32,
   "id": "dcc60d64-fb37-427f-a3a3-73a957e2320d",
   "metadata": {},
   "outputs": [
    {
     "data": {
      "text/plain": [
       "71"
      ]
     },
     "execution_count": 32,
     "metadata": {},
     "output_type": "execute_result"
    }
   ],
   "source": [
    "len(veta_2)"
   ]
  },
  {
   "cell_type": "code",
   "execution_count": 44,
   "id": "4d835e31-ec12-444c-b572-44454a3ab0c1",
   "metadata": {},
   "outputs": [],
   "source": [
    "veta_2_s_rameckem = \"| \" + veta_2 + (\" \" * 6) + \"|\"\n"
   ]
  },
  {
   "cell_type": "code",
   "execution_count": 46,
   "id": "21dd12d9-ac77-46f9-b896-7d8c0bc7d0a3",
   "metadata": {},
   "outputs": [
    {
     "name": "stdout",
     "output_type": "stream",
     "text": [
      "--------------------------------------------------------------------------------\n",
      "| Nesmím se bát. Strach zabíjí myšlení.                                        |\n",
      "| Budu svému strachu čelit. Dovolím mu, aby prošel kolem mne a skrze mne.      |\n",
      "--------------------------------------------------------------------------------\n"
     ]
    }
   ],
   "source": [
    "odstavec = cara + \"\\n\" + veta_1_ramovana + \"\\n\" + veta_2_s_rameckem + \"\\n\" + cara\n",
    "print(odstavec)"
   ]
  },
  {
   "cell_type": "code",
   "execution_count": null,
   "id": "e1ee4f47-cdaf-4336-a8d1-9e35d647ff0d",
   "metadata": {},
   "outputs": [],
   "source": []
  }
 ],
 "metadata": {
  "kernelspec": {
   "display_name": "Python 3 (ipykernel)",
   "language": "python",
   "name": "python3"
  },
  "language_info": {
   "codemirror_mode": {
    "name": "ipython",
    "version": 3
   },
   "file_extension": ".py",
   "mimetype": "text/x-python",
   "name": "python",
   "nbconvert_exporter": "python",
   "pygments_lexer": "ipython3",
   "version": "3.12.2"
  }
 },
 "nbformat": 4,
 "nbformat_minor": 5
}
