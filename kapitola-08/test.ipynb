{
 "cells": [
  {
   "cell_type": "code",
   "execution_count": 2,
   "id": "9190786b-3a74-4a24-9df8-c6bae11e3d9f",
   "metadata": {},
   "outputs": [
    {
     "name": "stdout",
     "output_type": "stream",
     "text": [
      "cislo < 10: False\n",
      "cislo je 10: True\n"
     ]
    }
   ],
   "source": [
    "cislo = 10\n",
    "print(\"cislo < 10:\", cislo < 10) # True\n",
    "print(\"cislo je 10:\", cislo == 10) # False"
   ]
  },
  {
   "cell_type": "code",
   "execution_count": 4,
   "id": "446cf155-0c8a-4327-8c59-009c07bc0fee",
   "metadata": {},
   "outputs": [
    {
     "name": "stdout",
     "output_type": "stream",
     "text": [
      "neprázdný string: True\n",
      "nenulové číslo: True\n",
      "neprázdný list: True\n"
     ]
    }
   ],
   "source": [
    "print(\"neprázdný string:\", bool(\"string\"))\n",
    "print(\"nenulové číslo:\", bool(-1))\n",
    "print(\"neprázdný list:\", bool([1,2,3]))"
   ]
  },
  {
   "cell_type": "code",
   "execution_count": 5,
   "id": "21d42ce4-57b5-423a-9a49-2462568fbbd5",
   "metadata": {},
   "outputs": [
    {
     "name": "stdout",
     "output_type": "stream",
     "text": [
      "prázdný string: False\n",
      "nula: False\n",
      "prázdný list: False\n"
     ]
    }
   ],
   "source": [
    "print(\"prázdný string:\", bool(\"\"))\n",
    "print(\"nula:\", bool(0))\n",
    "print(\"prázdný list:\", bool([]))"
   ]
  },
  {
   "cell_type": "code",
   "execution_count": 6,
   "id": "30beab32-7633-482a-a94d-bdb18e7d41d4",
   "metadata": {},
   "outputs": [
    {
     "name": "stdout",
     "output_type": "stream",
     "text": [
      "Jednička se chová pravdivě\n"
     ]
    }
   ],
   "source": [
    "jedna = 1\n",
    "if jedna:\n",
    "    print(\"Jednička se chová pravdivě\")\n",
    "if jedna is True:\n",
    "    print(\"Ale protože jednička NENÍ PRÁVĚ pravda, pouze se tak chová, tohle nikdy neuvidíš.\")"
   ]
  },
  {
   "cell_type": "code",
   "execution_count": 15,
   "id": "d2423fdf-bdf9-406e-8182-a8f2146a1897",
   "metadata": {},
   "outputs": [
    {
     "name": "stdout",
     "output_type": "stream",
     "text": [
      "Jedeme něco mezi 50 a 80 kilometry za hodinu, doufám že nejdeme na kole\n"
     ]
    }
   ],
   "source": [
    "# netrap se tím, že nerozumíš tomu, co dělají tyhle tři řádky\n",
    "# výsledek je ten, že rychlost_pohybu je náhodné číslo mezi 1 a 100\n",
    "import random\n",
    "random.seed()\n",
    "rychlost_pohybu = random.randint(1,100)\n",
    "\n",
    "if rychlost_pohybu < 20:\n",
    "    print(\"Přidej, jedeme moc pomalu!\")\n",
    "elif rychlost_pohybu < 50:\n",
    "    # pokud jsme tady, jedeme rychleji než 20 za hodinu, ale pomaleji než 50\n",
    "    print(\"Jedeme něco mezi 20 a 50 kilometry za hodinu, vše v pořádku\")\n",
    "elif rychlost_pohybu < 80:\n",
    "    # pokud jsme tady, jedeme rychleji než 50 za hodinu, ale pomaleji než 80\n",
    "    print(\"Jedeme něco mezi 50 a 80 kilometry za hodinu, doufám že nejdeme na kole\")\n",
    "else:\n",
    "    # pokud jsme tady, tak se nesplnila ani jedna z podmínek nahoře\n",
    "    # takže, pokud je rychlost mezi 1 a 100, znamená to, že jedeme\n",
    "    # přinejmenším 80 za hodinu\n",
    "    print(\"Jedeme rychleji než 80 kilometrů za hodinu, jestli je to na kole...\")\n",
    "    print(\"... tak jsme nejspíš mrtví!\")"
   ]
  },
  {
   "cell_type": "code",
   "execution_count": 33,
   "id": "f53d360b-1350-4977-a523-15bb76a19bc2",
   "metadata": {},
   "outputs": [
    {
     "name": "stdout",
     "output_type": "stream",
     "text": [
      "Dopravní prostředek je kolo\n",
      "Rychlost pohybu je 100\n",
      "ZPOMAL!\n"
     ]
    }
   ],
   "source": [
    "# netrap se tím, že nerozumíš tomu, co dělají tyhle 4 řádky\n",
    "# rychlost_pohybu je náhodné číslo mezi 1 a 100\n",
    "# a náhodně si určíme, jestli dopravní prostředek je auto, kolo, nebo motorový člun\n",
    "import random\n",
    "random.seed()\n",
    "rychlost_pohybu = random.randint(1,100)\n",
    "dopravni_prostredek = random.choice([\"auto\",\"kolo\", \"motorový člun\"])\n",
    "\n",
    "print(\"Dopravní prostředek je\", dopravni_prostredek)\n",
    "print(\"Rychlost pohybu je\", rychlost_pohybu)\n",
    "if dopravni_prostredek == \"auto\":\n",
    "    if rychlost_pohybu <= 50:\n",
    "        print(\"můžeme klidně přidat, jedeme pomaleji než 50 za hodinu\")\n",
    "    elif rychlost_pohybu <= 80:\n",
    "        print(\"jedeme rychleji než 50, ale do 80 za hodinu je vše v pořádku\")\n",
    "    else:\n",
    "        print(\"ZPOMAL!\")\n",
    "elif dopravni_prostredek == \"kolo\":\n",
    "    if rychlost_pohybu <= 20:\n",
    "        print(\"můžeme klidně přidat, jedeme pomaleji než 20 za hodinu\")\n",
    "    elif rychlost_pohybu <= 30:\n",
    "        print(\"jedeme rychleji než 20, ale do 30 za hodinu je vše v pořádku\")\n",
    "    else:\n",
    "        print(\"ZPOMAL!\")\n",
    "else:\n",
    "    print(\"Ani auto, ani kolo ... takže asi plujeme po moři, že?\")"
   ]
  },
  {
   "cell_type": "code",
   "execution_count": null,
   "id": "19313cc0-b307-468f-a0b8-03e5dc611c66",
   "metadata": {},
   "outputs": [],
   "source": []
  }
 ],
 "metadata": {
  "kernelspec": {
   "display_name": "Python 3 (ipykernel)",
   "language": "python",
   "name": "python3"
  },
  "language_info": {
   "codemirror_mode": {
    "name": "ipython",
    "version": 3
   },
   "file_extension": ".py",
   "mimetype": "text/x-python",
   "name": "python",
   "nbconvert_exporter": "python",
   "pygments_lexer": "ipython3",
   "version": "3.12.2"
  }
 },
 "nbformat": 4,
 "nbformat_minor": 5
}
