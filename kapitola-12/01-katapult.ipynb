{
 "cells": [
  {
   "cell_type": "markdown",
   "metadata": {},
   "source": [
    "# Katapult\n",
    "\n",
    "Úplnou náhodou ses dostal na severní pól, kde má základnu svých operací Santa Klaus.\n",
    "\n",
    "Jednou z důležitých operací, která na severním pólu probíhá, je produkce sněhu.\n",
    "Santa, a jeho malí pomocníci (elfové) každý den poctivě nakládají sněhové koule na \n",
    "obrovský katapult, a potom je střílí do nebe. Sněhová koule se tam rozpadne, a větry jí\n",
    "roznesou po celé severní hemisféře.\n",
    "\n",
    "![katapult](./imgs/trebuchet.png)\n",
    "\n",
    "V poslední době ale produkce sněhu vázne. Santa Klaus pověřil vedením celé operace \n",
    "jednoho z elfů. Je to takový mrňavý skřítek, s červeným nosem a obrovským kulichem na hlavě.\n",
    "Jmenuje se Dobromysl, a má pomocníka, Dárkoborce. Dárkoborec zodpovídá za práci s měřícím\n",
    "přístrojem, který sleduje směr a sílu větru."
   ]
  },
  {
   "cell_type": "markdown",
   "metadata": {},
   "source": [
    "## Meření síly větru\n",
    "\n",
    "Tento přístroj produkuje výstup, který vypadá nějak takhle:\n",
    "\n",
    "```\n",
    "7bdggeya8\n",
    "9daíikem3\n",
    "7kdsal,laue3\n",
    "1**-+-+dadae7\n",
    "```\n",
    "\n",
    "Každá řádka je údaj, který odpovídá síle a směru větru. Na základě těchto měření potom\n",
    "Dárkoborec určí elevaci, pod kterou musí katapult odpálit svůj náklad tak, aby se\n",
    "dostal na správné místo na obloze, a sníh neskončil někde v oceánu."
   ]
  },
  {
   "cell_type": "markdown",
   "metadata": {},
   "source": [
    "## Vzorové zadání\n",
    "\n",
    "> Na následujících buňkách neměň žádný kód, dokud k tomu nedostaneš instrukci.\n",
    "\n",
    "\n",
    "> Každou jednotlivou buňku spusť. Pokud je to buňka s kódem, kód si přečti a snaž se pochopit, co dělá.\n",
    "\n",
    "Dárkoborec se ale někam zatoulal, nebo se někde ztratil. Není k nalezení. Dívali jste se všude,\n",
    "včetně ledničky (občas se zapomene v šuplíku na hermelíny, které k smrti miluje), ale není nikde\n",
    "k nalezení.\n",
    "\n",
    "Dobromysl si jenom pamatuje, že Dárkoborec postupuje takhle:\n",
    "\n",
    "- jde seznamem řádek za řádkem\n",
    "- sečte čislici, která je na prvním místě, a číslici která je na konci\n",
    "- pokud je součet větší než 5, měření ignoruje, protože je to nějaká odchylka\n",
    "- pokud ale součet **není** větší než pět, přidá ho na seznam správných měření\n",
    "- potom každé tohle správné pozorování násobí dvanácti, aby získal správný úhel\n",
    "- všechna tahle pozorování, vynásobená dvanácti, potom zprůměruje\n",
    "- výsledné číslo je úhel, pod kterým katapult má vystřelit svůj náklad\n",
    "\n",
    "Dobromysl si zoufá, a neví co dělat.\n",
    "\n",
    "\"**Fajn!** To je přece hračka, ne?\" - odpovíš mu, a napíšeš následující program, \n",
    "který vypočítá úhel palby."
   ]
  },
  {
   "cell_type": "code",
   "execution_count": null,
   "metadata": {},
   "outputs": [],
   "source": [
    "# tohle jsou měření z meteorologického přístroje, která ti dal Dobromysl jako vzor\n",
    "# na vstupu máme text (str), a pomocí metody splitlines() z něj uděláme list\n",
    "mereni = \"\"\"7bdggeya8\n",
    "1daíikem3\n",
    "2kdsal,laue3\n",
    "1**-+-+dadae7\"\"\".splitlines()\n",
    "\n",
    "print(mereni)"
   ]
  },
  {
   "cell_type": "code",
   "execution_count": null,
   "metadata": {},
   "outputs": [],
   "source": [
    "# tohle je funkce, kterou jsi napsal\n",
    "def spravna_mereni(mereni: list):\n",
    "    \"\"\"Funkce dostane na vstupu list, a vrací správná měření.\n",
    "    - jde seznamem měření řádek za řádkem\n",
    "    - sečte čislici, která je na prvním místě, a číslici která je na konci\n",
    "    - pokud je součet větší než 5, měření ignoruje, protože je to nějaká odchylka\n",
    "    - pokud ale součet **není** větší než pět, přidá ho na seznam správných měření\n",
    "    - potom každé tohle správné pozorování násobí dvanácti, aby získal správný úhel\n",
    "    - každé správné měření se odloží do seznamu, a na konci se vrátí zpátky\n",
    "\n",
    "    Args:\n",
    "        mereni (list): seznam měření v podobě \"9daíikem3\"\n",
    "\n",
    "    Returns:\n",
    "        pouze_spravna (list): seznam správných měření\n",
    "    \"\"\"\n",
    "    # začínáme s prázdným seznamem správných měření\n",
    "    pouze_spravna = []\n",
    "    \n",
    "    for m in mereni:\n",
    "        # na první a poslední pozici je číslo\n",
    "        prvni = int(m[0])\n",
    "        posledni = int(m[-1])\n",
    "        # čísla sečtu, a pokud je výsledek <= 5, je to správné měření\n",
    "        # takové měření musím ještě násobit dvanácti\n",
    "        soucet = prvni + posledni\n",
    "        if soucet <= 5:\n",
    "            uhel = soucet * 12\n",
    "            pouze_spravna.append(uhel)\n",
    "    \n",
    "    return pouze_spravna"
   ]
  },
  {
   "cell_type": "markdown",
   "metadata": {},
   "source": [
    "Následně se rozhodneš otestovat, jestli funkce vrací správná měření na základě příkladu,\n",
    "který ti dal Dobromysl.\n",
    "\n",
    "```\n",
    "7bdggeya8       - součet je 15, to není správně\n",
    "1daíikem3       - součet 4, SPRÁVNĚ, úhel = 4 * 12 = 48\n",
    "2kdsal,laue3    - součet 5, SPRÁVNĚ, úhel = 5 * 12 = 60\n",
    "1**-+-+dadae7   - součet 8, špatně\n",
    "```"
   ]
  },
  {
   "cell_type": "code",
   "execution_count": null,
   "metadata": {},
   "outputs": [],
   "source": [
    "# samotný test - a je to v pořádku\n",
    "print(spravna_mereni(mereni))"
   ]
  },
  {
   "cell_type": "markdown",
   "metadata": {},
   "source": [
    "Zbývá už jenom umět spočítat průměr. "
   ]
  },
  {
   "cell_type": "code",
   "execution_count": null,
   "metadata": {},
   "outputs": [],
   "source": [
    "def prumer(spravna_mereni):\n",
    "    \"\"\"Funkce vrátí průměr z měření, která dostane jako list.    \n",
    "\n",
    "    Args:\n",
    "        spravna_mereni (list): seznam měření (číselných)\n",
    "\n",
    "    Returns:\n",
    "        průměr (float): průměr z měření\n",
    "    \"\"\"\n",
    "    pocet = len(spravna_mereni)\n",
    "    soucet = sum(spravna_mereni) # ano, existuje funkce sum, která ti vrátí součet!\n",
    "    return soucet/pocet"
   ]
  },
  {
   "cell_type": "code",
   "execution_count": null,
   "metadata": {},
   "outputs": [],
   "source": [
    "# průměr z hodnot 48 a 60 je 54, a to je tedy správně\n",
    "print(prumer(spravna_mereni(mereni)))"
   ]
  },
  {
   "cell_type": "markdown",
   "metadata": {},
   "source": [
    "Zapojíš tedy svůj program do výstupu z přístroje, který měří sílu větru, a chystáš se \n",
    "sdělit Domromyslovi pod jakým úhlem má poslat další sněhovou kouli....\n",
    "\n",
    "Nelam si zatím hlavu s tím, co dělá následující buňka, prostě ji spusť."
   ]
  },
  {
   "cell_type": "code",
   "execution_count": null,
   "metadata": {},
   "outputs": [],
   "source": [
    "from severni_pol import vetromeric"
   ]
  },
  {
   "cell_type": "code",
   "execution_count": null,
   "metadata": {},
   "outputs": [],
   "source": [
    "# okamžik pravdy .... pod jakým úhlem budeme střílet?\n",
    "mereni = vetromeric.mereni()"
   ]
  },
  {
   "cell_type": "code",
   "execution_count": null,
   "metadata": {},
   "outputs": [],
   "source": [
    "print(prumer(spravna_mereni(mereni)))"
   ]
  },
  {
   "cell_type": "markdown",
   "metadata": {},
   "source": [
    "Ale ne! Co se stalo? Kde je chyba?"
   ]
  },
  {
   "cell_type": "code",
   "execution_count": null,
   "metadata": {},
   "outputs": [],
   "source": [
    "print(mereni)"
   ]
  },
  {
   "cell_type": "markdown",
   "metadata": {},
   "source": [
    "Ukazuje se, že ten zatracený přístroj sice vždy vrací na každém řádku právě dvě číslice,\n",
    "ale nedá se dopředu říct, na jaké pozici. Může to být kdekoliv v tom textu měření....\n",
    "Musíš tedy algoritmus upravit tak, aby se našla **první** číslice, a **druhá** číslice,\n",
    "a z nich sestavit to správné měření."
   ]
  },
  {
   "cell_type": "markdown",
   "metadata": {},
   "source": [
    "## Nové zadání\n",
    "\n",
    "Tady budeš upravovat kód. \n",
    "\n",
    "Tvým úkolem je:\n",
    "\n",
    "- sestavit seznam správných měření\n",
    "- napsat \"docstring\" upravené funkce (takový ten text pod slovem def)\n",
    "- vypočítat nový úhel výstřelu jako průměr (na to už funkci máš, jmenuje se `prumer`)"
   ]
  },
  {
   "cell_type": "code",
   "execution_count": null,
   "metadata": {},
   "outputs": [],
   "source": [
    "# tohle je vzrovoý, ale nefunkční kód, který máš upravit\n",
    "def spravna_mereni(mereni: list):\n",
    "    \"\"\"Funkce dostane na vstupu list, a vrací správná měření.\n",
    "    \n",
    "    TODO - tady popiš, co to přesně dělá!!!\n",
    "\n",
    "    Args:\n",
    "        mereni (list): seznam měření v podobě \"9daíikem3\"\n",
    "\n",
    "    Returns:\n",
    "        pouze_spravna (list): seznam správných měření\n",
    "    \"\"\"\n",
    "    # začínáme s prázdným seznamem správných měření\n",
    "    pouze_spravna = []\n",
    "\n",
    "    for m in mereni:\n",
    "        # na první a poslední pozici je číslo\n",
    "        prvni = int(m[0])\n",
    "        posledni = int(m[-1])\n",
    "        # čísla sečtu, a pokud je výsledek <= 5, je to správné měření\n",
    "        # takové měření musím ještě násobit dvanácti\n",
    "        soucet = prvni + posledni\n",
    "        if soucet <= 5:\n",
    "            uhel = soucet * 12\n",
    "            pouze_spravna.append(uhel)\n",
    "\n",
    "    return pouze_spravna"
   ]
  },
  {
   "cell_type": "markdown",
   "metadata": {},
   "source": [
    "Jak poznáš, že jsi uspěl? Jednoduše. Když funkci zavoláš, a předáš jí seznam měření z přístroje, nesmí selhat."
   ]
  },
  {
   "cell_type": "code",
   "execution_count": null,
   "metadata": {},
   "outputs": [],
   "source": [
    "# získej seznam měření\n",
    "mereni = vetromeric.mereni()"
   ]
  },
  {
   "cell_type": "code",
   "execution_count": null,
   "metadata": {},
   "outputs": [],
   "source": [
    "# otestuj, zda funkce funguje správně; v tomhle okamžiku nefunguje tak, jak má"
   ]
  },
  {
   "cell_type": "code",
   "execution_count": null,
   "metadata": {},
   "outputs": [],
   "source": [
    "spravna_mereni(mereni)"
   ]
  },
  {
   "cell_type": "code",
   "execution_count": null,
   "metadata": {},
   "outputs": [],
   "source": [
    "def spravna_mereni(mereni: list):\n",
    "    \"\"\"Funkce dostane na vstupu list, a vrací správná měření.\n",
    "    - jde seznamem měření řádek za řádkem\n",
    "    - sečte čislici, která je na prvním místě, a číslici která je na konci\n",
    "    - pokud je součet větší než 5, měření ignoruje, protože je to nějaká odchylka\n",
    "    - pokud ale součet **není** větší než pět, přidá ho na seznam správných měření\n",
    "    - potom každé tohle správné pozorování násobí dvanácti, aby získal správný úhel\n",
    "    - každé správné měření se odloží do seznamu, a na konci se vrátí zpátky\n",
    "\n",
    "    Args:\n",
    "        mereni (list): seznam měření v podobě \"9daíikem3\"\n",
    "\n",
    "    Returns:\n",
    "        pouze_spravna (list): seznam správných měření\n",
    "    \"\"\"\n",
    "    # začínáme s prázdným seznamem správných měření\n",
    "    pouze_spravna = []\n",
    "\n",
    "    for m in mereni:\n",
    "        # na první a poslední pozici je číslo\n",
    "        cislice = [ c for c in m if c in \"012345689\"]\n",
    "        prvni = int(cislice[0])\n",
    "        posledni = int(cislice[1])\n",
    "        # čísla sečtu, a pokud je výsledek <= 5, je to správné měření\n",
    "        # takové měření musím ještě násobit dvanácti\n",
    "        soucet = prvni + posledni\n",
    "        if soucet <= 5:\n",
    "            uhel = soucet * 12\n",
    "            pouze_spravna.append(uhel)\n",
    "\n",
    "    return pouze_spravna"
   ]
  },
  {
   "cell_type": "markdown",
   "metadata": {},
   "source": [
    "# Okamžik pravdy ...\n",
    "\n",
    "Vypočítej úhel, a vystřel z katapultu."
   ]
  },
  {
   "cell_type": "code",
   "execution_count": null,
   "metadata": {},
   "outputs": [],
   "source": [
    "# okamžik pravdy ....\n",
    "uhel = 0"
   ]
  },
  {
   "cell_type": "code",
   "execution_count": null,
   "metadata": {},
   "outputs": [],
   "source": [
    "# samotný výstřel\n",
    "from severni_pol import katapult\n",
    "katapult.vystrel(uhel)"
   ]
  },
  {
   "cell_type": "code",
   "execution_count": null,
   "metadata": {},
   "outputs": [],
   "source": []
  }
 ],
 "metadata": {
  "kernelspec": {
   "display_name": "jupyterlab",
   "language": "python",
   "name": "python3"
  },
  "language_info": {
   "codemirror_mode": {
    "name": "ipython",
    "version": 3
   },
   "file_extension": ".py",
   "mimetype": "text/x-python",
   "name": "python",
   "nbconvert_exporter": "python",
   "pygments_lexer": "ipython3",
   "version": "3.12.0"
  }
 },
 "nbformat": 4,
 "nbformat_minor": 2
}
