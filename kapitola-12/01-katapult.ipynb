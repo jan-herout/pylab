{
 "cells": [
  {
   "cell_type": "markdown",
   "metadata": {},
   "source": [
    "# Katapult\n",
    "\n",
    "Úplnou náhodou ses dostal na severní pól, kde má základnu svých operací Santa Klaus.\n",
    "\n",
    "Jednou z důležitých operací, která na severním pólu probíhá, je produkce sněhu.\n",
    "Santa, a jeho malí pomocníci (elfové) každý den poctivě nakládají sněhové koule na \n",
    "obrovský katapult, a potom je střílí do nebe. Sněhová koule se tam rozpadne, a větry jí\n",
    "roznesou po celé severní hemisféře.\n",
    "\n",
    "![katapult](./imgs/trebuchet.png)\n",
    "\n",
    "V poslední době ale produkce sněhu vázne. Santa Klaus pověřil vedením celé operace \n",
    "jednoho z elfů. Je to takový mrňavý skřítek, s červeným nosem a obrovským kulichem na hlavě.\n",
    "Jmenuje se Dobromysl, a má pomocníka, Dárkoborce. Dárkoborec zodpovídá za práci s měřícím\n",
    "přístrojem, který sleduje směr a sílu větru."
   ]
  },
  {
   "cell_type": "markdown",
   "metadata": {},
   "source": [
    "## Meření síly větru\n",
    "\n",
    "Tento přístroj produkuje výstup, který vypadá nějak takhle:\n",
    "\n",
    "```\n",
    "7bdggeya8\n",
    "9daíikem3\n",
    "7kdsal,laue3\n",
    "1**-+-+dadae7\n",
    "```\n",
    "\n",
    "Každá řádka je údaj, který odpovídá síle a směru větru. Na základě těchto měření potom\n",
    "Dárkoborec určí elevaci, pod kterou musí katapult odpálit svůj náklad tak, aby se\n",
    "dostal na správné místo na obloze, a sníh neskončil někde v oceánu."
   ]
  },
  {
   "cell_type": "code",
   "execution_count": null,
   "metadata": {},
   "outputs": [],
   "source": []
  },
  {
   "cell_type": "code",
   "execution_count": null,
   "metadata": {},
   "outputs": [],
   "source": []
  },
  {
   "cell_type": "markdown",
   "metadata": {},
   "source": [
    "## Vzorové zadání\n",
    "\n",
    "> Na následujících buňkách neměň žádný kód, dokud k tomu nedostaneš instrukci.\n",
    "\n",
    "\n",
    "> Každou jednotlivou buňku spusť. Pokud je to buňka s kódem, kód si přečti a snaž se pochopit, co dělá.\n",
    "\n",
    "Dárkoborec se ale někam zatoulal, nebo se někde ztratil. Není k nalezení. Dívali jste se všude,\n",
    "včetně ledničky (občas se zapomene v šuplíku na hermelíny, které k smrti miluje), ale není nikde\n",
    "k nalezení.\n",
    "\n",
    "Dobromysl si jenom pamatuje, že Dárkoborec postupuje takhle:\n",
    "\n",
    "- jde seznamem řádek za řádkem\n",
    "- sečte čislici, která je na prvním místě, a číslici která je na konci\n",
    "- pokud je součet větší než 5, měření ignoruje, protože je to nějaká odchylka\n",
    "- pokud ale součet **není** větší než pět, přidá ho na seznam správných měření\n",
    "- potom každé tohle správné pozorování násobí dvanácti, aby získal správný úhel\n",
    "- všechna tahle pozorování, vynásobená dvanácti, potom zprůměruje\n",
    "- výsledné číslo je úhel, pod kterým katapult má vystřelit svůj náklad\n",
    "\n",
    "Dobromysl si zoufá, a neví co dělat.\n",
    "\n",
    "\"**Fajn!** To je přece hračka, ne?\" - odpovíš mu, a napíšeš následující program, \n",
    "který vypočítá úhel palby."
   ]
  },
  {
   "cell_type": "code",
   "execution_count": 1,
   "metadata": {},
   "outputs": [
    {
     "name": "stdout",
     "output_type": "stream",
     "text": [
      "['7bdggeya8', '1daíikem3', '2kdsal,laue3', '1**-+-+dadae7']\n"
     ]
    }
   ],
   "source": [
    "# tohle jsou měření z meteorologického přístroje, která ti dal Dobromysl jako vzor\n",
    "# na vstupu máme text (str), a pomocí metody splitlines() z něj uděláme list\n",
    "mereni = \"\"\"7bdggeya8\n",
    "1daíikem3\n",
    "2kdsal,laue3\n",
    "1**-+-+dadae7\"\"\".splitlines()\n",
    "\n",
    "print(mereni)"
   ]
  },
  {
   "cell_type": "code",
   "execution_count": 2,
   "metadata": {},
   "outputs": [],
   "source": [
    "# tohle je funkce, kterou jsi napsal\n",
    "def spravna_mereni(mereni: list):\n",
    "    \"\"\"Funkce dostane na vstupu list, a vrací správná měření.\n",
    "    - jde seznamem měření řádek za řádkem\n",
    "    - sečte čislici, která je na prvním místě, a číslici která je na konci\n",
    "    - pokud je součet větší než 5, měření ignoruje, protože je to nějaká odchylka\n",
    "    - pokud ale součet **není** větší než pět, přidá ho na seznam správných měření\n",
    "    - potom každé tohle správné pozorování násobí dvanácti, aby získal správný úhel\n",
    "    - každé správné měření se odloží do seznamu, a na konci se vrátí zpátky\n",
    "\n",
    "    Args:\n",
    "        mereni (list): seznam měření v podobě \"9daíikem3\"\n",
    "\n",
    "    Returns:\n",
    "        pouze_spravna (list): seznam správných měření\n",
    "    \"\"\"\n",
    "    # začínáme s prázdným seznamem správných měření\n",
    "    pouze_spravna = []\n",
    "    \n",
    "    for m in mereni:\n",
    "        # na první a poslední pozici je číslo\n",
    "        prvni = int(m[0])\n",
    "        posledni = int(m[-1])\n",
    "        # čísla sečtu, a pokud je výsledek <= 5, je to správné měření\n",
    "        # takové měření musím ještě násobit dvanácti\n",
    "        soucet = prvni + posledni\n",
    "        if soucet <= 5:\n",
    "            uhel = soucet * 12\n",
    "            pouze_spravna.append(uhel)\n",
    "    \n",
    "    return pouze_spravna"
   ]
  },
  {
   "cell_type": "markdown",
   "metadata": {},
   "source": [
    "Následně se rozhodneš otestovat, jestli funkce vrací správná měření na základě příkladu,\n",
    "který ti dal Dobromysl.\n",
    "\n",
    "```\n",
    "7bdggeya8       - součet je 15, to není správně\n",
    "1daíikem3       - součet 4, SPRÁVNĚ, úhel = 4 * 12 = 48\n",
    "2kdsal,laue3    - součet 5, SPRÁVNĚ, úhel = 5 * 12 = 60\n",
    "1**-+-+dadae7   - součet 8, špatně\n",
    "```"
   ]
  },
  {
   "cell_type": "code",
   "execution_count": 3,
   "metadata": {},
   "outputs": [
    {
     "name": "stdout",
     "output_type": "stream",
     "text": [
      "[48, 60]\n"
     ]
    }
   ],
   "source": [
    "# samotný test - a je to v pořádku\n",
    "print(spravna_mereni(mereni))"
   ]
  },
  {
   "cell_type": "code",
   "execution_count": null,
   "metadata": {},
   "outputs": [],
   "source": []
  },
  {
   "cell_type": "code",
   "execution_count": null,
   "metadata": {},
   "outputs": [],
   "source": []
  },
  {
   "cell_type": "markdown",
   "metadata": {},
   "source": [
    "Zbývá už jenom umět spočítat průměr. "
   ]
  },
  {
   "cell_type": "code",
   "execution_count": 4,
   "metadata": {},
   "outputs": [],
   "source": [
    "def prumer(spravna_mereni):\n",
    "    \"\"\"Funkce vrátí průměr z měření, která dostane jako list.    \n",
    "\n",
    "    Args:\n",
    "        spravna_mereni (list): seznam měření (číselných)\n",
    "\n",
    "    Returns:\n",
    "        průměr (float): průměr z měření\n",
    "    \"\"\"\n",
    "    pocet = len(spravna_mereni)\n",
    "    soucet = sum(spravna_mereni) # ano, existuje funkce sum, která ti vrátí součet!\n",
    "    return soucet/pocet"
   ]
  },
  {
   "cell_type": "code",
   "execution_count": 5,
   "metadata": {},
   "outputs": [
    {
     "name": "stdout",
     "output_type": "stream",
     "text": [
      "54.0\n"
     ]
    }
   ],
   "source": [
    "# průměr z hodnot 48 a 60 je 54, a to je tedy správně\n",
    "print(prumer(spravna_mereni(mereni)))"
   ]
  },
  {
   "cell_type": "code",
   "execution_count": null,
   "metadata": {},
   "outputs": [],
   "source": []
  },
  {
   "cell_type": "code",
   "execution_count": null,
   "metadata": {},
   "outputs": [],
   "source": []
  },
  {
   "cell_type": "markdown",
   "metadata": {},
   "source": [
    "Zapojíš tedy svůj program do výstupu z přístroje, který měří sílu větru, a chystáš se \n",
    "sdělit Domromyslovi pod jakým úhlem má poslat další sněhovou kouli....\n",
    "\n",
    "Nelam si zatím hlavu s tím, co dělá následující buňka, prostě ji spusť."
   ]
  },
  {
   "cell_type": "code",
   "execution_count": 6,
   "metadata": {},
   "outputs": [],
   "source": [
    "from severni_pol import vetromeric"
   ]
  },
  {
   "cell_type": "code",
   "execution_count": 7,
   "metadata": {},
   "outputs": [],
   "source": [
    "# okamžik pravdy .... pod jakým úhlem budeme střílet?\n",
    "mereni = vetromeric.mereni()"
   ]
  },
  {
   "cell_type": "code",
   "execution_count": 8,
   "metadata": {},
   "outputs": [
    {
     "ename": "ValueError",
     "evalue": "invalid literal for int() with base 10: 'a'",
     "output_type": "error",
     "traceback": [
      "\u001b[1;31m---------------------------------------------------------------------------\u001b[0m",
      "\u001b[1;31mValueError\u001b[0m                                Traceback (most recent call last)",
      "Cell \u001b[1;32mIn[8], line 1\u001b[0m\n\u001b[1;32m----> 1\u001b[0m \u001b[38;5;28mprint\u001b[39m(prumer(\u001b[43mspravna_mereni\u001b[49m\u001b[43m(\u001b[49m\u001b[43mmereni\u001b[49m\u001b[43m)\u001b[49m))\n",
      "Cell \u001b[1;32mIn[2], line 22\u001b[0m, in \u001b[0;36mspravna_mereni\u001b[1;34m(mereni)\u001b[0m\n\u001b[0;32m     18\u001b[0m pouze_spravna \u001b[38;5;241m=\u001b[39m []\n\u001b[0;32m     20\u001b[0m \u001b[38;5;28;01mfor\u001b[39;00m m \u001b[38;5;129;01min\u001b[39;00m mereni:\n\u001b[0;32m     21\u001b[0m     \u001b[38;5;66;03m# na první a poslední pozici je číslo\u001b[39;00m\n\u001b[1;32m---> 22\u001b[0m     prvni \u001b[38;5;241m=\u001b[39m \u001b[38;5;28;43mint\u001b[39;49m\u001b[43m(\u001b[49m\u001b[43mm\u001b[49m\u001b[43m[\u001b[49m\u001b[38;5;241;43m0\u001b[39;49m\u001b[43m]\u001b[49m\u001b[43m)\u001b[49m\n\u001b[0;32m     23\u001b[0m     posledni \u001b[38;5;241m=\u001b[39m \u001b[38;5;28mint\u001b[39m(m[\u001b[38;5;241m-\u001b[39m\u001b[38;5;241m1\u001b[39m])\n\u001b[0;32m     24\u001b[0m     \u001b[38;5;66;03m# čísla sečtu, a pokud je výsledek <= 5, je to správné měření\u001b[39;00m\n\u001b[0;32m     25\u001b[0m     \u001b[38;5;66;03m# takové měření musím ještě násobit dvanácti\u001b[39;00m\n",
      "\u001b[1;31mValueError\u001b[0m: invalid literal for int() with base 10: 'a'"
     ]
    }
   ],
   "source": [
    "print(prumer(spravna_mereni(mereni)))"
   ]
  },
  {
   "cell_type": "code",
   "execution_count": null,
   "metadata": {},
   "outputs": [],
   "source": []
  },
  {
   "cell_type": "markdown",
   "metadata": {},
   "source": [
    "Ale ne! Co se stalo? Kde je chyba?"
   ]
  },
  {
   "cell_type": "code",
   "execution_count": 9,
   "metadata": {},
   "outputs": [
    {
     "name": "stdout",
     "output_type": "stream",
     "text": [
      "['a21ssews2', '11**/*-3', '2sssks1sssss', '9aaadsesdd8', '8eeee1', '1dddd3']\n"
     ]
    }
   ],
   "source": [
    "print(mereni)"
   ]
  },
  {
   "cell_type": "markdown",
   "metadata": {},
   "source": [
    "Vidíš kde je problém?\n",
    "\n",
    "Záměrně jsem tady nechal několik prázdných buněk, abys hned neviděl řešení. Zkus nejdřív přijít **sám** na to, kde je chyba,\n",
    "a **potom** čti dál (jeď dál v textu).\n",
    "\n",
    "Tohle jsou ta měření: [mereni.txt](./severni_pol/mereni.txt) - je to jiný pohled na to, co ten přístroj vrací."
   ]
  },
  {
   "cell_type": "code",
   "execution_count": null,
   "metadata": {},
   "outputs": [],
   "source": []
  },
  {
   "cell_type": "code",
   "execution_count": null,
   "metadata": {},
   "outputs": [],
   "source": []
  },
  {
   "cell_type": "code",
   "execution_count": null,
   "metadata": {},
   "outputs": [],
   "source": []
  },
  {
   "cell_type": "code",
   "execution_count": null,
   "metadata": {},
   "outputs": [],
   "source": []
  },
  {
   "cell_type": "markdown",
   "metadata": {},
   "source": [
    "Ukazuje se, že ten zatracený přístroj vrací dvě, nebo víc číslic, a to kdekoliv v textu\n",
    "měření. Nedá se dopředu říct, na jaké pozici. \n",
    "\n",
    "Musíš tedy algoritmus upravit tak, aby se našla **první** číslice, a **poslední** číslice,\n",
    "a z nich sestavit to správné měření."
   ]
  },
  {
   "cell_type": "markdown",
   "metadata": {},
   "source": [
    "## Nové zadání\n",
    "\n",
    "Tady budeš upravovat kód. \n",
    "\n",
    "Tvým úkolem je:\n",
    "\n",
    "- sestavit seznam správných měření\n",
    "- napsat \"docstring\" upravené funkce (takový ten text pod slovem def)\n",
    "- vypočítat nový úhel výstřelu jako průměr (na to už funkci máš, jmenuje se `prumer`)"
   ]
  },
  {
   "cell_type": "code",
   "execution_count": 12,
   "metadata": {},
   "outputs": [],
   "source": [
    "CISLICE = \"0123456789\""
   ]
  },
  {
   "cell_type": "code",
   "execution_count": 18,
   "metadata": {},
   "outputs": [],
   "source": [
    "vs_cislice = []\n",
    "for znak in mereni[0]:\n",
    "    if znak in CISLICE:\n",
    "        vs_cislice.append(znak)\n",
    "        "
   ]
  },
  {
   "cell_type": "code",
   "execution_count": 19,
   "metadata": {},
   "outputs": [
    {
     "name": "stdout",
     "output_type": "stream",
     "text": [
      "['2', '1', '2']\n"
     ]
    }
   ],
   "source": [
    "print(vs_cislice)"
   ]
  },
  {
   "cell_type": "code",
   "execution_count": 34,
   "metadata": {},
   "outputs": [],
   "source": [
    "def cisla(mereni):\n",
    "    vs_cislice = []\n",
    "    for znak in mereni:\n",
    "        if znak in CISLICE:\n",
    "            vs_cislice.append(znak)\n",
    "    return vs_cislice\n",
    "        "
   ]
  },
  {
   "cell_type": "code",
   "execution_count": 35,
   "metadata": {},
   "outputs": [
    {
     "data": {
      "text/plain": [
       "['a21ssews2', '11**/*-3', '2sssks1sssss', '9aaadsesdd8', '8eeee1', '1dddd3']"
      ]
     },
     "execution_count": 35,
     "metadata": {},
     "output_type": "execute_result"
    }
   ],
   "source": [
    "mereni"
   ]
  },
  {
   "cell_type": "code",
   "execution_count": 36,
   "metadata": {},
   "outputs": [
    {
     "name": "stdout",
     "output_type": "stream",
     "text": [
      "['2', '1', '2']\n"
     ]
    }
   ],
   "source": [
    "print(cisla(mereni[0]))"
   ]
  },
  {
   "cell_type": "code",
   "execution_count": 58,
   "metadata": {},
   "outputs": [],
   "source": [
    "# tohle je vzrovoý, ale nefunkční kód, který máš upravit\n",
    "def spravna_mereni(mereni: list):\n",
    "    \"\"\"Funkce dostane na vstupu list, a vrací správná měření.\n",
    "    \n",
    "    TODO - tady popiš, co to přesně dělá!!!\n",
    "\n",
    "    Args:\n",
    "        mereni (list): seznam měření v podobě \"9daíikem3\"\n",
    "\n",
    "    Returns:\n",
    "        pouze_spravna (list): seznam správných měření\n",
    "    \"\"\"\n",
    "    # začínáme s prázdným seznamem správných měření\n",
    "    pouze_spravna = []\n",
    "\n",
    "    for m in mereni:                \n",
    "        vsechny_cisla = cisla(m)        \n",
    "        # na první a poslední pozici je číslo\n",
    "        prvni = int(vsechny_cisla[0])\n",
    "        posledni = int(vsechny_cisla[-1])\n",
    "        # čísla sečtu, a pokud je výsledek <= 5, je to správné měření\n",
    "        # takové měření musím ještě násobit dvanácti\n",
    "        soucet = prvni + posledni\n",
    "        if soucet <= 5:\n",
    "            uhel = soucet * 12\n",
    "            pouze_spravna.append(uhel)\n",
    "\n",
    "    return pouze_spravna"
   ]
  },
  {
   "cell_type": "code",
   "execution_count": 59,
   "metadata": {},
   "outputs": [
    {
     "data": {
      "text/plain": [
       "[48, 48, 36, 48]"
      ]
     },
     "execution_count": 59,
     "metadata": {},
     "output_type": "execute_result"
    }
   ],
   "source": [
    "spravna_mereni(mereni)"
   ]
  },
  {
   "cell_type": "markdown",
   "metadata": {},
   "source": [
    "Jak poznáš, že jsi uspěl? Jednoduše. Když funkci zavoláš, a předáš jí seznam měření z přístroje, nesmí selhat."
   ]
  },
  {
   "cell_type": "code",
   "execution_count": 39,
   "metadata": {},
   "outputs": [],
   "source": [
    "# získej seznam měření\n",
    "mereni = vetromeric.mereni()"
   ]
  },
  {
   "cell_type": "code",
   "execution_count": null,
   "metadata": {},
   "outputs": [],
   "source": [
    "# otestuj, zda funkce funguje správně; v tomhle okamžiku nefunguje tak, jak má"
   ]
  },
  {
   "cell_type": "code",
   "execution_count": 50,
   "metadata": {},
   "outputs": [
    {
     "name": "stdout",
     "output_type": "stream",
     "text": [
      "m je a21ssews2\n",
      "cisla jsou ['2', '1', '2']\n",
      "m je 11**/*-3\n",
      "cisla jsou ['1', '1', '3']\n",
      "m je 2sssks1sssss\n",
      "cisla jsou ['2', '1']\n",
      "m je 9aaadsesdd8\n",
      "cisla jsou ['9', '8']\n",
      "m je 8eeee1\n",
      "cisla jsou ['8', '1']\n",
      "m je 1dddd3\n",
      "cisla jsou ['1', '3']\n"
     ]
    },
    {
     "data": {
      "text/plain": [
       "[48, 48, 36, 48]"
      ]
     },
     "execution_count": 50,
     "metadata": {},
     "output_type": "execute_result"
    }
   ],
   "source": [
    "spravna_mereni(mereni)"
   ]
  },
  {
   "cell_type": "markdown",
   "metadata": {},
   "source": [
    "# Okamžik pravdy ...\n",
    "\n",
    "Vypočítej úhel, a vystřel z katapultu."
   ]
  },
  {
   "cell_type": "code",
   "execution_count": 60,
   "metadata": {},
   "outputs": [],
   "source": [
    "# okamžik pravdy .... tady musíš vypočítat úhel!\n",
    "uhel = prumer(spravna_mereni(mereni))"
   ]
  },
  {
   "cell_type": "code",
   "execution_count": 61,
   "metadata": {},
   "outputs": [
    {
     "data": {
      "text/plain": [
       "45.0"
      ]
     },
     "execution_count": 61,
     "metadata": {},
     "output_type": "execute_result"
    }
   ],
   "source": [
    "uhel "
   ]
  },
  {
   "cell_type": "code",
   "execution_count": 64,
   "metadata": {},
   "outputs": [
    {
     "data": {
      "text/markdown": [
       "\n",
       "# To je správně!\n",
       "                         \n",
       "![win.png](./imgs/win.png)                       \n"
      ]
     },
     "metadata": {},
     "output_type": "display_data"
    }
   ],
   "source": [
    "# samotný výstřel\n",
    "from severni_pol import katapult\n",
    "katapult.vystrel(uhel)"
   ]
  },
  {
   "cell_type": "markdown",
   "metadata": {},
   "source": [
    "# Cvičení"
   ]
  },
  {
   "cell_type": "code",
   "execution_count": 103,
   "metadata": {},
   "outputs": [],
   "source": [
    "import random\n",
    "nahodna_cisla = [ random.randint(1,100) for i in range(100) ]"
   ]
  },
  {
   "cell_type": "code",
   "execution_count": 89,
   "metadata": {},
   "outputs": [],
   "source": [
    "nahodna_cisla = []\n",
    "for i in range(100):\n",
    "    nahodna_cisla.append(random.randint(1,100))"
   ]
  },
  {
   "cell_type": "code",
   "execution_count": null,
   "metadata": {},
   "outputs": [],
   "source": []
  },
  {
   "cell_type": "code",
   "execution_count": 101,
   "metadata": {},
   "outputs": [],
   "source": [
    "def nejmensi(nahodna_cisla):\n",
    "    nej_cislo = 9999999999\n",
    "    for b in nahodna_cisla:\n",
    "        if b < nej_cislo:\n",
    "            nej_cislo = b\n",
    "    return nej_cislo\n",
    "        "
   ]
  },
  {
   "cell_type": "code",
   "execution_count": 71,
   "metadata": {},
   "outputs": [
    {
     "data": {
      "text/plain": [
       "4"
      ]
     },
     "execution_count": 71,
     "metadata": {},
     "output_type": "execute_result"
    }
   ],
   "source": [
    "nejmensi(nahodna_cisla)"
   ]
  },
  {
   "cell_type": "code",
   "execution_count": 85,
   "metadata": {},
   "outputs": [],
   "source": [
    "def nejvetsi(nahodna_cisla):\n",
    "    nejv_cislo = 0\n",
    "    for a in nahodna_cisla:        \n",
    "        if a > nejv_cislo:            \n",
    "            nejv_cislo = a\n",
    "    return nejv_cislo"
   ]
  },
  {
   "cell_type": "code",
   "execution_count": 86,
   "metadata": {},
   "outputs": [
    {
     "data": {
      "text/plain": [
       "100"
      ]
     },
     "execution_count": 86,
     "metadata": {},
     "output_type": "execute_result"
    }
   ],
   "source": [
    "nejvetsi(nahodna_cisla)"
   ]
  },
  {
   "cell_type": "code",
   "execution_count": 95,
   "metadata": {},
   "outputs": [],
   "source": [
    "def soucet(nahodna_cisla):\n",
    "    ss = 0\n",
    "    for s in nahodna_cisla:\n",
    "        ss = ss + s\n",
    "    return ss"
   ]
  },
  {
   "cell_type": "code",
   "execution_count": 96,
   "metadata": {},
   "outputs": [
    {
     "data": {
      "text/plain": [
       "4864"
      ]
     },
     "execution_count": 96,
     "metadata": {},
     "output_type": "execute_result"
    }
   ],
   "source": [
    "soucet(nahodna_cisla)"
   ]
  },
  {
   "cell_type": "code",
   "execution_count": 104,
   "metadata": {},
   "outputs": [],
   "source": [
    "def plus_minus(nahodna_cisla):\n",
    "    ss = 0\n",
    "    for s in nahodna_cisla:\n",
    "        if s % 2 == 1:\n",
    "            ss = ss - s\n",
    "        else: \n",
    "            ss= ss + s\n",
    "        \n",
    "    return ss"
   ]
  },
  {
   "cell_type": "code",
   "execution_count": 105,
   "metadata": {},
   "outputs": [
    {
     "data": {
      "text/plain": [
       "255"
      ]
     },
     "execution_count": 105,
     "metadata": {},
     "output_type": "execute_result"
    }
   ],
   "source": [
    "plus_minus(nahodna_cisla)"
   ]
  },
  {
   "cell_type": "code",
   "execution_count": 107,
   "metadata": {},
   "outputs": [],
   "source": [
    "def jen_licha(nahodna_cisla):\n",
    "    seznam = []\n",
    "    for d in nahodna_cisla:\n",
    "        if d % 2 == 1:\n",
    "            seznam.append(d)\n",
    "    return seznam"
   ]
  },
  {
   "cell_type": "code",
   "execution_count": 109,
   "metadata": {},
   "outputs": [
    {
     "data": {
      "text/plain": [
       "[97,\n",
       " 55,\n",
       " 1,\n",
       " 73,\n",
       " 9,\n",
       " 39,\n",
       " 77,\n",
       " 1,\n",
       " 41,\n",
       " 25,\n",
       " 73,\n",
       " 5,\n",
       " 35,\n",
       " 67,\n",
       " 39,\n",
       " 49,\n",
       " 65,\n",
       " 27,\n",
       " 43,\n",
       " 23,\n",
       " 37,\n",
       " 21,\n",
       " 53,\n",
       " 69,\n",
       " 39,\n",
       " 69,\n",
       " 69,\n",
       " 39,\n",
       " 47,\n",
       " 81,\n",
       " 21,\n",
       " 59,\n",
       " 85,\n",
       " 41,\n",
       " 99,\n",
       " 35,\n",
       " 89,\n",
       " 43,\n",
       " 29,\n",
       " 11,\n",
       " 61,\n",
       " 65,\n",
       " 69,\n",
       " 99,\n",
       " 3,\n",
       " 83,\n",
       " 55,\n",
       " 75,\n",
       " 51]"
      ]
     },
     "execution_count": 109,
     "metadata": {},
     "output_type": "execute_result"
    }
   ],
   "source": [
    "jen_licha(nahodna_cisla)"
   ]
  },
  {
   "cell_type": "code",
   "execution_count": null,
   "metadata": {},
   "outputs": [],
   "source": []
  }
 ],
 "metadata": {
  "kernelspec": {
   "display_name": "Python 3 (ipykernel)",
   "language": "python",
   "name": "python3"
  },
  "language_info": {
   "codemirror_mode": {
    "name": "ipython",
    "version": 3
   },
   "file_extension": ".py",
   "mimetype": "text/x-python",
   "name": "python",
   "nbconvert_exporter": "python",
   "pygments_lexer": "ipython3",
   "version": "3.12.2"
  }
 },
 "nbformat": 4,
 "nbformat_minor": 4
}
