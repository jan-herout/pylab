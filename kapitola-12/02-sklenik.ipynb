{
 "cells": [
  {
   "cell_type": "markdown",
   "metadata": {},
   "source": [
    "# Rajčata"
   ]
  },
  {
   "cell_type": "markdown",
   "metadata": {},
   "source": [
    "I elfové si po těžkém dni plném práce rádi odpočinou. A odpočinek jim nejvíc chutná,\n",
    "když si k němu můžou zakousnout svojí oblíbenou pochoutku: obrovská, kulatá, slaďoučká\n",
    "červená rajčata.\n",
    "\n",
    "Jenže... na základně SantaK, poblíž severního pólu, rajčata kupodivu nechtějí růst \n",
    "(koho by to napadlo, že?). Elfové však jsou vynalézaví, a poradí si v každé situaci.\n",
    "\n",
    "![rajče](./imgs/rajce.png)"
   ]
  },
  {
   "cell_type": "markdown",
   "metadata": {},
   "source": [
    "## Skleník\n",
    "\n",
    "Elfové si na severním pólu postavili skleník. Je vytápěný zemním plynem (čert ví, kam přesně vede ta dlouhá trubka která ho vede dovnitř, šušká se o tom že vede hodně, hodně hluboko). Rajčata jsou pěstovaná hydroponicky. Bohužel, kvalita vody na severním pólu je hodně mizerná, a elfové musí vodu docela složitě upravovat.\n",
    "\n",
    "Připravili si na to téměř dokonalou úpravnou vody. Na starosti ji má starší elf, všeobecně se mu říká Šmudla, protože je skoro pořád zamazaný kolomazí (úpravn vody obsahuje také mechanické součástky, o které je třeba se starat).\n",
    "\n",
    "Jednoho dne ale Šmudla nasednul do sobích sání, a odjel s šéfem na služební cestu někam do teplých krajin. Elfové zůstali na základně SantaK sami, a k jejich hrůze úpravna vody přestala fungovat.\n",
    "\n",
    "> ó ne, všechna rajčata uschnou!\n",
    "> "
   ]
  },
  {
   "cell_type": "markdown",
   "metadata": {},
   "source": [
    "## Zadání"
   ]
  },
  {
   "cell_type": "markdown",
   "metadata": {},
   "source": [
    "Naštěstí se mezi nimi našel jeden mladý kluk, který byl u starého Šmudly v učení, a který si pamatoval základní pravidla, která je pro úpravu vody nutná splnit.\n",
    "\n",
    "- kvalitu vody sleduje docela složitá měřící aparatura, která každou vteřinu provede spektrografický rozbor malé kapky vody, která protéká potrubím\n",
    "- výsledkem tohoto měření je řetězec, který sleduje různé parametry kvality vody. Může vypadat třeba nějak takhle: `a23+i45c26-`\n",
    "\n",
    "Pravidla pro sestavení onoho řetězce:\n",
    "\n",
    "- měření se skládá vždy z písmenka, potom přesně dvou číslic, a za nimi je znaménko.\n",
    "- písmenko udává **prvek** jehož přítomnost ve vzorku hledáme\n",
    "- číslice znamená **hodnotu** měření (kolik toho prvku ve vodě přebývá, nebo chybí)\n",
    "- znaménko znamená buď **přebytek** nebo **nedostatek** daného prvku\n",
    "  - pokud za číslicí je znaménko `+`, znamená to **přebytek** daného prvku ve vzorku vody\n",
    "  - pokud za číslicí je znaménko `-`, znamená to **nedostatek** daného prvku ve vzorku vody\n",
    "\n",
    "Takže například:\n",
    "\n",
    "`\"a23+\"`\n",
    "\n",
    "- prvek je `\"a\"`\n",
    "- hodnota je `23`\n",
    "- znaménko je `+`, tedy **přebytek** daného prvku\n",
    "\n",
    "Napiš program, který daný řetězec sestaví na trojice prvků, které popisují dané měření."
   ]
  },
  {
   "cell_type": "markdown",
   "metadata": {},
   "source": [
    "**AHA**, zajásáš, a napíšeš zhruba následující program."
   ]
  },
  {
   "cell_type": "code",
   "execution_count": 1,
   "metadata": {},
   "outputs": [],
   "source": [
    "# jeden odběr kvality vody\n",
    "mereni = \"a21+b76-c43-d89+\""
   ]
  },
  {
   "cell_type": "code",
   "execution_count": 2,
   "metadata": {},
   "outputs": [],
   "source": [
    "# funkce, která ho rozebere na trojice měření\n",
    "def seznam_mereni(vstupni_text: str):\n",
    "    # sestavíme si prázdný seznam měření\n",
    "    seznam = []\n",
    "    i = 0\n",
    "    while i < len(vstupni_text):\n",
    "        # získej trojici prvek, hodnota, měření\n",
    "        prvek = vstupni_text[i]\n",
    "        hodnota = vstupni_text[i+1:i+3]\n",
    "        znamenko = vstupni_text[i+3]\n",
    "\n",
    "        # sestav z něj jedno měření\n",
    "        mereni = [ prvek, hodnota, znamenko]\n",
    "\n",
    "        # podíváme se na to měření\n",
    "        # a současně ho přidáme na seznam\n",
    "        seznam.append(mereni)\n",
    "\n",
    "        # posuň se na další trojici\n",
    "        i = i + 4\n",
    "    return seznam"
   ]
  },
  {
   "cell_type": "markdown",
   "metadata": {},
   "source": [
    "Netrpělivě svůj program zapojíš do úpravny vody, a podíváš se, jak funguje:"
   ]
  },
  {
   "cell_type": "code",
   "execution_count": 3,
   "metadata": {},
   "outputs": [
    {
     "name": "stdout",
     "output_type": "stream",
     "text": [
      "Měření za danou minutu: a21+b76-c43-d89+\n",
      "Trojice: ['a', '21', '+']; prvek='a', hodnota='21', znamenko='+'\n",
      "Trojice: ['b', '76', '-']; prvek='b', hodnota='76', znamenko='-'\n",
      "Trojice: ['c', '43', '-']; prvek='c', hodnota='43', znamenko='-'\n",
      "Trojice: ['d', '89', '+']; prvek='d', hodnota='89', znamenko='+'\n"
     ]
    }
   ],
   "source": [
    "# jeden odběr kvality vody\n",
    "mereni = \"a21+b76-c43-d89+\"\n",
    "\n",
    "# s čím tedy vlastně pracujeme?\n",
    "print(f\"Měření za danou minutu: {mereni}\")\n",
    "\n",
    "# zavoláme funkci, předáme jí vstupní text, a ona nám vrátí list, kde\n",
    "# každá položka je také list - a to list o třech položkách\n",
    "for m in seznam_mereni(mereni): \n",
    "    # m je tedy list, a v něm je něco jako : [\"a\", \"21\", \"+\"]\n",
    "    # následující řádek tento list ROZLOŽÍ do tří proměnných\n",
    "    # všimni si toho, že před rovnítkem jsou tři proměnné ...\n",
    "    # tím říkáme, že chceme hodnotu m rozložit na tři části\n",
    "    prvek, hodnota, znamenko = m\n",
    "    print(f\"Trojice: {m}; {prvek=}, {hodnota=}, {znamenko=}\")"
   ]
  },
  {
   "cell_type": "markdown",
   "metadata": {},
   "source": [
    "**Hurá**, funguje to. Úpravna vody bude zachráněna.\n",
    "\n",
    "\"Počkej, počkej...\" krotí tvojí radost Šmudlův učeň. \"To není všechno. Nenechal jsi mě domluvit!\""
   ]
  },
  {
   "cell_type": "markdown",
   "metadata": {},
   "source": [
    "## Kompletní zadání\n",
    "\n",
    "Šmudla ti potom vysvětlil kompletní pravidla toho, ja funguje měřící aparatura\n",
    "sledující kvalitu vody ve skleníku.\n",
    "\n",
    "\n",
    "- měření se skládá vždy z písmenka, potom přesně dvou číslic, a za nimi **může**, ale **nemusí** **být** znaménko.\n",
    "- písmenko udává **prvek** jehož přítomnost ve vzorku hledáme\n",
    "- číslice znamená **hodnotu** měření (kolik toho prvku ve vodě přebývá, nebo chybí)\n",
    "- pokud znaménko **není** přítomné, znamená to, že je ve vodě toho prvku \"tak akorát\"\n",
    "- pokud znaménko je přítomné, indikuje buď přebytek, nebo nedostatek daného prvku\n",
    "- znaménko znamená buď **přebytek** nebo **nedostatek** daného prvku\n",
    "  - pokud za číslicí je znaménko `+`, znamená to **přebytek** daného prvku ve vzorku vody\n",
    "  - pokud za číslicí je znaménko `-`, znamená to **nedostatek** daného prvku ve vzorku vody\n",
    "- zajímají nás pouze **taková** měření, která znamenají buď přebytek, nebo nedostatek daného prvku\n",
    "  - pokud je znaménko `+`, musíme převést **prvek** na uppercase, což znamená, že do vody přidáme \"antigen\", který prvek neutralizuje\n",
    "  - pokud je znaménko `-`, na prvek nesaháme, ale musíme znaménko otočit (má se z něj tedy stát `+`) - prvek do vody chceme doplnit\n"
   ]
  },
  {
   "cell_type": "markdown",
   "metadata": {},
   "source": [
    "Takže například:\n",
    "\n",
    "- vstupní měření je : `\"a25b76-c34+\"`\n",
    "- první měření je: `prvek=\"a\"`, `hodnota=\"25\"`, ale znaménko žádné není - toto měření tedy ignorujeme\n",
    "- druhé měření je: `prvek=\"b\"`, `hodnota=\"76\"`, znaménko je `-`\n",
    "  - to znamená, že prvku je nedostatek\n",
    "  - to znamená, že na výstupu chceme vyrobit trojici `[\"b\", \"76\", \"+\"]` - ze znaménka `-` se stalo `+`\n",
    "- třetí měření je: `prvek=\"c\"`, `hodnota=\"34\"`, `znamenko=\"+\"`\n",
    "  - to znamená, že prvku je přebytek\n",
    "  - to znamená, že na výstupu chceme vyrobit trojici `[\"C\", \"34\", \"+\"]`\n"
   ]
  },
  {
   "cell_type": "code",
   "execution_count": 4,
   "metadata": {},
   "outputs": [],
   "source": [
    "# toto je původní funkce, která seznam měření chce rozebrat na trojice\n",
    "# ale nefunguje, nebere v potaz tato fakta:\n",
    "#  - znaménko tam může, ale nemusí být\n",
    "#  - pokud znaménko nemám, tohle měření ignoruji\n",
    "#  - pokud je znaménk plus, měním prvek na PRVEK (uppercase), např a => A\n",
    "#  - pokud je znaménko mínus, měním ho na plus\n",
    "#  - výslednou trojici odložím do seznamu instrukcí (proměnná seznam)\n",
    "def instrukce_z_mereni(vstupni_text: str):\n",
    "    # sestavíme si prázdný seznam měření\n",
    "    seznam = []\n",
    "    i = 0\n",
    "    while i < len(vstupni_text):\n",
    "        # získej trojici prvek, hodnota, měření\n",
    "        prvek = vstupni_text[i]\n",
    "        hodnota = vstupni_text[i + 1 : i + 3]\n",
    "        znamenko = vstupni_text[i + 3]\n",
    "\n",
    "        # sestav z něj jedno měření\n",
    "        mereni = [prvek, hodnota, znamenko]\n",
    "\n",
    "        # podíváme se na to měření\n",
    "        # a současně ho přidáme na seznam\n",
    "        seznam.append(mereni)\n",
    "\n",
    "        # posuň se na další trojici\n",
    "        i = i + 4\n",
    "    return seznam"
   ]
  },
  {
   "cell_type": "code",
   "execution_count": 5,
   "metadata": {},
   "outputs": [],
   "source": [
    "# takže s tímto vstupem ...\n",
    "mereni = \"a25b76-c34+\"\n",
    "\n",
    "# ... chceme mít tento výstup\n",
    "chtene_instrukce = [\n",
    "    [\"b\", \"76\", \"+\"],\n",
    "    [\"C\", \"34\", \"+\"],\n",
    "]"
   ]
  },
  {
   "cell_type": "code",
   "execution_count": 6,
   "metadata": {},
   "outputs": [
    {
     "ename": "IndexError",
     "evalue": "string index out of range",
     "output_type": "error",
     "traceback": [
      "\u001b[1;31m---------------------------------------------------------------------------\u001b[0m",
      "\u001b[1;31mIndexError\u001b[0m                                Traceback (most recent call last)",
      "Cell \u001b[1;32mIn[6], line 8\u001b[0m\n\u001b[0;32m      1\u001b[0m \u001b[38;5;66;03m# ... tady chceme získat instrukce podle měření\u001b[39;00m\n\u001b[0;32m      2\u001b[0m \u001b[38;5;66;03m# a porovnat to na chtěné instrukce, abychom ověřili, že je program napsaný správně\u001b[39;00m\n\u001b[0;32m      3\u001b[0m \u001b[38;5;66;03m# problém ale je ten, že správně napsaný není; funkce skončí s chybou\u001b[39;00m\n\u001b[0;32m      4\u001b[0m \u001b[38;5;66;03m#\u001b[39;00m\n\u001b[0;32m      5\u001b[0m \u001b[38;5;66;03m# ZKUS TO OPRAVIT !!!\u001b[39;00m\n\u001b[0;32m      6\u001b[0m \u001b[38;5;66;03m# je potřeba opravit funci instrukce_z_mereni\u001b[39;00m\n\u001b[1;32m----> 8\u001b[0m instrukce \u001b[38;5;241m=\u001b[39m \u001b[43minstrukce_z_mereni\u001b[49m\u001b[43m(\u001b[49m\u001b[43mmereni\u001b[49m\u001b[43m)\u001b[49m\n\u001b[0;32m      9\u001b[0m \u001b[38;5;28;01mif\u001b[39;00m instrukce \u001b[38;5;241m==\u001b[39m chtene_instrukce:\n\u001b[0;32m     10\u001b[0m     \u001b[38;5;28mprint\u001b[39m(\u001b[38;5;124m\"\u001b[39m\u001b[38;5;124mV pořádku!\u001b[39m\u001b[38;5;124m\"\u001b[39m)\n",
      "Cell \u001b[1;32mIn[4], line 16\u001b[0m, in \u001b[0;36minstrukce_z_mereni\u001b[1;34m(vstupni_text)\u001b[0m\n\u001b[0;32m     14\u001b[0m prvek \u001b[38;5;241m=\u001b[39m vstupni_text[i]\n\u001b[0;32m     15\u001b[0m hodnota \u001b[38;5;241m=\u001b[39m vstupni_text[i \u001b[38;5;241m+\u001b[39m \u001b[38;5;241m1\u001b[39m : i \u001b[38;5;241m+\u001b[39m \u001b[38;5;241m3\u001b[39m]\n\u001b[1;32m---> 16\u001b[0m znamenko \u001b[38;5;241m=\u001b[39m \u001b[43mvstupni_text\u001b[49m\u001b[43m[\u001b[49m\u001b[43mi\u001b[49m\u001b[43m \u001b[49m\u001b[38;5;241;43m+\u001b[39;49m\u001b[43m \u001b[49m\u001b[38;5;241;43m3\u001b[39;49m\u001b[43m]\u001b[49m\n\u001b[0;32m     18\u001b[0m \u001b[38;5;66;03m# sestav z něj jedno měření\u001b[39;00m\n\u001b[0;32m     19\u001b[0m mereni \u001b[38;5;241m=\u001b[39m [prvek, hodnota, znamenko]\n",
      "\u001b[1;31mIndexError\u001b[0m: string index out of range"
     ]
    }
   ],
   "source": [
    "# ... tady chceme získat instrukce podle měření\n",
    "# a porovnat to na chtěné instrukce, abychom ověřili, že je program napsaný správně\n",
    "# problém ale je ten, že správně napsaný není; funkce skončí s chybou\n",
    "#\n",
    "# ZKUS TO OPRAVIT !!!\n",
    "# je potřeba opravit funci instrukce_z_mereni\n",
    "\n",
    "instrukce = instrukce_z_mereni(mereni)\n",
    "if instrukce == chtene_instrukce:\n",
    "    print(\"V pořádku!\")"
   ]
  },
  {
   "cell_type": "code",
   "execution_count": null,
   "metadata": {},
   "outputs": [],
   "source": []
  }
 ],
 "metadata": {
  "kernelspec": {
   "display_name": "jupyterlab",
   "language": "python",
   "name": "python3"
  },
  "language_info": {
   "codemirror_mode": {
    "name": "ipython",
    "version": 3
   },
   "file_extension": ".py",
   "mimetype": "text/x-python",
   "name": "python",
   "nbconvert_exporter": "python",
   "pygments_lexer": "ipython3",
   "version": "3.12.0"
  }
 },
 "nbformat": 4,
 "nbformat_minor": 2
}
