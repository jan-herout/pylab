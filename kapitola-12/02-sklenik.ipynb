{
 "cells": [
  {
   "cell_type": "markdown",
   "metadata": {},
   "source": [
    "# Rajčata"
   ]
  },
  {
   "cell_type": "markdown",
   "metadata": {},
   "source": [
    "I elfové si po těžkém dni plném práce rádi odpočinou. A odpočinek jim nejvíc chutná,\n",
    "když si k němu můžou zakousnout svojí oblíbenou pochoutku: obrovská, kulatá, slaďoučká\n",
    "červená rajčata.\n",
    "\n",
    "Jenže... na základně SantaK, poblíž severního pólu, rajčata kupodivu nechtějí růst \n",
    "(koho by to napadlo, že?). Elfové však jsou vynalézaví, a poradí si v každé situaci.\n",
    "\n",
    "![rajče](./imgs/rajce.png)"
   ]
  },
  {
   "cell_type": "markdown",
   "metadata": {},
   "source": [
    "## Skleník\n",
    "\n",
    "Elfové si na severním pólu postavili skleník. Je vytápěný zemním plynem (čert ví, kam přesně vede ta dlouhá trubka která ho vede dovnitř, šušká se o tom že vede hodně, hodně hluboko). Rajčata jsou pěstovaná hydroponicky. Bohužel, kvalita vody na severním pólu je hodně mizerná, a elfové musí vodu docela složitě upravovat.\n",
    "\n",
    "Připravili si na to téměř dokonalou úpravnu vody. Na starosti ji má starší elf, všeobecně se mu říká Šmudla, protože je skoro pořád zamazaný kolomazí (úpravna vody obsahuje také mechanické součástky, o které je třeba se starat).\n",
    "\n",
    "Jednoho dne ale Šmudla nasednul do sobích sání, a odjel s šéfem na služební cestu někam do teplých krajin. Elfové zůstali na základně SantaK sami, a k jejich hrůze úpravna vody přestala fungovat.\n",
    "\n",
    "> ó ne, všechna rajčata uschnou!\n",
    "> "
   ]
  },
  {
   "cell_type": "markdown",
   "metadata": {},
   "source": [
    "## Zadání"
   ]
  },
  {
   "cell_type": "markdown",
   "metadata": {},
   "source": [
    "Naštěstí se mezi nimi našel jeden mladý kluk, který byl u starého Šmudly v učení, a který si pamatoval základní pravidla, která je pro úpravu vody nutná splnit.\n",
    "\n",
    "- kvalitu vody sleduje docela složitá měřící aparatura, která každou vteřinu provede spektrografický rozbor malé kapky vody, která protéká potrubím\n",
    "- výsledkem tohoto měření je řetězec, který sleduje různé parametry kvality vody. Může vypadat třeba nějak takhle: `a23+i45c26-`\n",
    "\n",
    "Pravidla pro sestavení onoho řetězce:\n",
    "\n",
    "- měření se skládá vždy z písmenka, potom přesně dvou číslic, a za nimi je znaménko.\n",
    "- písmenko udává **prvek** jehož přítomnost ve vzorku hledáme\n",
    "- číslice znamená **hodnotu** měření (kolik toho prvku ve vodě přebývá, nebo chybí)\n",
    "- znaménko znamená buď **přebytek** nebo **nedostatek** daného prvku\n",
    "  - pokud za číslicí je znaménko `+`, znamená to **přebytek** daného prvku ve vzorku vody\n",
    "  - pokud za číslicí je znaménko `-`, znamená to **nedostatek** daného prvku ve vzorku vody\n",
    "\n",
    "Takže například:\n",
    "\n",
    "`\"a23+\"`\n",
    "\n",
    "- prvek je `\"a\"`\n",
    "- hodnota je `23`\n",
    "- znaménko je `+`, tedy **přebytek** daného prvku\n",
    "\n",
    "Napiš program, který daný řetězec sestaví na trojice prvků, které popisují dané měření."
   ]
  },
  {
   "cell_type": "markdown",
   "metadata": {},
   "source": [
    "**AHA**, zajásáš, a napíšeš zhruba následující program (tento program neupravuj, ale přečti si ho, a zamysli se nad tím, co dělá, kdybys něco nechápal, tak se ptej!)."
   ]
  },
  {
   "cell_type": "code",
   "execution_count": null,
   "metadata": {},
   "outputs": [],
   "source": [
    "# jeden odběr kvality vody\n",
    "mereni = \"a21+b76-c43-d89+\""
   ]
  },
  {
   "cell_type": "code",
   "execution_count": 8,
   "metadata": {},
   "outputs": [],
   "source": [
    "# funkce, která ho rozebere na trojice měření\n",
    "def seznam_mereni(vstupni_text: str):\n",
    "    # sestavíme si prázdný seznam měření\n",
    "    seznam = []\n",
    "    # proměnná i je index, je to ukazovátko dovnitř do proměnné vstupni_text\n",
    "    i = 0\n",
    "    while i < len(vstupni_text):\n",
    "        # získej trojici prvek, hodnota, měření\n",
    "        prvek = vstupni_text[i]\n",
    "        hodnota = vstupni_text[i+1:i+3]\n",
    "        znamenko = vstupni_text[i+3]\n",
    "\n",
    "        # sestav z něj jedno měření\n",
    "        # měření je trojice složená z prvku, hodnoty, a znaménka\n",
    "        mereni = [ prvek, hodnota, znamenko]\n",
    "\n",
    "        # podíváme se na to měření\n",
    "        print(f\"{mereni=}\")\n",
    "        # a současně ho přidáme na seznam\n",
    "        seznam.append(mereni)\n",
    "        print(\"i=\", i)\n",
    "        print(\"prvek=\", prvek)\n",
    "        print(f\"hodnota=\", hodnota)\n",
    "        print(f\"znamenko=\", znamenko)\n",
    "\n",
    "        # posuň se na další trojici\n",
    "        i = i + 4\n",
    "        print(\"i po posunu=\", i)\n",
    "        print(\"-\"*40)\n",
    "        \n",
    "    return seznam"
   ]
  },
  {
   "cell_type": "markdown",
   "metadata": {},
   "source": [
    "Netrpělivě svůj program zapojíš do úpravny vody, a podíváš se, jak funguje:"
   ]
  },
  {
   "cell_type": "code",
   "execution_count": 9,
   "metadata": {},
   "outputs": [
    {
     "name": "stdout",
     "output_type": "stream",
     "text": [
      "mereni=['a', '21', '+']\n",
      "i= 0\n",
      "prvek= a\n",
      "hodnota= 21\n",
      "znamenko= +\n",
      "i po posunu= 4\n",
      "----------------------------------------\n",
      "mereni=['b', '76', '-']\n",
      "i= 4\n",
      "prvek= b\n",
      "hodnota= 76\n",
      "znamenko= -\n",
      "i po posunu= 8\n",
      "----------------------------------------\n",
      "mereni=['c', '43', '-']\n",
      "i= 8\n",
      "prvek= c\n",
      "hodnota= 43\n",
      "znamenko= -\n",
      "i po posunu= 12\n",
      "----------------------------------------\n",
      "mereni=['d', '89', '+']\n",
      "i= 12\n",
      "prvek= d\n",
      "hodnota= 89\n",
      "znamenko= +\n",
      "i po posunu= 16\n",
      "----------------------------------------\n"
     ]
    },
    {
     "data": {
      "text/plain": [
       "[['a', '21', '+'], ['b', '76', '-'], ['c', '43', '-'], ['d', '89', '+']]"
      ]
     },
     "execution_count": 9,
     "metadata": {},
     "output_type": "execute_result"
    }
   ],
   "source": [
    "mereni = \"a21+b76-c43-d89+\"\n",
    "seznam_mereni(mereni)"
   ]
  },
  {
   "cell_type": "code",
   "execution_count": 2,
   "metadata": {},
   "outputs": [
    {
     "name": "stdout",
     "output_type": "stream",
     "text": [
      "Měření za danou minutu: a21+b76-c43-d89+\n",
      "mereni=['a', '21', '+']\n",
      "mereni=['b', '76', '-']\n",
      "mereni=['c', '43', '-']\n",
      "mereni=['d', '89', '+']\n",
      "Trojice: ['a', '21', '+']; prvek='a', hodnota='21', znamenko='+'\n",
      "Trojice: ['b', '76', '-']; prvek='b', hodnota='76', znamenko='-'\n",
      "Trojice: ['c', '43', '-']; prvek='c', hodnota='43', znamenko='-'\n",
      "Trojice: ['d', '89', '+']; prvek='d', hodnota='89', znamenko='+'\n"
     ]
    }
   ],
   "source": [
    "# jeden odběr kvality vody\n",
    "mereni = \"a21+b76-c43-d89+\"\n",
    "\n",
    "# s čím tedy vlastně pracujeme?\n",
    "print(f\"Měření za danou minutu: {mereni}\")\n",
    "\n",
    "# zavoláme funkci, předáme jí vstupní text, a ona nám vrátí list, kde\n",
    "# každá položka je také list - a to list o třech položkách\n",
    "for m in seznam_mereni(mereni): \n",
    "    # m je tedy list, a v něm je něco jako : [\"a\", \"21\", \"+\"]\n",
    "    # následující řádek tento list ROZLOŽÍ do tří proměnných\n",
    "    # všimni si toho, že před rovnítkem jsou tři proměnné ...\n",
    "    # tím říkáme, že chceme hodnotu m rozložit na tři části\n",
    "    prvek, hodnota, znamenko = m\n",
    "    print(f\"Trojice: {m}; {prvek=}, {hodnota=}, {znamenko=}\")"
   ]
  },
  {
   "cell_type": "markdown",
   "metadata": {},
   "source": [
    "**Hurá**, funguje to. Úpravna vody bude zachráněna.\n",
    "\n",
    "\"Počkej, počkej...\" krotí tvojí radost Šmudlův učeň. \"To není všechno. Nenechal jsi mě domluvit!\""
   ]
  },
  {
   "cell_type": "markdown",
   "metadata": {},
   "source": [
    "## Kompletní zadání\n",
    "\n",
    "Potom ti vysvětlil kompletní pravidla toho, jak funguje měřící aparatura\n",
    "sledující kvalitu vody ve skleníku.\n",
    "\n",
    "Tvůj cíl je napsat program, který vstupní text (jednotlivá měření) změní v sadu instrukcí\n",
    "pro samotný stroj, který má na starosti úpravu vody realizovat.\n",
    "\n",
    "- měření, které zajistí senzor, se skládá vždy z písmenka, potom přesně dvou číslic, a za nimi **může**, ale **nemusí** **být** znaménko.\n",
    "- písmenko udává **prvek** jehož přítomnost ve vzorku hledáme\n",
    "- číslice znamená **hodnotu** měření (kolik toho prvku ve vodě přebývá, nebo chybí)\n",
    "- pokud znaménko **není** přítomné, znamená to, že je ve vodě toho prvku \"tak akorát\"\n",
    "- pokud znaménko je přítomné, indikuje buď přebytek, nebo nedostatek daného prvku\n",
    "  - pokud za číslicí je znaménko `+`, znamená to **přebytek** daného prvku ve vzorku vody\n",
    "  - pokud za číslicí je znaménko `-`, znamená to **nedostatek** daného prvku ve vzorku vody\n",
    "- zajímají nás pouze **taková** měření, která znamenají buď přebytek, nebo nedostatek daného prvku\n",
    "- z nich sestavíme **instrukce** pro úpravnu vody\n",
    "  - instrukce jsou vlastně trojicí `[ prvek, hodnota, znamenko ]`; pozor, platí navíc tato pravidla:\n",
    "  - pokud je znaménko `+`, musíme převést **prvek** na uppercase, což znamená, že do vody přidáme \"antigen\", který prvek neutralizuje\n",
    "  - pokud je znaménko `-`, na prvek nesaháme, ale musíme znaménko otočit (má se z něj tedy stát `+`) - prvek do vody chceme doplnit\n"
   ]
  },
  {
   "cell_type": "markdown",
   "metadata": {},
   "source": [
    "Takže například:\n",
    "\n",
    "- vstupní měření je : `\"a25b76-c34+\"`\n",
    "- první měření je: `prvek=\"a\"`, `hodnota=\"25\"`, ale znaménko žádné není - toto měření tedy ignorujeme\n",
    "- druhé měření je: `prvek=\"b\"`, `hodnota=\"76\"`, `znamenko=\"-\"`\n",
    "  - to znamená, že prvku je nedostatek\n",
    "  - to znamená, že instrukce je trojicí `[\"b\", \"76\", \"+\"]` - ze znaménka `-` se stalo `+`\n",
    "- třetí měření je: `prvek=\"c\"`, `hodnota=\"34\"`, `znamenko=\"+\"`\n",
    "  - to znamená, že prvku je přebytek\n",
    "  - to znamená, že že instrukce je trojicí `[\"C\", \"34\", \"+\"]`\n"
   ]
  },
  {
   "cell_type": "markdown",
   "metadata": {},
   "source": [
    "Tvůj úkol je tedy napsat funkci `instrukce_z_mereni`, které na vstupu akceptuje string (jednotlivá meření), a na výstupu vrací list, jehož prvky jsou trojice prvku, hodnoty, a znaménka, podle instrukcí uvedených výše."
   ]
  },
  {
   "cell_type": "code",
   "execution_count": 86,
   "metadata": {},
   "outputs": [],
   "source": [
    "# toto je původní funkce, která seznam měření chce rozebrat na trojice\n",
    "# ale nefunguje, nebere v potaz tato fakta:\n",
    "#  - znaménko tam může, ale nemusí být\n",
    "#  - pokud znaménko nemám, tohle měření ignoruji\n",
    "#  - pokud je znaménk plus, měním prvek na PRVEK (uppercase), např a => A\n",
    "#  - pokud je znaménko mínus, měním ho na plus\n",
    "#  - výslednou trojici odložím do seznamu instrukcí (proměnná seznam)\n",
    "def instrukce_z_mereni(vstupni_text: str):\n",
    "    \"\"\"Funkce sestaví z měření instrukce pro úpravnu vody.\n",
    "\n",
    "    Args:\n",
    "        vstupni_text (str): měření v podobě \"a25b76-c34+\"\n",
    "\n",
    "    Returns:\n",
    "        instrukce: list, složený z položek, například:\n",
    "            [ \n",
    "                [ \"b\", \"76\", \"+\" ],\n",
    "                [ \"C\", \"34\", \"+\" ]\n",
    "            ]        \n",
    "    \"\"\"\n",
    "    # sestavíme si prázdný seznam instrukcí\n",
    "    seznam_instrukci = []\n",
    "\n",
    "    # i = index, je to \"ukazovátko\" dovnitř do stringu vstupni_text\n",
    "    # na této pozici hledáme prvek\n",
    "    i = 0\n",
    "    while i < len(vstupni_text):\n",
    "        delka_zbytku = len(vstupni_text) - i        \n",
    "        if delka_zbytku < 4:\n",
    "            break\n",
    "        prvek = vstupni_text[i] # na pozici i je prvek\n",
    "        hodnota = vstupni_text[i + 1 : i + 3] # na pozici i+1 je hodnota, a má vždy dva znaky        \n",
    "        znamenko = vstupni_text[i + 3] # na pozici i+3 je znaménko\n",
    "        \n",
    "        if znamenko == \"+\" :\n",
    "            prvek = prvek.upper()\n",
    "        if znamenko == \"-\" :\n",
    "            znamenko = \"+\"\n",
    "        if znamenko != \"+\" and znamenko != \"-\":\n",
    "            i = i + 3\n",
    "            continue\n",
    "        \n",
    "        \n",
    "        # ze získané trojice sestav z něj jedno měření\n",
    "        mereni = [prvek, hodnota, znamenko]\n",
    "\n",
    "        # TODO - co bude tady?\n",
    "        # jak že se mají sestavit instrukce pro úpravnu vody? uppercase, změna znaménka...\n",
    "        instrukce = [prvek, hodnota, znamenko]\n",
    "        # a současně ho přidáme na seznam\n",
    "        seznam_instrukci.append(instrukce)\n",
    "\n",
    "        # posuň se na další trojici\n",
    "        i = i + 4\n",
    "    return seznam_instrukci"
   ]
  },
  {
   "cell_type": "code",
   "execution_count": 87,
   "metadata": {},
   "outputs": [],
   "source": [
    "tesvaci_mereni = \"a25+b76-c34\""
   ]
  },
  {
   "cell_type": "code",
   "execution_count": 88,
   "metadata": {},
   "outputs": [
    {
     "data": {
      "text/plain": [
       "[['A', '25', '+'], ['b', '76', '+']]"
      ]
     },
     "execution_count": 88,
     "metadata": {},
     "output_type": "execute_result"
    }
   ],
   "source": [
    "instrukce_z_mereni(tesvaci_mereni)"
   ]
  },
  {
   "cell_type": "code",
   "execution_count": 89,
   "metadata": {},
   "outputs": [],
   "source": [
    "# takže s tímto vstupem ...\n",
    "mereni = \"a25b76-c34+\"\n",
    "\n",
    "\n",
    "# ... chceme mít tento výstup\n",
    "chtene_instrukce = [\n",
    "    [\"b\", \"76\", \"+\"],\n",
    "    [\"C\", \"34\", \"+\"],\n",
    "]"
   ]
  },
  {
   "cell_type": "code",
   "execution_count": 90,
   "metadata": {},
   "outputs": [
    {
     "data": {
      "text/plain": [
       "[['b', '76', '+'], ['C', '34', '+']]"
      ]
     },
     "execution_count": 90,
     "metadata": {},
     "output_type": "execute_result"
    }
   ],
   "source": [
    "instrukce_z_mereni(mereni)"
   ]
  },
  {
   "cell_type": "code",
   "execution_count": 91,
   "metadata": {},
   "outputs": [
    {
     "name": "stdout",
     "output_type": "stream",
     "text": [
      "mereni='a25b76-c34+'\n",
      "instrukce=[['b', '76', '+'], ['C', '34', '+']]\n",
      "V pořádku!\n"
     ]
    }
   ],
   "source": [
    "# ... tady chceme získat instrukce podle měření\n",
    "# a porovnat to na chtěné instrukce, abychom ověřili, že je program napsaný správně\n",
    "# problém ale je ten, že správně napsaný není; funkce skončí s chybou\n",
    "#\n",
    "# ZKUS TO OPRAVIT !!!\n",
    "# je potřeba opravit funci instrukce_z_mereni\n",
    "\n",
    "instrukce = instrukce_z_mereni(mereni)\n",
    "print(f\"{mereni=}\")\n",
    "print(f\"{instrukce=}\")\n",
    "if instrukce == chtene_instrukce:\n",
    "    print(\"V pořádku!\")"
   ]
  },
  {
   "cell_type": "code",
   "execution_count": null,
   "metadata": {},
   "outputs": [],
   "source": []
  },
  {
   "cell_type": "code",
   "execution_count": null,
   "metadata": {},
   "outputs": [],
   "source": []
  },
  {
   "cell_type": "markdown",
   "metadata": {},
   "source": [
    "# Okamžik pravdy\n",
    "\n",
    "V tomto okamžiku potřebujeme spustit úpravnu vody. Program ti nesmí havarovat, a po jeho dokončení buď budeš mít\n",
    "rajčatový salát, nebo - v horším případě - škaredá, nemocná rajčata."
   ]
  },
  {
   "cell_type": "code",
   "execution_count": 92,
   "metadata": {},
   "outputs": [],
   "source": [
    "from severni_pol import upravna_vody"
   ]
  },
  {
   "cell_type": "code",
   "execution_count": 93,
   "metadata": {},
   "outputs": [],
   "source": [
    "# spustíme vodu v úpravně\n",
    "mereni = upravna_vody.pust_vodu_a_ziskej_mereni()"
   ]
  },
  {
   "cell_type": "code",
   "execution_count": 94,
   "metadata": {},
   "outputs": [],
   "source": [
    "# Získáme instrukce na základě měření - tady používáme tu tvojí funkci.\n",
    "#\n",
    "# Očekávám, že na první pokus tahle funkce selže. Proč? Mám svoje důvody.\n",
    "# Pokud se to stane, mám pro tebe jednu nápovědu: zkus funkci zavolat, a předat\n",
    "# jí vstupní parametr mereni=\"a25\" - a potom si rozeber, co se vlastně stalo.\n",
    "#\n",
    "# pokud si nebudeš ani pak vědět rady, tak se ptej!\n",
    "instrukce = instrukce_z_mereni(mereni)"
   ]
  },
  {
   "cell_type": "code",
   "execution_count": 95,
   "metadata": {},
   "outputs": [
    {
     "data": {
      "text/markdown": [
       "\n",
       "# Správně!\n",
       "\n",
       "![rajcata](./imgs/dobra-rajcata.png)\n"
      ]
     },
     "metadata": {},
     "output_type": "display_data"
    }
   ],
   "source": [
    "# spustíme úpravnu vody ... a uvidíme jestli rajčata uschnou, nebo ne\n",
    "upravna_vody.spust_upravnu(instrukce)"
   ]
  },
  {
   "cell_type": "code",
   "execution_count": null,
   "metadata": {},
   "outputs": [],
   "source": []
  }
 ],
 "metadata": {
  "kernelspec": {
   "display_name": "Python 3 (ipykernel)",
   "language": "python",
   "name": "python3"
  },
  "language_info": {
   "codemirror_mode": {
    "name": "ipython",
    "version": 3
   },
   "file_extension": ".py",
   "mimetype": "text/x-python",
   "name": "python",
   "nbconvert_exporter": "python",
   "pygments_lexer": "ipython3",
   "version": "3.12.2"
  }
 },
 "nbformat": 4,
 "nbformat_minor": 4
}
