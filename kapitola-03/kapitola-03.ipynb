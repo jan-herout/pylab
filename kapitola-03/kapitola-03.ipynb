{
 "cells": [
  {
   "cell_type": "markdown",
   "id": "6412a2b5-883e-45e3-8a2b-442709754d8a",
   "metadata": {},
   "source": [
    "# Setup\n",
    "\n",
    "Sem patří jednotlivé importy, nutné pro funkčnost notebooku."
   ]
  },
  {
   "cell_type": "code",
   "execution_count": 1,
   "id": "906c940c-3de9-472c-bdc4-a6a4c25ef726",
   "metadata": {},
   "outputs": [],
   "source": [
    "import pathlib\n",
    "import sys\n",
    "from rich import print, traceback, pretty, inspect\n",
    "traceback.install(show_locals=False)\n",
    "pretty.install()"
   ]
  },
  {
   "cell_type": "markdown",
   "id": "b0cd260e-fb79-4081-a418-458c8794beec",
   "metadata": {},
   "source": [
    "# Lab"
   ]
  },
  {
   "cell_type": "markdown",
   "id": "838fdc53-7f36-4db4-8e7e-e93ca3958f5c",
   "metadata": {},
   "source": [
    "Zadání:\n",
    "\n",
    "\n",
    "- dejme tomu, že čokoláda stojí 50 korun: `cena_cokolada = ... # doplň sám`\n",
    "- pytlík bonbónů stojí jenom 60% z ceny čokolády: `cena_bonbonu = 0.6 * .... # doplň sám`\n",
    "- máš dohromady 500 korun: `penez_celkem = 500`\n",
    "- stačí ti těch 500 korun na nákup 7 čokolád a 9 pytlíků s bonbóny?\n",
    "\n",
    "Pod tuto buňku umísti svůj výpočet (řešení). V návodu - v lekci - se můžeš dočíst, jak sem doplnit tolik nových buňek, kolik jich potřebuješ.\n"
   ]
  },
  {
   "cell_type": "code",
   "execution_count": 2,
   "id": "384ec182-06b2-4f46-800d-cb6369f8c4c8",
   "metadata": {},
   "outputs": [],
   "source": [
    "# sem můžeš psát kód"
   ]
  },
  {
   "cell_type": "code",
   "execution_count": 3,
   "id": "46a63a8e-e193-42ff-ae54-4c143a4477e8",
   "metadata": {},
   "outputs": [],
   "source": [
    "# sem také můžeš psát kód"
   ]
  },
  {
   "cell_type": "markdown",
   "id": "8fdbe8d1-c8a5-41bf-859b-2dc8d7c73df0",
   "metadata": {},
   "source": [
    "**Pod tuto buňku napiš odpověď na následující otázky:**\n",
    "\n",
    "- jak se jmenovaly proměnné, které jsi v programu použil?\n",
    "- jaké operátory jsi použil při výpočtu?"
   ]
  },
  {
   "cell_type": "markdown",
   "id": "1d65eb8e-ff3e-442a-9d9c-15e253be0463",
   "metadata": {},
   "source": [
    "... sem napiš svojí odpověď ... tato buňka je typu `Markdown`."
   ]
  },
  {
   "cell_type": "code",
   "execution_count": null,
   "id": "62a91d0a-e57e-499e-92d4-59472a9d8b7e",
   "metadata": {},
   "outputs": [],
   "source": []
  },
  {
   "cell_type": "markdown",
   "id": "69c09697-10ca-4f64-b33b-cc17d0befcd7",
   "metadata": {},
   "source": [
    "Tady si můžeš podle libosti vyzkoušet změny notebooku pomocí klávesových zkratek.\n",
    "\n",
    "- a - above, nad\n",
    "- b - below, pod\n",
    "- dd - delete\n",
    "- z - zahodit změnu\n",
    "\n",
    "Drag and drop ... neboli \"chňap a pusť\"."
   ]
  }
 ],
 "metadata": {
  "kernelspec": {
   "display_name": "Python 3 (ipykernel)",
   "language": "python",
   "name": "python3"
  },
  "language_info": {
   "codemirror_mode": {
    "name": "ipython",
    "version": 3
   },
   "file_extension": ".py",
   "mimetype": "text/x-python",
   "name": "python",
   "nbconvert_exporter": "python",
   "pygments_lexer": "ipython3",
   "version": "3.11.1"
  }
 },
 "nbformat": 4,
 "nbformat_minor": 5
}
