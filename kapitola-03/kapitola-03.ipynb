{
 "cells": [
  {
   "cell_type": "markdown",
   "id": "6412a2b5-883e-45e3-8a2b-442709754d8a",
   "metadata": {},
   "source": [
    "# Setup\n",
    "\n",
    "Sem patří jednotlivé importy, nutné pro funkčnost notebooku."
   ]
  },
  {
   "cell_type": "code",
   "execution_count": 2,
   "id": "906c940c-3de9-472c-bdc4-a6a4c25ef726",
   "metadata": {},
   "outputs": [],
   "source": [
    "import pathlib\n",
    "import sys\n",
    "from rich import print, traceback, pretty, inspect\n",
    "traceback.install(show_locals=False)\n",
    "pretty.install()"
   ]
  },
  {
   "cell_type": "markdown",
   "id": "b0cd260e-fb79-4081-a418-458c8794beec",
   "metadata": {},
   "source": [
    "# Lab"
   ]
  },
  {
   "cell_type": "markdown",
   "id": "838fdc53-7f36-4db4-8e7e-e93ca3958f5c",
   "metadata": {},
   "source": [
    "Zadání:\n",
    "\n",
    "\n",
    "- dejme tomu, že čokoláda stojí 50 korun: `cena_cokolada = ... # doplň sám`\n",
    "- pytlík bonbónů stojí jenom 60% z ceny čokolády: `cena_bonbonu = 0.6 * .... # doplň sám`\n",
    "- máš dohromady 500 korun: `penez_celkem = 500`\n",
    "- stačí ti těch 500 korun na nákup 7 čokolád a 9 pytlíků s bonbóny?\n",
    "\n",
    "Pod tuto buňku umísti svůj výpočet (řešení). V návodu - v lekci - se můžeš dočíst, jak sem doplnit tolik nových buňek, kolik jich potřebuješ.\n"
   ]
  },
  {
   "cell_type": "code",
   "execution_count": 7,
   "id": "384ec182-06b2-4f46-800d-cb6369f8c4c8",
   "metadata": {},
   "outputs": [],
   "source": [
    "cena_cokolady = 50"
   ]
  },
  {
   "cell_type": "code",
   "execution_count": 8,
   "id": "46a63a8e-e193-42ff-ae54-4c143a4477e8",
   "metadata": {},
   "outputs": [],
   "source": [
    "cena_bonbonu = 0.6 * cena_cokolady"
   ]
  },
  {
   "cell_type": "code",
   "execution_count": 9,
   "id": "804095ce-95d5-41e0-b454-0996ce1eeae5",
   "metadata": {
    "scrolled": true
   },
   "outputs": [
    {
     "data": {
      "text/html": [
       "<pre style=\"white-space:pre;overflow-x:auto;line-height:normal;font-family:Menlo,'DejaVu Sans Mono',consolas,'Courier New',monospace\"></pre>\n"
      ],
      "text/plain": []
     },
     "metadata": {},
     "output_type": "display_data"
    },
    {
     "data": {
      "text/plain": [
       "\u001b[3;91mFalse\u001b[0m"
      ]
     },
     "execution_count": 9,
     "metadata": {},
     "output_type": "execute_result"
    }
   ],
   "source": [
    "penez_celkem = 500\n",
    "penez_celkem > cena_cokolady * 7 + cena_bonbonu * 9"
   ]
  },
  {
   "cell_type": "markdown",
   "id": "8fdbe8d1-c8a5-41bf-859b-2dc8d7c73df0",
   "metadata": {},
   "source": [
    "**Pod tuto buňku napiš odpověď na následující otázky:**\n",
    "\n",
    "- jak se jmenovaly proměnné, které jsi v programu použil?\n",
    "- jaké operátory jsi použil při výpočtu?"
   ]
  },
  {
   "cell_type": "markdown",
   "id": "1d65eb8e-ff3e-442a-9d9c-15e253be0463",
   "metadata": {},
   "source": [
    "... sem napiš svojí odpověď ... tato buňka je typu `Markdown`. false"
   ]
  },
  {
   "cell_type": "markdown",
   "id": "59306eee-7b24-4c93-9a91-98dc1d48d78f",
   "metadata": {},
   "source": []
  },
  {
   "cell_type": "markdown",
   "id": "69c09697-10ca-4f64-b33b-cc17d0befcd7",
   "metadata": {},
   "source": [
    "Tady si můžeš podle libosti vyzkoušet změny notebooku pomocí klávesových zkratek.\n",
    "\n",
    "- a - above, nad\n",
    "- b - below, pod\n",
    "- dd - delete\n",
    "- z - zahodit změnu\n",
    "\n",
    "Drag and drop ... neboli \"chňap a pusť\"."
   ]
  },
  {
   "cell_type": "code",
   "execution_count": 11,
   "id": "33d76a6b-6ce3-474c-95d3-79aaeaf8b258",
   "metadata": {},
   "outputs": [
    {
     "data": {
      "text/html": [
       "<pre style=\"white-space:pre;overflow-x:auto;line-height:normal;font-family:Menlo,'DejaVu Sans Mono',consolas,'Courier New',monospace\">Cena čokolády je <span style=\"color: #008080; text-decoration-color: #008080; font-weight: bold\">50</span>\n",
       "</pre>\n"
      ],
      "text/plain": [
       "Cena čokolády je \u001b[1;36m50\u001b[0m\n"
      ]
     },
     "metadata": {},
     "output_type": "display_data"
    }
   ],
   "source": [
    "print (\"Cena čokolády je\", cena_cokolady)"
   ]
  },
  {
   "cell_type": "code",
   "execution_count": null,
   "id": "50839a6f-1bb8-4e1a-b12f-3e772e0ef5e2",
   "metadata": {},
   "outputs": [],
   "source": []
  }
 ],
 "metadata": {
  "kernelspec": {
   "display_name": "Python 3 (ipykernel)",
   "language": "python",
   "name": "python3"
  },
  "language_info": {
   "codemirror_mode": {
    "name": "ipython",
    "version": 3
   },
   "file_extension": ".py",
   "mimetype": "text/x-python",
   "name": "python",
   "nbconvert_exporter": "python",
   "pygments_lexer": "ipython3",
   "version": "3.12.2"
  }
 },
 "nbformat": 4,
 "nbformat_minor": 5
}
