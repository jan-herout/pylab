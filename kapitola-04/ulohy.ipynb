{
 "cells": [
  {
   "cell_type": "markdown",
   "id": "1c1c0cf0-62e7-4a25-b872-3b1598d6259a",
   "metadata": {},
   "source": [
    "V počítačové hře se dá za 15 měďáků koupit jeden stříbrňák a za 6 stříbrňáků pak získáte jeden zlaťák. Kolik měďáků je potřeba k zisku jednoho zlaťáku?"
   ]
  },
  {
   "cell_type": "code",
   "execution_count": 16,
   "id": "d2194dc9-8474-4534-a41d-02b9e4a1e10e",
   "metadata": {},
   "outputs": [
    {
     "name": "stdout",
     "output_type": "stream",
     "text": [
      "Na jeden zlaťák je potřeba 90.0 měďáků.\n"
     ]
    }
   ],
   "source": [
    "medak = 1\n",
    "stribrnak = medak * 15\n",
    "zlatak = stribrnak * 6\n",
    "vysledek = zlatak / medak \n",
    "print(\"Na jeden zlaťák je potřeba\", vysledek, \"měďáků.\")"
   ]
  },
  {
   "cell_type": "markdown",
   "id": "9a16d6d6-914b-4244-9dbd-e15254bbe8f1",
   "metadata": {},
   "source": [
    "Pepan celý duben snídal banány, protože jsou bohaté na vitamíny a vlákninu. Každý den si dal jeden. Banány nejvyšší kvality kupoval u zelinářky Madly, jeden za 11 korun. Kolik korun zaplatil Pepan celkem za své dubnové snídaně?"
   ]
  },
  {
   "cell_type": "code",
   "execution_count": 17,
   "id": "67597c57-2c7f-4938-bb2e-fe6bed3e28ec",
   "metadata": {},
   "outputs": [
    {
     "name": "stdout",
     "output_type": "stream",
     "text": [
      "Zaplatil 330 korun.\n"
     ]
    }
   ],
   "source": [
    "cena_bananu = 11\n",
    "mesic = 30\n",
    "vysledek = cena_bananu * mesic\n",
    "print(\"Zaplatil\", vysledek, \"korun.\")"
   ]
  },
  {
   "cell_type": "markdown",
   "id": "840bff0c-81cc-4492-a15c-b95337ec989d",
   "metadata": {},
   "source": [
    "Pan Sádra sbírá trpaslíky. Ty sádrové. Má obrovskou zahradu a tam je vystavuje. Už jich má přesně třináctkrát víc než Sněhurka. Kolik má pan Sádra na zahradě trpaslíků?"
   ]
  },
  {
   "cell_type": "markdown",
   "id": "3b8db9e7-a8cc-473e-8651-e67cddb24356",
   "metadata": {},
   "source": [
    "Tato úloha nemá řešení!"
   ]
  },
  {
   "cell_type": "markdown",
   "id": "8ab1a095-baed-4774-8c3b-61c10034b4bf",
   "metadata": {},
   "source": [
    "Čokoláda Čokito má na délku 8 čtverečků, na šířku má o polovinu čtverečků méně. Kolik čtverečků má tato čokoláda celkem?"
   ]
  },
  {
   "cell_type": "code",
   "execution_count": 18,
   "id": "577b5a8f-b6bc-4874-94d0-567cb9fb707f",
   "metadata": {},
   "outputs": [
    {
     "name": "stdout",
     "output_type": "stream",
     "text": [
      "Tato čokoláda má 32.0 čtverečků.\n"
     ]
    }
   ],
   "source": [
    "delka = 8\n",
    "sirka = delka / 2\n",
    "vysledek = sirka * delka\n",
    "print(\"Tato čokoláda má\", vysledek, \"čtverečků.\")"
   ]
  },
  {
   "cell_type": "markdown",
   "id": "6aab3731-bc37-4afb-92a8-89fe805de0bc",
   "metadata": {},
   "source": [
    "Jaký je obvod obdélníku o stranách 5 a 8?"
   ]
  },
  {
   "cell_type": "code",
   "execution_count": 40,
   "id": "5dd98711-e1d5-48b3-86a6-ab630138b5a2",
   "metadata": {},
   "outputs": [
    {
     "name": "stdout",
     "output_type": "stream",
     "text": [
      "Obvod obdelniku je 26.\n"
     ]
    }
   ],
   "source": [
    "delka = 8\n",
    "sirka = 5\n",
    "obvod = delka * 2 + sirka * 2\n",
    "print(f\"Obvod obdelniku je {obvod}.\")"
   ]
  },
  {
   "cell_type": "markdown",
   "id": "4ed12335-7460-4695-9b92-609d917606b7",
   "metadata": {},
   "source": [
    "Obdélníkový pozemek má délku jedné strany 4 metry a celkovou plochu 24 metrů čtverečních. Kolik metrů měří jeho obvod?"
   ]
  },
  {
   "cell_type": "code",
   "execution_count": 35,
   "id": "50b36c61-4f54-4b84-81d0-749385caa8a2",
   "metadata": {},
   "outputs": [
    {
     "name": "stdout",
     "output_type": "stream",
     "text": [
      "Jeho obvod je 20.0 metrů.\n"
     ]
    }
   ],
   "source": [
    "delka = 4\n",
    "plocha = 24\n",
    "sirka = plocha / delka\n",
    "obvod = delka * 2 + sirka * 2\n",
    "print(\"Jeho obvod je\", obvod, \"metrů.\")"
   ]
  },
  {
   "cell_type": "markdown",
   "id": "20b208b3-bde7-47ed-a5db-469443349c74",
   "metadata": {},
   "source": [
    "Dopravní značka „Hlavní silnice“ má, jak známo, tvar čtverce, který je uprostřed žlutý a po okraji bílý. Jedna jeho strana měří 4 decimetry. Značka se vyrábí ze speciálního plechu. Z kolika decimetrů čtverečních tohoto plechu je značka tvořena?"
   ]
  },
  {
   "cell_type": "code",
   "execution_count": 36,
   "id": "4427b218-e195-468c-8d58-1755d6d146aa",
   "metadata": {},
   "outputs": [
    {
     "name": "stdout",
     "output_type": "stream",
     "text": [
      "Je tvořena z 16 decimetrů čtverečních.\n"
     ]
    }
   ],
   "source": [
    "strana = 4\n",
    "vysledek = strana * strana\n",
    "print(\"Je tvořena z\", vysledek, \"decimetrů čtverečních.\") "
   ]
  },
  {
   "cell_type": "markdown",
   "id": "390f7032-d41e-4674-bab1-5072ef76598c",
   "metadata": {},
   "source": [
    "Pan Rafan chodí každé ráno vyvenčit svého jezevčíka Rafánka. Jejich procházka vede okolo obdélníkového pole, jehož delší strana měří dva kilometry a kratší strana jeden kilometr. Kolik kilometrů ujde každé ráno pan Rafan se svým jezevčíkem?"
   ]
  },
  {
   "cell_type": "code",
   "execution_count": 37,
   "id": "19c0c89c-f2b9-4460-9a11-8616095d6ddc",
   "metadata": {},
   "outputs": [
    {
     "name": "stdout",
     "output_type": "stream",
     "text": [
      "Ujde 6 kilometrů.\n"
     ]
    }
   ],
   "source": [
    "delka = 2\n",
    "sirka = 1\n",
    "obvod = (delka + sirka) * 2\n",
    "print(\"Ujde\", obvod, \"kilometrů.\")"
   ]
  }
 ],
 "metadata": {
  "kernelspec": {
   "display_name": "Python 3 (ipykernel)",
   "language": "python",
   "name": "python3"
  },
  "language_info": {
   "codemirror_mode": {
    "name": "ipython",
    "version": 3
   },
   "file_extension": ".py",
   "mimetype": "text/x-python",
   "name": "python",
   "nbconvert_exporter": "python",
   "pygments_lexer": "ipython3",
   "version": "3.12.2"
  }
 },
 "nbformat": 4,
 "nbformat_minor": 5
}
