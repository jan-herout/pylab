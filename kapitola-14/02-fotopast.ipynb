{
 "cells": [
  {
   "cell_type": "markdown",
   "metadata": {},
   "source": [
    "# Fotopast\n",
    "\n",
    "![medved](./imgs/medved.jpg)"
   ]
  },
  {
   "cell_type": "markdown",
   "metadata": {},
   "source": [
    "Když si jednou ráno jdeš na základně SantaK do kantýny pro kakao, potkáš tam elfa, kterého\n",
    "jsi ještě nikdy neviděl. Je celý nahrbený nad stolem, na kterém je hromada papírových pásek,\n",
    "jednu z nich drží v ruce, posouvá si jí tam a zpátky, a zuřivě škrabe něco tužkou do malého,\n",
    "ušmudlaného sešitu. Tváří se u toho nešťastně.\n",
    "\n",
    "Podíváš se mu přes rameno. Na papírové pásce je sada písmen. Vypadá nějak takhle:\n",
    "\n",
    "`MTMTMTTTTTMTMTTMTTTTMTMMMTMTTTMTTTTTTTTTTTMTTMMTMTTTTTTTTTTT`\n",
    "\n",
    "\"Já to nikdy nedám dohromady ...\" zoufá si obrýlený elf.\n",
    "\n",
    "\"Co to je?\" nedá to to. Prostě to musíš vědět.\n",
    "\n",
    "\"To jsou záznamy z naší fotopasti. Víš, sledujeme tady medvědí a tulení populaci. Každý proužek je jeden den...\n",
    "a já mám za úkol spočítat, kolik medvědů a tuleňů kolem té fotopasti prošlo. Každé písmenko je jedno zvíře, M je medvěd a T je tuleň.\n",
    "Jenže podívej, jde mi z toho hlava kolem, jak mám ty písmenka spočítat?\"\n",
    "\n",
    "\"**AHA!**\" řekneš mu na to, a napíšeš tenhle program:"
   ]
  },
  {
   "cell_type": "code",
   "execution_count": null,
   "metadata": {},
   "outputs": [],
   "source": [
    "def spocitej_zvirata(pozorovani: str):\n",
    "    \"\"\"Funkce spočítá medvědy a tuleně na základě jednoho řádku pozorování \n",
    "    (tj za jeden den). \n",
    "    \n",
    "    Args:        \n",
    "        pozorovani (str): hodnoty pozorování\n",
    "    \n",
    "    Returns:\n",
    "        dict: klíčem je písmeno které představuje druh, a hodnotou kje počet \n",
    "    \"\"\"\n",
    "    # nejdřív si založíme dictionary\n",
    "    # klíč bude typ zvířete (M=medvěd,T=tuleň), a hodnota bude jejich počet\n",
    "    # protože vím, že budu počítat medvědy a tuleně, můžu si dopředu připravit\n",
    "    # jejich počet, abych se nemusel zabývat tím, jestli dané zvížře už v tom\n",
    "    # dictionary je.\n",
    "    zvirata = {\n",
    "        \"M\": 0,\n",
    "        \"T\": 0,\n",
    "    }\n",
    "    for zvire in pozorovani:\n",
    "        zvirata[zvire] = zvirata[zvire] + 1\n",
    "    return zvirata"
   ]
  },
  {
   "cell_type": "code",
   "execution_count": null,
   "metadata": {},
   "outputs": [],
   "source": []
  },
  {
   "cell_type": "code",
   "execution_count": null,
   "metadata": {},
   "outputs": [],
   "source": []
  },
  {
   "cell_type": "markdown",
   "metadata": {},
   "source": [
    "\"Podívej, už to mám!\" řekneš, a zadáš program do počítače, kde jsou jednotlivá pozorování po dnech."
   ]
  },
  {
   "cell_type": "code",
   "execution_count": null,
   "metadata": {},
   "outputs": [],
   "source": [
    "# tohle je to pozorování\n",
    "pozorovani = \"MTMTMTTTTTMTMTTMTTTTMTMMMTMTTTMTTTTTTTTTTTMTTMMTMTTTTTTTTTTT\"\n",
    "\n",
    "# zavoláme svojí funkci ...\n",
    "zvirata = spocitej_zvirata(pozorovani)\n",
    "\n",
    "# a podíváme se na výsledek\n",
    "for k, v in zvirata.items():\n",
    "    print(f\"Zvíře: {k}, a jejich počet je {v}\")"
   ]
  },
  {
   "cell_type": "code",
   "execution_count": null,
   "metadata": {},
   "outputs": [],
   "source": []
  },
  {
   "cell_type": "code",
   "execution_count": null,
   "metadata": {},
   "outputs": [],
   "source": []
  },
  {
   "cell_type": "markdown",
   "metadata": {},
   "source": [
    "Nedočkavě zapojíš svojí funkci do kompletního seznamu pozorování ... a stane se tohle ..."
   ]
  },
  {
   "cell_type": "code",
   "execution_count": null,
   "metadata": {},
   "outputs": [],
   "source": [
    "# načteme si data z fotopasti\n",
    "from severni_pol import fotopast\n",
    "pozorovani = fotopast.pozorovani()\n",
    "\n",
    "# takhle nějak to vypadá!\n",
    "print(pozorovani)\n"
   ]
  },
  {
   "cell_type": "code",
   "execution_count": null,
   "metadata": {},
   "outputs": [],
   "source": [
    "# a spočítáme zvířata\n",
    "# dictionary musím vynulovat, aby se mi do toho nepletl stav z toho testu nahoře\n",
    "zvirata = {\n",
    "    \"M\": 0,\n",
    "    \"T\": 0,\n",
    "}\n",
    "\n",
    "spocitej_zvirata(pozorovani)\n",
    "print(zvirata)"
   ]
  },
  {
   "cell_type": "code",
   "execution_count": null,
   "metadata": {},
   "outputs": [],
   "source": []
  },
  {
   "cell_type": "code",
   "execution_count": null,
   "metadata": {},
   "outputs": [],
   "source": []
  },
  {
   "cell_type": "markdown",
   "metadata": {},
   "source": [
    "**OOPS!** Něco je špatně.\n",
    "\n",
    "Elf se ti naklopí přes rameno, a řekne - \"No jo, to bude asi ta liška.\n",
    "Čas od času se tam nějaká připlete. Jenže to není všechno. Není to tak jednoduché.\"\n",
    "\n",
    "A s tím ti vysvětlí kompletní pravidla toho, jak je potřeba zvířata spočítat.\n"
   ]
  },
  {
   "cell_type": "code",
   "execution_count": null,
   "metadata": {},
   "outputs": [],
   "source": []
  },
  {
   "cell_type": "code",
   "execution_count": null,
   "metadata": {},
   "outputs": [],
   "source": []
  },
  {
   "cell_type": "markdown",
   "metadata": {},
   "source": [
    "## Zadání\n",
    "\n",
    "- Každý řádek je jeden den; tohle bude důležité za chvíli.\n",
    "- Lišky (`L`) počítat nechceme, chceme je přeskočit - počítat budeme jen medvědy (`M`) a tuleně (`T`)\n",
    "- Medvědi jsou hladoví, a také trpěliví; takže:\n",
    "  - když **ve stejný den** přijde k fotopasti medvěd\n",
    "  - a hned po něm přijde k fotopasti tuleň\n",
    "  - tak ten medvěd toho tuleně sežere (započítáme tedy medvěda, ale nemůžeme započítat tuleně)\n",
    "\n",
    "Napiš program, který podle těchto pravidel zvířata spočítá, a potom ověř, že jsi ho napsal správně \n",
    "(*viz dál v textu, na konci notebooku*).\n",
    "\n",
    "Budeš potřebovat:\n",
    "\n",
    "- [pracovat s textem](https://github.com/jan-herout/pylab/blob/main/kapitola-06/readme.md#text-se-d%C3%A1-rozd%C4%9Blit-a-co-bylo-rozd%C4%9Blen%C3%A9-se-d%C3%A1-slou%C4%8Dit)\n",
    "- [cyklus for](https://github.com/jan-herout/pylab/blob/main/kapitola-11/readme.md#cyklus-for)\n",
    "- [if/else](https://github.com/jan-herout/pylab/blob/main/kapitola-08/readme.md#kl%C3%AD%C4%8Dov%C3%A9-slovo-if)\n",
    "- [dictionary](https://github.com/jan-herout/pylab/tree/main/kapitola-13)\n",
    "\n",
    "Dole jsem ti připravil kostru programu. Uprav jí tak, aby fungovala podle zadání."
   ]
  },
  {
   "cell_type": "code",
   "execution_count": null,
   "metadata": {},
   "outputs": [],
   "source": [
    "# tohle je ta původní funkce, která nefunguje správně, tvým úkolem je jí upravit\n",
    "# - každý řádek pozorování je jeden den\n",
    "# - lišky (L) přeskakuješ\n",
    "# - pokud ve stejném jednom dni k fotopasti přijde medvěd, a hned po něm tuleň,\n",
    "#   tuleně nezapočítáš, protože ho medvěd sežral\n",
    "def spocitej_zvirata(pozorovani: str):\n",
    "    \"\"\"Funkce spočítá medvědy a tuleně pro všechna pozorování.\n",
    "    \n",
    "        Pravidla:\n",
    "        - Každý řádek je jeden den; tohle bude důležité za chvíli.\n",
    "        - Lišky (`L`) počítat nechceme, chceme je přeskočit - počítat budeme jen medvědy (`M`) a tuleně (`T`)\n",
    "        - Medvědi jsou hladoví, a také trpěliví; takže:\n",
    "        - když **ve stejný den** přijde k fotopasti medvěd\n",
    "        - a hned po něm přijde k fotopasti tuleň\n",
    "        - tak ten medvěd toho tuleně sežere (započítáme tedy medvěda, ale nemůžeme započítat tuleně)\n",
    "        \n",
    "        Args:\n",
    "            pozorovani (str): hodnoty pozorování, každý řádek je jeden den\n",
    "\n",
    "        Returns:\n",
    "            dict: klíčem je písmeno které představuje druh, a hodnotou kje počet\n",
    "    \"\"\"\n",
    "    # nejdřív si založíme dictionary\n",
    "    # klíč bude typ zvířete (M=medvěd,T=tuleň), a hodnota bude jejich počet\n",
    "    # protože vím, že budu počítat medvědy a tuleně, můžu si dopředu připravit\n",
    "    # jejich počet, abych se nemusel zabývat tím, jestli dané zvížře už v tom\n",
    "    # dictionary je.\n",
    "    zvirata = {\n",
    "        \"M\": 0,\n",
    "        \"T\": 0,\n",
    "    }\n",
    "    for zvire in pozorovani:\n",
    "        zvirata[zvire] = zvirata[zvire] + 1\n",
    "    return zvirata"
   ]
  },
  {
   "cell_type": "code",
   "execution_count": null,
   "metadata": {},
   "outputs": [],
   "source": []
  },
  {
   "cell_type": "code",
   "execution_count": null,
   "metadata": {},
   "outputs": [],
   "source": []
  },
  {
   "cell_type": "markdown",
   "metadata": {},
   "source": [
    "## Tak jak se ti to podařilo?"
   ]
  },
  {
   "cell_type": "code",
   "execution_count": null,
   "metadata": {},
   "outputs": [],
   "source": [
    "# předpokládám, že tu funkci máš napsanou a že se jmenuje spocitej_zvirata\n",
    "pozorovani = fotopast.pozorovani()\n",
    "vysledek = spocitej_zvirata(pozorovani)"
   ]
  },
  {
   "cell_type": "code",
   "execution_count": null,
   "metadata": {},
   "outputs": [],
   "source": [
    "# ... a tady máme výsledek ...\n",
    "fotopast.vyhodnot(pozorovani, vysledek)"
   ]
  }
 ],
 "metadata": {
  "kernelspec": {
   "display_name": "jupyterlab",
   "language": "python",
   "name": "python3"
  },
  "language_info": {
   "codemirror_mode": {
    "name": "ipython",
    "version": 3
   },
   "file_extension": ".py",
   "mimetype": "text/x-python",
   "name": "python",
   "nbconvert_exporter": "python",
   "pygments_lexer": "ipython3",
   "version": "3.12.0"
  }
 },
 "nbformat": 4,
 "nbformat_minor": 2
}
