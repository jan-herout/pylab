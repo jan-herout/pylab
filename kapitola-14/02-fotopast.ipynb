{
 "cells": [
  {
   "cell_type": "markdown",
   "metadata": {},
   "source": [
    "# Fotopast\n",
    "\n",
    "![medved](./imgs/medved.jpg)"
   ]
  },
  {
   "cell_type": "markdown",
   "metadata": {},
   "source": [
    "Když si jednou ráno jdeš na základně SantaK do kantýny pro kakao, potkáš tam elfa, kterého\n",
    "jsi ještě nikdy neviděl. Je celý nahrbený nad stolem, na kterém je hromada papírových pásek,\n",
    "jednu z nich drží v ruce, posouvá si jí tam a zpátky, a zuřivě škrabe něco tužkou do malého,\n",
    "ušmudlaného sešitu. Tváří se u toho nešťastně.\n",
    "\n",
    "Podíváš se mu přes rameno. Na papírové pásce je sada písmen. Vypadá nějak takhle:\n",
    "\n",
    "`MTMTMTTTTTMTMTTMTTTTMTMMMTMTTTMTTTTTTTTTTTMTTMMTMTTTTTTTTTTT`\n",
    "\n",
    "\"Já to nikdy nedám dohromady ...\" zoufá si obrýlený elf.\n",
    "\n",
    "\"Co to je?\" nedá to to. Prostě to musíš vědět.\n",
    "\n",
    "\"To jsou záznamy z naší fotopasti. Víš, sledujeme tady medvědí a tulení populaci. Každý proužek je jeden den...\n",
    "a já mám za úkol spočítat, kolik medvědů a tuleňů kolem té fotopasti prošlo. Každé písmenko je jedno zvíře, M je medvěd a T je tuleň.\n",
    "Jenže podívej, jde mi z toho hlava kolem, jak mám ty písmenka spočítat?\"\n",
    "\n",
    "\"**AHA!**\" řekneš mu na to, a napíšeš tenhle program:"
   ]
  },
  {
   "cell_type": "code",
   "execution_count": 1,
   "metadata": {},
   "outputs": [],
   "source": [
    "def spocitej_zvirata(pozorovani: str):\n",
    "    \"\"\"Funkce spočítá medvědy a tuleně na základě jednoho řádku pozorování \n",
    "    (tj za jeden den). \n",
    "    \n",
    "    Args:        \n",
    "        pozorovani (str): hodnoty pozorování\n",
    "    \n",
    "    Returns:\n",
    "        dict: klíčem je písmeno které představuje druh, a hodnotou je počet \n",
    "    \"\"\"\n",
    "    # nejdřív si založíme dictionary\n",
    "    # klíč bude typ zvířete (M=medvěd,T=tuleň), a hodnota bude jejich počet\n",
    "    # protože vím, že budu počítat medvědy a tuleně, můžu si dopředu připravit\n",
    "    # jejich počet, abych se nemusel zabývat tím, jestli dané zvíře už v tom\n",
    "    # dictionary je.\n",
    "    zvirata = {\n",
    "        \"M\": 0, # medvědi\n",
    "        \"T\": 0, # tuleni\n",
    "    }\n",
    "    # každé písmenko v pozorování je jedno zvíře\n",
    "    for zvire in pozorovani:\n",
    "        zvirata[zvire] = zvirata[zvire] + 1\n",
    "    return zvirata"
   ]
  },
  {
   "cell_type": "code",
   "execution_count": null,
   "metadata": {},
   "outputs": [],
   "source": []
  },
  {
   "cell_type": "code",
   "execution_count": null,
   "metadata": {},
   "outputs": [],
   "source": []
  },
  {
   "cell_type": "markdown",
   "metadata": {},
   "source": [
    "\"Podívej, už to mám!\" řekneš, a zadáš program do počítače, kde jsou jednotlivá pozorování po dnech."
   ]
  },
  {
   "cell_type": "code",
   "execution_count": 2,
   "metadata": {},
   "outputs": [
    {
     "name": "stdout",
     "output_type": "stream",
     "text": [
      "Zvíře: M, a jejich počet je 16\n",
      "Zvíře: T, a jejich počet je 44\n"
     ]
    }
   ],
   "source": [
    "# tohle je to pozorování\n",
    "pozorovani = \"MTMTMTTTTTMTMTTMTTTTMTMMMTMTTTMTTTTTTTTTTTMTTMMTMTTTTTTTTTTT\"\n",
    "\n",
    "# zavoláme svojí funkci ...\n",
    "zvirata = spocitej_zvirata(pozorovani)\n",
    "\n",
    "# a podíváme se na výsledek\n",
    "for k, v in zvirata.items():\n",
    "    print(f\"Zvíře: {k}, a jejich počet je {v}\")"
   ]
  },
  {
   "cell_type": "code",
   "execution_count": null,
   "metadata": {},
   "outputs": [],
   "source": []
  },
  {
   "cell_type": "code",
   "execution_count": null,
   "metadata": {},
   "outputs": [],
   "source": []
  },
  {
   "cell_type": "markdown",
   "metadata": {},
   "source": [
    "Nedočkavě zapojíš svojí funkci do kompletního seznamu pozorování ... a stane se tohle ..."
   ]
  },
  {
   "cell_type": "code",
   "execution_count": 3,
   "metadata": {},
   "outputs": [
    {
     "name": "stdout",
     "output_type": "stream",
     "text": [
      "MLMTMTTTTTMTMTTMTTTLMTMMMTMTTTMTTTTTTTTTTTMTTMMTMTTTTTTTLTTT\n",
      "LMTTTTMTTTMTTMMTTTTMTMTLLTMMTTMTTTTTTTLTTTTMTTMTTTTMTTLTTTTT\n",
      "TTTMTTTTMTMTLMMTTMMMMTMTTTMMTTMMMTTMTTTTTTMMTTTTTTMTTTTMTMTM\n",
      "MMTTTTTTTTTMTLTTMTMTMTMMTTMTLTMMTMLTLTMTMTTTMTLTLTTMTTTTMTTT\n",
      "MMTTLMTTTTMTTTTTTTMMMMMMTTTTTTTTTMTTTMLTMTMTMTMMTMLTMLTTLMTT\n",
      "TLTMTTMMTMMMTMMTTLTMMTMTMMTTTTTTTTMTTMMMTTTTTTMMTTMTTTTTTMTT\n",
      "TTTTMTMTMLTTTTMTMTLTTTMTLMTTMTTMTTMMMMTTTTMMTTMTMMMMTTMTTMTM\n",
      "TMTTTMTTTMMTTMTTTTTTTTMTTMTTMTLMMTLMLMMTTTLTMMTTMMTTTTTTTTTT\n",
      "TTTTTMMTTMTTTTTTTMTMMTLTMMTTTLMTTTTTMTMTMTMTMMMTTTTTMTTMTTMT\n",
      "TTMTTTTTMTTTLMMTTTMTMTTTTLTTMTTTTMTLTTTMMMLMTTMMTTLTTTTTTMMT\n",
      "TTTTTTLTMTTTTMTTTTTTTMTTTTTMTLTTTLMTTTMTMTTMMMTTTTTMTTTMTTMT\n",
      "TMLTMTMTMMTMMTTTTTTTTTMMTTTTTMMTTTTTTTTMTTTTTTMTTTTTTMMLTLMT\n",
      "TTMMMTTTTTMTTMMTTTTMMMMMTMTTTTTMMMTTTTTTMTTTTTLTTTTTTLMTMMMM\n",
      "TTTLTTTMMMMTMTMLTTMMTTMMTMTMMTMTMTMTMTTTTTTTTTMLLMTTTTMTTTTT\n",
      "TTMTMTMMMMTTMMMTTTTMTMMTMTMTTMTTMTTMTMTMTTMTTMTMTTTTTTTTTLTM\n",
      "MTTTLTTMTMTTTTTMTTMLMMTTTTTTTTTTTMTMMTTTLMTTTTTTMLMMMTTLTTLT\n",
      "TTTTTTTTMMMTTLMMMTMMTTMTTMLTMMTMTTMLTTTTTTTTTTTTTMTTTMTTTTMT\n",
      "TLLTMTTMTTMTMTTTTLTTTTTTTLTTTMTTLMTMTMTLMTTTTMMMMTTTTTTTTTMT\n",
      "TMTMMMTTMLTTTTTTTTTTTTTTMMMTMTMMTMTMTMMMTMTTTTTMMTTMTTMTMTMT\n",
      "MTTTTTMTMMTTMTTTTTTTTTTMMTTMTTTMTTTTTTMMTTTTMTTMTTTTTTTTTTTT\n"
     ]
    }
   ],
   "source": [
    "# načteme si data z fotopasti\n",
    "from severni_pol import fotopast\n",
    "pozorovani = fotopast.pozorovani()\n",
    "\n",
    "# takhle nějak vypadají jednotlivá pozorování z fotopasti\n",
    "print(pozorovani)\n"
   ]
  },
  {
   "cell_type": "code",
   "execution_count": 4,
   "metadata": {},
   "outputs": [
    {
     "ename": "KeyError",
     "evalue": "'L'",
     "output_type": "error",
     "traceback": [
      "\u001b[1;31m---------------------------------------------------------------------------\u001b[0m",
      "\u001b[1;31mKeyError\u001b[0m                                  Traceback (most recent call last)",
      "Cell \u001b[1;32mIn[4], line 2\u001b[0m\n\u001b[0;32m      1\u001b[0m \u001b[38;5;66;03m# tak jak si vedeme?\u001b[39;00m\n\u001b[1;32m----> 2\u001b[0m zvirata \u001b[38;5;241m=\u001b[39m \u001b[43mspocitej_zvirata\u001b[49m\u001b[43m(\u001b[49m\u001b[43mpozorovani\u001b[49m\u001b[43m)\u001b[49m\n\u001b[0;32m      3\u001b[0m \u001b[38;5;28mprint\u001b[39m(zvirata)\n",
      "Cell \u001b[1;32mIn[1], line 22\u001b[0m, in \u001b[0;36mspocitej_zvirata\u001b[1;34m(pozorovani)\u001b[0m\n\u001b[0;32m     20\u001b[0m \u001b[38;5;66;03m# každé písmenko v pozorování je jedno zvíře\u001b[39;00m\n\u001b[0;32m     21\u001b[0m \u001b[38;5;28;01mfor\u001b[39;00m zvire \u001b[38;5;129;01min\u001b[39;00m pozorovani:\n\u001b[1;32m---> 22\u001b[0m     zvirata[zvire] \u001b[38;5;241m=\u001b[39m \u001b[43mzvirata\u001b[49m\u001b[43m[\u001b[49m\u001b[43mzvire\u001b[49m\u001b[43m]\u001b[49m \u001b[38;5;241m+\u001b[39m \u001b[38;5;241m1\u001b[39m\n\u001b[0;32m     23\u001b[0m \u001b[38;5;28;01mreturn\u001b[39;00m zvirata\n",
      "\u001b[1;31mKeyError\u001b[0m: 'L'"
     ]
    }
   ],
   "source": [
    "# tak jak si vedeme?\n",
    "zvirata = spocitej_zvirata(pozorovani)\n",
    "print(zvirata)"
   ]
  },
  {
   "cell_type": "code",
   "execution_count": null,
   "metadata": {},
   "outputs": [],
   "source": []
  },
  {
   "cell_type": "code",
   "execution_count": null,
   "metadata": {},
   "outputs": [],
   "source": []
  },
  {
   "cell_type": "markdown",
   "metadata": {},
   "source": [
    "**OOPS!** Něco je špatně.\n",
    "\n",
    "Elf se ti naklopí přes rameno, a řekne - \"No jo, to bude asi ta polární liška.\n",
    "Čas od času se tam nějaká připlete. Jenže to není všechno. Není to tak jednoduché.\"\n",
    "\n",
    "A s tím ti vysvětlí kompletní pravidla toho, jak je potřeba zvířata spočítat.\n"
   ]
  },
  {
   "cell_type": "code",
   "execution_count": null,
   "metadata": {},
   "outputs": [],
   "source": []
  },
  {
   "cell_type": "code",
   "execution_count": null,
   "metadata": {},
   "outputs": [],
   "source": []
  },
  {
   "cell_type": "markdown",
   "metadata": {},
   "source": [
    "## Zadání\n",
    "\n",
    "- Každý řádek je jeden den; tohle bude důležité za chvíli.\n",
    "- Lišky (`L`) počítat nechceme, chceme je přeskočit - počítat budeme jen medvědy (`M`) a tuleně (`T`)\n",
    "- Medvědi jsou hladoví, a také trpěliví; takže:\n",
    "  - když **ve stejný den** (na stejném datovém řádku) přijde k fotopasti medvěd\n",
    "  - a **hned po něm** přijde k fotopasti tuleň\n",
    "  - tak ten medvěd toho tuleně sežere (započítáme tedy medvěda, ale nemůžeme započítat tuleně), a odejde, takže další tuleň už je v bezpečí\n",
    "\n",
    "Napiš program, který podle těchto pravidel zvířata spočítá, a potom ověř, že jsi ho napsal správně \n",
    "(*viz dál v textu, na konci notebooku*).\n",
    "\n",
    "Budeš potřebovat:\n",
    "\n",
    "- [pracovat s textem](https://github.com/jan-herout/pylab/blob/main/kapitola-06/readme.md#text-se-d%C3%A1-rozd%C4%9Blit-a-co-bylo-rozd%C4%9Blen%C3%A9-se-d%C3%A1-slou%C4%8Dit)\n",
    "- [cyklus for](https://github.com/jan-herout/pylab/blob/main/kapitola-11/readme.md#cyklus-for)\n",
    "- [if/else](https://github.com/jan-herout/pylab/blob/main/kapitola-08/readme.md#kl%C3%AD%C4%8Dov%C3%A9-slovo-if)\n",
    "- [dictionary](https://github.com/jan-herout/pylab/tree/main/kapitola-13)\n",
    "\n",
    "Dole jsem ti připravil kostru programu. Uprav jí tak, aby fungovala podle zadání."
   ]
  },
  {
   "cell_type": "code",
   "execution_count": 45,
   "metadata": {},
   "outputs": [],
   "source": [
    "# tohle je ta původní funkce, která nefunguje správně, tvým úkolem je jí upravit\n",
    "# - každý řádek pozorování je jeden den\n",
    "# - lišky (L) přeskakuješ\n",
    "# - pokud ve stejném jednom dni k fotopasti přijde medvěd, a hned po něm tuleň,\n",
    "#   tuleně nezapočítáš, protože ho medvěd sežral\n",
    "def spocitej_zvirata(pozorovani: str):\n",
    "    \"\"\"Funkce spočítá medvědy a tuleně pro všechna pozorování.\n",
    "    \n",
    "        Pravidla:\n",
    "        - Každý řádek je jeden den; tohle bude důležité za chvíli.\n",
    "        - Lišky (`L`) počítat nechceme, chceme je přeskočit - počítat budeme jen medvědy (`M`) a tuleně (`T`)\n",
    "        - Medvědi jsou hladoví, a také trpěliví; takže:\n",
    "        - když **ve stejný den** přijde k fotopasti medvěd\n",
    "        - a hned po něm přijde k fotopasti tuleň\n",
    "        - tak ten medvěd toho tuleně sežere (započítáme tedy medvěda, ale nemůžeme započítat tuleně)\n",
    "        - medvěd potom odejde, a další tuleň je tedy v bezpečí\n",
    "        \n",
    "        Args:\n",
    "            pozorovani (str): hodnoty pozorování, každý řádek je jeden den\n",
    "\n",
    "        Returns:\n",
    "            dict: klíčem je písmeno které představuje druh, a hodnotou kje počet\n",
    "    \"\"\"\n",
    "    # nejdřív si založíme dictionary\n",
    "    # klíč bude typ zvířete (M=medvěd,T=tuleň), a hodnota bude jejich počet\n",
    "    # protože vím, že budu počítat medvědy a tuleně, můžu si dopředu připravit\n",
    "    # jejich počet, abych se nemusel zabývat tím, jestli dané zvížře už v tom\n",
    "    # dictionary je.\n",
    "    zvirata = {\n",
    "        \"M\": 0,\n",
    "        \"T\": 0,\n",
    "    }\n",
    "    predchozi_zvire = None\n",
    "    \n",
    "    for zvire in pozorovani:\n",
    "        if zvire == \"\\n\":\n",
    "            predchozi_zvire = None\n",
    "            continue\n",
    "        elif zvire == \"L\":\n",
    "            continue\n",
    "        if zvire == \"T\" and predchozi_zvire == \"M\":\n",
    "            zvirata[zvire] = zvirata[zvire] - 1        \n",
    "        zvirata[zvire] = zvirata[zvire] + 1\n",
    "        predchozi_zvire = zvire\n",
    "        \n",
    "    return zvirata"
   ]
  },
  {
   "cell_type": "code",
   "execution_count": 46,
   "metadata": {},
   "outputs": [
    {
     "data": {
      "text/plain": [
       "{'M': 376, 'T': 526}"
      ]
     },
     "execution_count": 46,
     "metadata": {},
     "output_type": "execute_result"
    }
   ],
   "source": [
    "spocitej_zvirata(pozorovani)"
   ]
  },
  {
   "cell_type": "code",
   "execution_count": 47,
   "metadata": {},
   "outputs": [],
   "source": [
    "zvirata = {}\n",
    "predchozi_zvire = None\n",
    "for zvire in pozorovani:\n",
    "    if zvire == \"\\n\":\n",
    "        predchozi_zvire = None\n",
    "        continue        \n",
    "    if zvire == \"L\":\n",
    "        continue\n",
    "    \n",
    "    if zvire == \"T\" and predchozi_zvire == \"M\":\n",
    "        predchozi_zvire = None\n",
    "        continue\n",
    "    \n",
    "    if zvire not in zvirata:\n",
    "        zvirata[zvire] = 1\n",
    "    else:\n",
    "        zvirata[zvire] = zvirata[zvire] + 1\n",
    "    predchozi_zvire = zvire"
   ]
  },
  {
   "cell_type": "code",
   "execution_count": 48,
   "metadata": {},
   "outputs": [
    {
     "data": {
      "text/plain": [
       "{'T': 526, 'M': 376}"
      ]
     },
     "execution_count": 48,
     "metadata": {},
     "output_type": "execute_result"
    }
   ],
   "source": [
    "zvirata"
   ]
  },
  {
   "cell_type": "code",
   "execution_count": 40,
   "metadata": {},
   "outputs": [
    {
     "data": {
      "text/plain": [
       "{'M': 376, 'T': 526}"
      ]
     },
     "execution_count": 40,
     "metadata": {},
     "output_type": "execute_result"
    }
   ],
   "source": [
    "spocitej_zvirata(pozorovani)"
   ]
  },
  {
   "cell_type": "code",
   "execution_count": 7,
   "metadata": {
    "scrolled": true
   },
   "outputs": [],
   "source": [
    "radky = pozorovani.splitlines()"
   ]
  },
  {
   "cell_type": "code",
   "execution_count": 9,
   "metadata": {},
   "outputs": [
    {
     "name": "stdout",
     "output_type": "stream",
     "text": [
      "MLMTMTTTTTMTMTTMTTTLMTMMMTMTTTMTTTTTTTTTTTMTTMMTMTTTTTTTLTTT +\n",
      "LMTTTTMTTTMTTMMTTTTMTMTLLTMMTTMTTTTTTTLTTTTMTTMTTTTMTTLTTTTT +\n",
      "TTTMTTTTMTMTLMMTTMMMMTMTTTMMTTMMMTTMTTTTTTMMTTTTTTMTTTTMTMTM +\n",
      "MMTTTTTTTTTMTLTTMTMTMTMMTTMTLTMMTMLTLTMTMTTTMTLTLTTMTTTTMTTT +\n",
      "MMTTLMTTTTMTTTTTTTMMMMMMTTTTTTTTTMTTTMLTMTMTMTMMTMLTMLTTLMTT +\n",
      "TLTMTTMMTMMMTMMTTLTMMTMTMMTTTTTTTTMTTMMMTTTTTTMMTTMTTTTTTMTT +\n",
      "TTTTMTMTMLTTTTMTMTLTTTMTLMTTMTTMTTMMMMTTTTMMTTMTMMMMTTMTTMTM +\n",
      "TMTTTMTTTMMTTMTTTTTTTTMTTMTTMTLMMTLMLMMTTTLTMMTTMMTTTTTTTTTT +\n",
      "TTTTTMMTTMTTTTTTTMTMMTLTMMTTTLMTTTTTMTMTMTMTMMMTTTTTMTTMTTMT +\n",
      "TTMTTTTTMTTTLMMTTTMTMTTTTLTTMTTTTMTLTTTMMMLMTTMMTTLTTTTTTMMT +\n",
      "TTTTTTLTMTTTTMTTTTTTTMTTTTTMTLTTTLMTTTMTMTTMMMTTTTTMTTTMTTMT +\n",
      "TMLTMTMTMMTMMTTTTTTTTTMMTTTTTMMTTTTTTTTMTTTTTTMTTTTTTMMLTLMT +\n",
      "TTMMMTTTTTMTTMMTTTTMMMMMTMTTTTTMMMTTTTTTMTTTTTLTTTTTTLMTMMMM +\n",
      "TTTLTTTMMMMTMTMLTTMMTTMMTMTMMTMTMTMTMTTTTTTTTTMLLMTTTTMTTTTT +\n",
      "TTMTMTMMMMTTMMMTTTTMTMMTMTMTTMTTMTTMTMTMTTMTTMTMTTTTTTTTTLTM +\n",
      "MTTTLTTMTMTTTTTMTTMLMMTTTTTTTTTTTMTMMTTTLMTTTTTTMLMMMTTLTTLT +\n",
      "TTTTTTTTMMMTTLMMMTMMTTMTTMLTMMTMTTMLTTTTTTTTTTTTTMTTTMTTTTMT +\n",
      "TLLTMTTMTTMTMTTTTLTTTTTTTLTTTMTTLMTMTMTLMTTTTMMMMTTTTTTTTTMT +\n",
      "TMTMMMTTMLTTTTTTTTTTTTTTMMMTMTMMTMTMTMMMTMTTTTTMMTTMTTMTMTMT +\n",
      "MTTTTTMTMMTTMTTTTTTTTTTMMTTMTTTMTTTTTTMMTTTTMTTMTTTTTTTTTTTT +\n"
     ]
    }
   ],
   "source": [
    "for radek in radky:\n",
    "    print(radek, \"+\")"
   ]
  },
  {
   "cell_type": "markdown",
   "metadata": {},
   "source": [
    "## Tak jak se ti to podařilo?"
   ]
  },
  {
   "cell_type": "code",
   "execution_count": 32,
   "metadata": {},
   "outputs": [],
   "source": [
    "# předpokládám, že tu funkci máš napsanou a že se jmenuje spocitej_zvirata\n",
    "pozorovani = fotopast.pozorovani()\n",
    "vysledek = spocitej_zvirata(pozorovani)"
   ]
  },
  {
   "cell_type": "code",
   "execution_count": 33,
   "metadata": {},
   "outputs": [
    {
     "data": {
      "text/plain": [
       "{'M': 376, 'T': 769}"
      ]
     },
     "execution_count": 33,
     "metadata": {},
     "output_type": "execute_result"
    }
   ],
   "source": [
    "fotopast._spocitej_zvirata(pozorovani)"
   ]
  },
  {
   "cell_type": "code",
   "execution_count": 34,
   "metadata": {},
   "outputs": [
    {
     "data": {
      "text/markdown": [
       "\n",
       "# To se mi nějak nezdá ...\n",
       "\n",
       "Čekla bych tohle: zvirata={'M': 376, 'T': 769}\n",
       "\n",
       "![tuleň](./imgs/tulen.jpg)\n"
      ]
     },
     "metadata": {},
     "output_type": "display_data"
    }
   ],
   "source": [
    "# ... a tady máme výsledek ...\n",
    "fotopast.vyhodnot(pozorovani, vysledek)"
   ]
  },
  {
   "cell_type": "code",
   "execution_count": null,
   "metadata": {},
   "outputs": [],
   "source": [
    "\n"
   ]
  }
 ],
 "metadata": {
  "kernelspec": {
   "display_name": "Python 3 (ipykernel)",
   "language": "python",
   "name": "python3"
  },
  "language_info": {
   "codemirror_mode": {
    "name": "ipython",
    "version": 3
   },
   "file_extension": ".py",
   "mimetype": "text/x-python",
   "name": "python",
   "nbconvert_exporter": "python",
   "pygments_lexer": "ipython3",
   "version": "3.12.2"
  }
 },
 "nbformat": 4,
 "nbformat_minor": 4
}
