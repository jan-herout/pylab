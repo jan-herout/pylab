{
 "cells": [
  {
   "cell_type": "markdown",
   "metadata": {},
   "source": [
    "# Fotopast\n",
    "\n",
    "![medved](./imgs/medved.jpg)"
   ]
  },
  {
   "cell_type": "markdown",
   "metadata": {},
   "source": [
    "Když si jednou ráno jdeš na základně SantaK do kantýny pro kakao, potkáč tam elfa, kterého\n",
    "jsi ještě nikdy neviděl. Je celý nahrbený nad stolem, na kterém je hromada papírových pásek,\n",
    "jednu z nich drží v ruce, posouvá si jí tam a zpátky, a zuřivě škrabe něco tužkou do malého,\n",
    "ušmudlaného sešitu. Tváří se u toho nešťastně.\n",
    "\n",
    "Podíváš se mu přes rameno. Na papírové pásce je sada písmen. Vypadá nějak takhle:\n",
    "\n",
    "`MTMTMTTTTTMTMTTMTTTTMTMMMTMTTTMTTTTTTTTTTTMTTMMTMTTTTTTTTTTT`\n",
    "\n",
    "\"Já to nikdy nedám dohromady ...\" zoufá si obrýlený elf.\n",
    "\n",
    "\"Co to je?\" nedá to to. Prostě to musíš vědět.\n",
    "\n",
    "\"To jsou záznamy z naší fotopasti. Víš, sledujeme tady medvědí a tulení populaci. Každý proužek je jeden den...\n",
    "a já mám za úkol spočítat, kolik medvědů a tuleňů kolem té fotopasti prošlo. Jenže podívej, jde mi z toho hlava kolem,\n",
    "jak mám ty písmenka spočítat?\"\n",
    "\n",
    "\"**AHA!**\" řekneš mu na to, a napíšeš tenhle program:"
   ]
  },
  {
   "cell_type": "code",
   "execution_count": 9,
   "metadata": {},
   "outputs": [],
   "source": [
    "def spocitej_zvirata(pozorovani: str):\n",
    "    \"\"\"Funkce spočítá medvědy a tuleně na základě jednoho řádku pozorování \n",
    "    (tj za jeden den). \n",
    "    \n",
    "    Args:        \n",
    "        pozorovani (str): hodnoty pozorování\n",
    "    \n",
    "    Returns:\n",
    "        dict: klíčem je písmeno které představuje druh, a hodnotou kje počet \n",
    "    \"\"\"\n",
    "    # nejdřív si založíme dictionary\n",
    "    # klíč bude typ zvířete (M=medvěd,T=tuleň), a hodnota bude jejich počet\n",
    "    # protože vím, že budu počítat medvědy a tuleně, můžu si dopředu připravit\n",
    "    # jejich počet, abych se nemusel zabývat tím, jestli dané zvížře už v tom\n",
    "    # dictionary je.\n",
    "    zvirata = {\n",
    "        \"M\": 0,\n",
    "        \"T\": 0,\n",
    "    }\n",
    "    for zvire in pozorovani:\n",
    "        zvirata[zvire] = zvirata[zvire] + 1\n",
    "    return zvirata"
   ]
  },
  {
   "cell_type": "markdown",
   "metadata": {},
   "source": [
    "\"Podívej, už to mám!\" řekneš, a zadáš program do počítače, kde jsou jednotlivá pozorování po dnech."
   ]
  },
  {
   "cell_type": "code",
   "execution_count": 8,
   "metadata": {},
   "outputs": [
    {
     "name": "stdout",
     "output_type": "stream",
     "text": [
      "Zvíře: M, a jejich počet je 1\n",
      "Zvíře: T, a jejich počet je 0\n"
     ]
    }
   ],
   "source": [
    "# tohle je to pozorování\n",
    "pozorovani = \"MTMTMTTTTTMTMTTMTTTTMTMMMTMTTTMTTTTTTTTTTTMTTMMTMTTTTTTTTTTT\"\n",
    "\n",
    "# zavoláme svojí funkci ...\n",
    "zvirata = spocitej_zvirata(pozorovani)\n",
    "\n",
    "# a podíváme se na výsledek\n",
    "for k, v in zvirata.items():\n",
    "    print(f\"Zvíře: {k}, a jejich počet je {v}\")"
   ]
  },
  {
   "cell_type": "markdown",
   "metadata": {},
   "source": [
    "Nedočkavě zapojíš svojí funkci do kompletního seznamu pozorování ... a stane se tohle ..."
   ]
  },
  {
   "cell_type": "code",
   "execution_count": 10,
   "metadata": {},
   "outputs": [
    {
     "name": "stdout",
     "output_type": "stream",
     "text": [
      "MLMTMTTTTTMTMTTMTTTLMTMMMTMTTTMTTTTTTTTTTTMTTMMTMTTTTTTTLTTT\n",
      "LMTTTTMTTTMTTMMTTTTMTMTLLTMMTTMTTTTTTTLTTTTMTTMTTTTMTTLTTTTT\n",
      "TTTMTTTTMTMTLMMTTMMMMTMTTTMMTTMMMTTMTTTTTTMMTTTTTTMTTTTMTMTM\n",
      "MMTTTTTTTTTMTLTTMTMTMTMMTTMTLTMMTMLTLTMTMTTTMTLTLTTMTTTTMTTT\n",
      "MMTTLMTTTTMTTTTTTTMMMMMMTTTTTTTTTMTTTMLTMTMTMTMMTMLTMLTTLMTT\n",
      "TLTMTTMMTMMMTMMTTLTMMTMTMMTTTTTTTTMTTMMMTTTTTTMMTTMTTTTTTMTT\n",
      "TTTTMTMTMLTTTTMTMTLTTTMTLMTTMTTMTTMMMMTTTTMMTTMTMMMMTTMTTMTM\n",
      "TMTTTMTTTMMTTMTTTTTTTTMTTMTTMTLMMTLMLMMTTTLTMMTTMMTTTTTTTTTT\n",
      "TTTTTMMTTMTTTTTTTMTMMTLTMMTTTLMTTTTTMTMTMTMTMMMTTTTTMTTMTTMT\n",
      "TTMTTTTTMTTTLMMTTTMTMTTTTLTTMTTTTMTLTTTMMMLMTTMMTTLTTTTTTMMT\n",
      "TTTTTTLTMTTTTMTTTTTTTMTTTTTMTLTTTLMTTTMTMTTMMMTTTTTMTTTMTTMT\n",
      "TMLTMTMTMMTMMTTTTTTTTTMMTTTTTMMTTTTTTTTMTTTTTTMTTTTTTMMLTLMT\n",
      "TTMMMTTTTTMTTMMTTTTMMMMMTMTTTTTMMMTTTTTTMTTTTTLTTTTTTLMTMMMM\n",
      "TTTLTTTMMMMTMTMLTTMMTTMMTMTMMTMTMTMTMTTTTTTTTTMLLMTTTTMTTTTT\n",
      "TTMTMTMMMMTTMMMTTTTMTMMTMTMTTMTTMTTMTMTMTTMTTMTMTTTTTTTTTLTM\n",
      "MTTTLTTMTMTTTTTMTTMLMMTTTTTTTTTTTMTMMTTTLMTTTTTTMLMMMTTLTTLT\n",
      "TTTTTTTTMMMTTLMMMTMMTTMTTMLTMMTMTTMLTTTTTTTTTTTTTMTTTMTTTTMT\n",
      "TLLTMTTMTTMTMTTTTLTTTTTTTLTTTMTTLMTMTMTLMTTTTMMMMTTTTTTTTTMT\n",
      "TMTMMMTTMLTTTTTTTTTTTTTTMMMTMTMMTMTMTMMMTMTTTTTMMTTMTTMTMTMT\n",
      "MTTTTTMTMMTTMTTTTTTTTTTMMTTMTTTMTTTTTTMMTTTTMTTMTTTTTTTTTTTT\n"
     ]
    }
   ],
   "source": [
    "# načteme si data z fotopasti\n",
    "from severni_pol import fotopast\n",
    "pozorovani = fotopast.pozorovani()\n",
    "\n",
    "# takhle nějak to vypadá!\n",
    "print(pozorovani)\n"
   ]
  },
  {
   "cell_type": "code",
   "execution_count": 12,
   "metadata": {},
   "outputs": [
    {
     "ename": "KeyError",
     "evalue": "'L'",
     "output_type": "error",
     "traceback": [
      "\u001b[1;31m---------------------------------------------------------------------------\u001b[0m",
      "\u001b[1;31mKeyError\u001b[0m                                  Traceback (most recent call last)",
      "Cell \u001b[1;32mIn[12], line 8\u001b[0m\n\u001b[0;32m      1\u001b[0m \u001b[38;5;66;03m# a spočítáme zvířata\u001b[39;00m\n\u001b[0;32m      2\u001b[0m \u001b[38;5;66;03m# dictionary musím vynulovat, aby se mi do toho nepletl stav z toho testu nahoře\u001b[39;00m\n\u001b[0;32m      3\u001b[0m zvirata \u001b[38;5;241m=\u001b[39m {\n\u001b[0;32m      4\u001b[0m     \u001b[38;5;124m\"\u001b[39m\u001b[38;5;124mM\u001b[39m\u001b[38;5;124m\"\u001b[39m: \u001b[38;5;241m0\u001b[39m,\n\u001b[0;32m      5\u001b[0m     \u001b[38;5;124m\"\u001b[39m\u001b[38;5;124mT\u001b[39m\u001b[38;5;124m\"\u001b[39m: \u001b[38;5;241m0\u001b[39m,\n\u001b[0;32m      6\u001b[0m }\n\u001b[1;32m----> 8\u001b[0m \u001b[43mspocitej_zvirata\u001b[49m\u001b[43m(\u001b[49m\u001b[43mpozorovani\u001b[49m\u001b[43m)\u001b[49m\n\u001b[0;32m      9\u001b[0m \u001b[38;5;28mprint\u001b[39m(zvirata)\n",
      "Cell \u001b[1;32mIn[9], line 21\u001b[0m, in \u001b[0;36mspocitej_zvirata\u001b[1;34m(pozorovani)\u001b[0m\n\u001b[0;32m     16\u001b[0m zvirata \u001b[38;5;241m=\u001b[39m {\n\u001b[0;32m     17\u001b[0m     \u001b[38;5;124m\"\u001b[39m\u001b[38;5;124mM\u001b[39m\u001b[38;5;124m\"\u001b[39m: \u001b[38;5;241m0\u001b[39m,\n\u001b[0;32m     18\u001b[0m     \u001b[38;5;124m\"\u001b[39m\u001b[38;5;124mT\u001b[39m\u001b[38;5;124m\"\u001b[39m: \u001b[38;5;241m0\u001b[39m,\n\u001b[0;32m     19\u001b[0m }\n\u001b[0;32m     20\u001b[0m \u001b[38;5;28;01mfor\u001b[39;00m zvire \u001b[38;5;129;01min\u001b[39;00m pozorovani:\n\u001b[1;32m---> 21\u001b[0m     zvirata[zvire] \u001b[38;5;241m=\u001b[39m \u001b[43mzvirata\u001b[49m\u001b[43m[\u001b[49m\u001b[43mzvire\u001b[49m\u001b[43m]\u001b[49m \u001b[38;5;241m+\u001b[39m \u001b[38;5;241m1\u001b[39m\n\u001b[0;32m     22\u001b[0m \u001b[38;5;28;01mreturn\u001b[39;00m zvirata\n",
      "\u001b[1;31mKeyError\u001b[0m: 'L'"
     ]
    }
   ],
   "source": [
    "# a spočítáme zvířata\n",
    "# dictionary musím vynulovat, aby se mi do toho nepletl stav z toho testu nahoře\n",
    "zvirata = {\n",
    "    \"M\": 0,\n",
    "    \"T\": 0,\n",
    "}\n",
    "\n",
    "spocitej_zvirata(pozorovani)\n",
    "print(zvirata)"
   ]
  },
  {
   "cell_type": "markdown",
   "metadata": {},
   "source": [
    "**OOPS!** Něco je špatně.\n",
    "\n",
    "Elf se ti naklopí přes rameno, a řekne - \"No jo, to bude asi ta liška.\n",
    "Čas od času se tam nějaká připlete. Jenže to není všechno. Není to tak jednoduché.\"\n",
    "\n",
    "A s tím ti vysvětlí kompletní pravidla toho, jak je potřeba zvířata spočítat.\n"
   ]
  },
  {
   "cell_type": "markdown",
   "metadata": {},
   "source": [
    "## Zadání\n",
    "\n",
    "- Každý řádek je jeden den; tohle bude důležité za chvíli.\n",
    "- Lišky (`L`) počítat nechceme, chceme je přeskočit - počítat budeme jen medvědy (`M`) a tuleně (`T`)\n",
    "- Medvědi jsou hladoví, a také trpěliví; takže:\n",
    "  - když **ve stejný den** přijde k fotopasti medvěd\n",
    "  - a hned po něm přijde k fotopasti tuleň\n",
    "  - tak ten medvěd toho tuleně sežere (započítáme tedy medvěda, ale nemůžeme započítat tuleně)\n",
    "\n",
    "Napiš program, který podle těchto pravidel zvířata spočítá, a potom ověř, že jsi ho napsal správně (viz dál v textu)."
   ]
  },
  {
   "cell_type": "markdown",
   "metadata": {},
   "source": []
  }
 ],
 "metadata": {
  "kernelspec": {
   "display_name": "jupyterlab",
   "language": "python",
   "name": "python3"
  },
  "language_info": {
   "codemirror_mode": {
    "name": "ipython",
    "version": 3
   },
   "file_extension": ".py",
   "mimetype": "text/x-python",
   "name": "python",
   "nbconvert_exporter": "python",
   "pygments_lexer": "ipython3",
   "version": "3.12.0"
  }
 },
 "nbformat": 4,
 "nbformat_minor": 2
}
