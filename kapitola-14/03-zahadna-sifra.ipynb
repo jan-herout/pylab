{
 "cells": [
  {
   "cell_type": "markdown",
   "metadata": {},
   "source": [
    "# Záhadná šifra\n",
    "\n",
    "Pracovat na severním pólu v kotelne obvykle není žádná velká zábava. Elfové, kteří\n",
    "se starají o to, aby na zákadně SantaK nikomu nemrznul - řekněme - polštářek který má\n",
    "každý z nich zezadu pod kalhotami se často nudí, a přemýšlí čím by si mohli zpříjemnit\n",
    "dlouhou službu. Docela často jeden na druhého vymýšlí různé rošťárny. Ve službě se pravidelně\n",
    "střídají, a nastupující směně často provedou nějaký kanadský žertík.\n",
    "\n",
    "Největší šibal je elf, kterému se neřekne jinak než Nosík. Chodí totiž často s nosem nahoru."
   ]
  },
  {
   "cell_type": "markdown",
   "metadata": {},
   "source": [
    "Jednou takhle přišel Nosík za tebou, a ukazuje ti nejnověkší rošťárnu, kterou vymyslel.\n",
    "\n",
    "\"Koukej!\" povídá. Po nás tady má sloužit Bambula. Připravil jsem si pro něj překvapení,\n",
    "a vsadím se že ho nachytám, že to nerozluští.\n",
    "\n",
    "Podává ti kousek papíru, na kterém je napsáno tohle:\n",
    "\n",
    "`1 0 12 1 20 11 0 26 9 4 26 14 18 4 11 27`"
   ]
  },
  {
   "cell_type": "markdown",
   "metadata": {},
   "source": [
    "Nechápavě na něj hledíš. \"Co to jako je?\""
   ]
  },
  {
   "cell_type": "markdown",
   "metadata": {},
   "source": [
    "\"No právě! Na tohle Bambula nikdy nepřijde.\" A s těmito slovy ti ukazuje program, který napsal. \"Celé je to jedna velká šifra.\n",
    "Vsadím se, že na to bude koukat dvě hodiny, a vůbec mu nedojde, jak jsem si z něj vystřelil.\""
   ]
  },
  {
   "cell_type": "markdown",
   "metadata": {},
   "source": [
    "**Nejdřív si připravíme šifrovací klíč, a šifrovací funkci.**"
   ]
  },
  {
   "cell_type": "code",
   "execution_count": 1,
   "metadata": {},
   "outputs": [],
   "source": [
    "# PISMENA je šifrovací klíč. Každé písmeno má \n",
    "# v klíči jasně danou pozici.\n",
    "PISMENA = \"abcdefghijklmnopqrstuvwxyz !\"\n",
    "\n",
    "# potom si připravíme šifrovací funkci\n",
    "def zasifruj(text: str):\n",
    "    \"\"\"Funkce vrací původní text, v zašifrované podobě.\n",
    "\n",
    "    Args:\n",
    "        text (str): původní text\n",
    "\n",
    "    Returns:\n",
    "        str: zašifrovaný text\n",
    "    \"\"\"\n",
    "    # tahle proměnná je list, do kterého postupně budeme vkládat jednotlivá\n",
    "    # písmenka, pochopitelně zašifrovaná, jak jinak!\n",
    "    sifra = []\n",
    "    # potom půjdeme přes každé písmenko v původním textu\n",
    "    for pismeno in text:\n",
    "        # najdeme si pozici písmenka v šifrovacím klíči\n",
    "        idx = PISMENA.find(pismeno)\n",
    "        # a tahle pozice - poté co z ní uděláme string - je zašifrované písmena\n",
    "        sifra.append(str(idx))\n",
    "    # nakonec všechna zašifrovaná písmena spojíme do jednoho stringu\n",
    "    # jednotlivá zašifrovaná písmena spojíme mezerou\n",
    "    return \" \".join(sifra)\n"
   ]
  },
  {
   "cell_type": "markdown",
   "metadata": {},
   "source": [
    "\"No to je fajn,\" - odpovíš - \" - jenže já vlastně pořád nevím, cos mu to tam napsal\".\n",
    "\n",
    "\"Žádný problém šéfe! Podívej, tady jsem si napsal dešifrovací funkci. Tak si to na ní zkus!\""
   ]
  },
  {
   "cell_type": "code",
   "execution_count": 2,
   "metadata": {},
   "outputs": [],
   "source": [
    "# tahle proměnná už existuje, nemusel bych jí asi definovat znovu\n",
    "# ale chci, aby tady bylo jasně vidět co je vlastně ten klíč\n",
    "PISMENA = \"abcdefghijklmnopqrstuvwxyz !\"\n",
    "\n",
    "def desifruj(sifra: str):\n",
    "    vysledek = []\n",
    "    for cislo in sifra.split(\" \"):\n",
    "        pozice = int(cislo)\n",
    "        pismeno = PISMENA[pozice]\n",
    "        vysledek.append(pismeno)\n",
    "    return \"\".join(vysledek)\n"
   ]
  },
  {
   "cell_type": "markdown",
   "metadata": {},
   "source": [
    "Posadíš se k terminálu, a zkusíš si projet vzkaz, který Nosík posílá Bambulovi."
   ]
  },
  {
   "cell_type": "code",
   "execution_count": 3,
   "metadata": {},
   "outputs": [
    {
     "name": "stdout",
     "output_type": "stream",
     "text": [
      "bambula je osel!\n"
     ]
    }
   ],
   "source": [
    "print(desifruj(\"1 0 12 1 20 11 0 26 9 4 26 14 18 4 11 27\"))"
   ]
  },
  {
   "cell_type": "markdown",
   "metadata": {},
   "source": [
    "\"**Nosíku!**\" zařveš. \"Styď se. To je neslušné. Takhle si z chudáka Bambuly utahovat.\"\n",
    "\n",
    "\"Klid, šéfe ... hlavně si zkus ten vzkaz zašifrovat, a potom znova rozšifrovat.\n",
    "\n",
    "Chvilku ťukáš - ťukyťuk - do kláves, a napíšeš tohle:"
   ]
  },
  {
   "cell_type": "code",
   "execution_count": 4,
   "metadata": {},
   "outputs": [
    {
     "name": "stdout",
     "output_type": "stream",
     "text": [
      "vzkaz='bambula je osel!'\n",
      "sifra='1 0 12 1 20 11 0 26 9 4 26 14 18 4 11 27'\n",
      "desifrovano='bambula je osel!'\n"
     ]
    }
   ],
   "source": [
    "vzkaz = \"bambula je osel!\"\n",
    "sifra = zasifruj(vzkaz)\n",
    "desifrovano = desifruj(sifra)\n",
    "\n",
    "print(f\"{vzkaz=}\")\n",
    "print(f\"{sifra=}\")\n",
    "print(f\"{desifrovano=}\")"
   ]
  },
  {
   "cell_type": "markdown",
   "metadata": {},
   "source": [
    "\"Jo, funguje to pěkně\", odpovíš. Nosík skáče radostí půl metru do vzduchu, a jak tak vyskočí, praští hlavou do lampičky která osvětluje pracovní desku, a na stůl se snese kousek papíru. Je na něm napsáno: _Od Bambuly pro kamaráda Nosíka._\n",
    "\n",
    "Nosík se ho okamžitě zmocní, a tiše hvízdne. \"No, páni\". Podíváš se mu přes rameno, a vidíš docela dlouhý text.\n",
    "Vypadá přesně takhle (*spusť si následující buňku*)."
   ]
  },
  {
   "cell_type": "code",
   "execution_count": 5,
   "metadata": {},
   "outputs": [
    {
     "name": "stdout",
     "output_type": "stream",
     "text": [
      "@ďo;ieíbnsáýúňyk.,luqt\"šžjcrťxvů? z:a!fmwčěřgpdéh\n",
      "#ěčjšdépi ů\"ďháwcnbtqťe:múv!oa,ýxř;sl.zžugrňkf?íy\n",
      "$?ňbsiřcůh.ť!ergtukoamfýědčpvyz:wďqš,é\"úx;íál nžj\n",
      "%s\"ýržúmlcčvfňé.wájnštxuy!hz:?iř;gťoq ěaďdbpůek,í\n",
      "^ecgs.h lwo,pkyíšq!\"vfdť:mtč?řruď;éňýúázžějbixůna\n",
      "&ďcťvxnkgčňhšaqyu.tdá,ýeěiísů opr!úř?zémf\"lwbž:;j\n",
      "*ýnkťě yčúšféitů,xlb!aďc?:dř\"wszorgíňvpž.uqmá;jhe\n",
      "(aťtzé;č\"dxkňýpswžáhěiúímcvůřu?n,j.olďgye!: rbfqš\n",
      "[uí? zfýřqcd,xveaižďjúrůěnw;hybéols!ňkť\"čá:mpgš.t\n",
      "]msl:úégá!n,y.khťžvěšcýj;ňwzeupbtfičř\"r ů?ďíqdxoa\n",
      ")leovqý,gcw;bnifžhs:.úyk\"ačrmt!éř?jux šňďáůízěťdp\n",
      "-------------------------------------------------\n",
      ") 47 26 03 12 42 36 46 01 12 36 28 02 16 02 36 26 02 22 34 06 36 03 36 46 01 03 44 28 36 16 02 46 13 12 36 26 40 12 02 06 36\n",
      ") 43 24 43 03 02 12 13 00 36 34 36 46 03 01 31 42 36 47 02 37 45 40 22 19\n",
      "% 34 20 44 10 30 22 36 41 38 07 47 45 36 38 36 10 36 18 37 06 27 36 20 22 09 12 16 45 14\n",
      "% 45 40 34 36 18 16 06 36 42 34 00 47 07 16 36 20 38 45 36 26 10 07 16 19 20 18 47 36 40 16 03 44 45 28\n",
      "&\n",
      "( 18 35 39 08 17 23 39 42 30 00 42 10 43 00 44 20 24 20 42 03 13 17 02 39 06 30 22 42 00 08 43 39 14 28 33 42\n",
      ") 12 13 08 19\n",
      "(\n",
      "% 01 25 44 07 44 24 01 36 30 47 45 16 36 06 16 36 00 44 00 20 03 38 36 38 06 38 18 40 29 18 38 14 36\n",
      "* 27 02 31 40 02 01 04 13 47 19 27\n",
      "&\n",
      "[ 38 43 31 10 16 13 24 30 11 38 03 07 01 36 40 03 47 15 47 01 24 14 36 46\n",
      "] 12 12 12\n",
      ") 33 17 01 27 36 25 42 17 00 02 36 33 01 46 12 24 06 36\n",
      "^ 06 21 00 41 25 00 06 24 43 06 46 47 41 14 03 25 10 06\n",
      ") 36 24 15 36 11 34 46 34 36 27 42 28 36 16 00 24 46 19 19 19\n"
     ]
    }
   ],
   "source": [
    "from severni_pol import zprava\n",
    "sifra = zprava.zprava()\n",
    "\n",
    "print(sifra)"
   ]
  },
  {
   "cell_type": "markdown",
   "metadata": {},
   "source": [
    "\"No, asi tě dostal Nosíku\".\n",
    "\n",
    "Nosík se chvíli dívá na ten kus papíru, škrábe se na nose a pod bradou, a potom ...\n",
    "\n",
    "**\"Heuréka!\"** - vykřikne. Vždyť to je jasná substitiční šifra. To nahoře vypadá jako klíč... \n",
    "A to dole jako zpráva.\n",
    "\n",
    "Nechápavě na něj hledíš.\n",
    "\n",
    "\"Ale no tak, šéfe. Vždyť to je ten samý algoritmus, jaký jsem použil já\".\n",
    "\n",
    "A s těmi slovy ti vysvětluje, jak zprávu vyluštit.\n",
    "\n",
    "Pokus se podle pravidel, která ti sdělí, zprávu dešifrovat."
   ]
  },
  {
   "cell_type": "markdown",
   "metadata": {},
   "source": [
    "## Šifrovací klíč\n",
    "\n",
    "\"Podívej.\" Nosík ukáže na první část zprávy. \"Vidíš ty první řádky? Tak to je jasný šifrovací klíč.\""
   ]
  },
  {
   "cell_type": "code",
   "execution_count": 6,
   "metadata": {},
   "outputs": [
    {
     "name": "stdout",
     "output_type": "stream",
     "text": [
      "@ďo;ieíbnsáýúňyk.,luqt\"šžjcrťxvů? z:a!fmwčěřgpdéh\n",
      "#ěčjšdépi ů\"ďháwcnbtqťe:múv!oa,ýxř;sl.zžugrňkf?íy\n",
      "$?ňbsiřcůh.ť!ergtukoamfýědčpvyz:wďqš,é\"úx;íál nžj\n"
     ]
    }
   ],
   "source": [
    "for radek in sifra.splitlines()[0:3]:\n",
    "    print(radek)"
   ]
  },
  {
   "cell_type": "markdown",
   "metadata": {},
   "source": [
    "**Všimni si:**\n",
    "\n",
    "- na začátku každé řádky je nějaký \"podivný\" symbol, například `@`, nebo `#`\n",
    "- za tím symbolem jsou potom nějak náhodně rozházená písmenka (a nějaké další znaky, třeba\n",
    "  symboly pro interpunkci - mezera, čárka, a podobně)\n",
    "\n",
    "\"Tak tohle je přece šifrovací klíč, stejný jako ten, co jsem ti před chvíli ukazoval, ne?\n",
    "Jenom je potřeba ignorovat ten první symbol. Ten určitě není součástí toho klíče.\"\n"
   ]
  },
  {
   "cell_type": "markdown",
   "metadata": {},
   "source": [
    "Nosík potom pokračuje:\n",
    "\n",
    "\"A vidíš první řádky zbytku té zprávy, tam kde končí klíč? Klíč evidentně končí tam,\n",
    "kde je taková ta čára z pomlček... určitě jí vidíš, ne?\"\n",
    "\n",
    "(*podívej se nahoru, na text celé zprávy*)"
   ]
  },
  {
   "cell_type": "markdown",
   "metadata": {},
   "source": [
    "\"No, tak když si vezmeme každý ten zašifrovaný řádek, tak si všimni, že začíná nějakým symbolem.\n",
    "A ten symbol odpovídá přesně jednomu řádku klíče. Podívej se:\""
   ]
  },
  {
   "cell_type": "code",
   "execution_count": 7,
   "metadata": {},
   "outputs": [
    {
     "name": "stdout",
     "output_type": "stream",
     "text": [
      "symbol='@', sdeleni='33 35 33 29 01 07 03 17 32 18 32 45 29 04 42 05 32 44 01 22 27 09 14 15'\n",
      "symbol='#', sdeleni='27 18 21 25 32 39 08 17 28 35 46 43 08 28 08 25 08 16 00 23 22 08 18 39 01 42 13 43 36'\n"
     ]
    }
   ],
   "source": [
    "mame_caru = False\n",
    "zprava_za_carou = []\n",
    "for radek in zprava.zprava().splitlines():\n",
    "    if radek.startswith(\"---\"):\n",
    "        mame_caru = True\n",
    "        continue\n",
    "    if not mame_caru:\n",
    "        continue\n",
    "    zprava_za_carou.append(radek)\n",
    "\n",
    "for radek in zprava_za_carou[1:3]:\n",
    "    symbol = radek[0]\n",
    "    sdeleni = radek[2:]\n",
    "    print(f\"{symbol=}, {sdeleni=}\")"
   ]
  },
  {
   "cell_type": "markdown",
   "metadata": {},
   "source": [
    "Poškrábeš se na hlavě. \"Aha, tak už to začíná být jasné....\""
   ]
  },
  {
   "cell_type": "markdown",
   "metadata": {},
   "source": [
    "## Zadání"
   ]
  },
  {
   "cell_type": "markdown",
   "metadata": {},
   "source": [
    "Nahoře je buňka, která získá text zprávy. Pro jistotu jsem ti jí tady zopakoval. Můžeš si jí spustit (udělej to)."
   ]
  },
  {
   "cell_type": "code",
   "execution_count": 8,
   "metadata": {},
   "outputs": [
    {
     "name": "stdout",
     "output_type": "stream",
     "text": [
      "@ďo;ieíbnsáýúňyk.,luqt\"šžjcrťxvů? z:a!fmwčěřgpdéh\n",
      "#ěčjšdépi ů\"ďháwcnbtqťe:múv!oa,ýxř;sl.zžugrňkf?íy\n",
      "$?ňbsiřcůh.ť!ergtukoamfýědčpvyz:wďqš,é\"úx;íál nžj\n",
      "%s\"ýržúmlcčvfňé.wájnštxuy!hz:?iř;gťoq ěaďdbpůek,í\n",
      "^ecgs.h lwo,pkyíšq!\"vfdť:mtč?řruď;éňýúázžějbixůna\n",
      "&ďcťvxnkgčňhšaqyu.tdá,ýeěiísů opr!úř?zémf\"lwbž:;j\n",
      "*ýnkťě yčúšféitů,xlb!aďc?:dř\"wszorgíňvpž.uqmá;jhe\n",
      "(aťtzé;č\"dxkňýpswžáhěiúímcvůřu?n,j.olďgye!: rbfqš\n",
      "[uí? zfýřqcd,xveaižďjúrůěnw;hybéols!ňkť\"čá:mpgš.t\n",
      "]msl:úégá!n,y.khťžvěšcýj;ňwzeupbtfičř\"r ů?ďíqdxoa\n",
      ")leovqý,gcw;bnifžhs:.úyk\"ačrmt!éř?jux šňďáůízěťdp\n",
      "-------------------------------------------------\n",
      "] 29 37 17 09 42 38 44 27 09 38 31 46 14 46 38 37 46 13 28 10 38 17 38 44 27 17 18 31 38 14 46 44 33 09 38 37 07 09 46 10 38\n",
      "# 37 28 37 25 27 16 07 35 08 39 08 04 25 21 32 46 08 06 27 03 20 13 43 36\n",
      "# 27 18 21 25 32 39 08 17 28 35 46 43 08 28 08 25 08 16 00 23 22 08 18 39 01 42 13 43 36\n",
      "] 13 44 46 38 09 07 00 38 29 46 01 42 02 07 38 31 47 13 38 26 17 02 07 19 31 09 42 38 44 07 37 27 13 40\n",
      "[\n",
      "] 14 02 27 44 07 00 27 38 09 47 38 13 37 47 30 33 20 33 38 26 29 07 31 27 34 09 42 38 47 44 37 27 01 28 12 38\n",
      "* 01 12 22 39\n",
      "$\n",
      "$ 37 08 12 43 12 11 37 44 05 41 17 42 44 20 42 44 03 12 03 15 13 19 44 19 20 19 45 24 04 45 19 09 44\n",
      "^ 18 12 09 30 12 46 40 25 00 17 18\n",
      "*\n",
      "% 01 42 34 40 29 10 18 13 46 01 36 30 47 45 16 36 20 38 20 47 18 44 45 14\n",
      "] 12 12 12\n",
      "@ 24 08 04 38 32 40 05 08 17 01 32 24 04 45 07 35 16 32\n",
      "( 42 08 39 32 02 39 42 23 20 42 30 00 32 22 14 02 31 42\n",
      ") 36 24 15 36 11 34 46 34 36 27 42 28 36 16 00 24 46 19 19 19\n"
     ]
    }
   ],
   "source": [
    "from severni_pol import zprava\n",
    "\n",
    "sifra = zprava.zprava()\n",
    "print(sifra)"
   ]
  },
  {
   "cell_type": "code",
   "execution_count": null,
   "metadata": {},
   "outputs": [],
   "source": []
  },
  {
   "cell_type": "code",
   "execution_count": null,
   "metadata": {},
   "outputs": [],
   "source": []
  },
  {
   "cell_type": "markdown",
   "metadata": {},
   "source": [
    "V tomhle okamžiku máš v proměnné `sifra` celý text zprávy. Musíš s ním uělat následující:\n",
    "\n",
    "**Nejdřív ho musíš rozdělit** na tu část zprávy, která obsahuje šifrovací klíč, a na tu část zprávy, která obsahuje samotné sdělení. Text musíš rozdělit přes tu část, která obsahuje samotné pomlčky. \n",
    "\n",
    "**Zkus si na to napsat funkci.** Nejspíš budeš potřebovat: \n",
    "\n",
    "- pracovat s [textem](https://github.com/jan-herout/pylab/tree/main/kapitola-06#text-jako-objekt-metody) - odkaz vede na šestou kapitolu"
   ]
  },
  {
   "cell_type": "code",
   "execution_count": 9,
   "metadata": {},
   "outputs": [],
   "source": [
    "def rozdel_zpravu(zprava: str):\n",
    "    \"\"\"Funkce rozdělí zprávu na dvě části, a vrátí pole o dvou prvcích.\n",
    "    - první prvek bude šifrovací klíč\n",
    "    - druhý prvek bude samotné sdělení\n",
    "    - rozděl je přes řádek, který obsahuje samé pomlčky\n",
    "\n",
    "    Args:\n",
    "        zprava (str): text zprávy\n",
    "    \"\"\"\n",
    "    # tohle už je na tobě\n",
    "    klic = \"\" # tady by měl být jen šifrovací klíč\n",
    "    sdeleni = \"\" # tady by měla být jen ta část, která je zašifrovaná\n",
    "    return [klic, sdeleni] # vracíme pole o dvou prvcích"
   ]
  },
  {
   "cell_type": "code",
   "execution_count": 10,
   "metadata": {},
   "outputs": [
    {
     "name": "stdout",
     "output_type": "stream",
     "text": [
      "klic=''\n",
      "sdeleni=''\n"
     ]
    }
   ],
   "source": [
    "# tady si můžeš tu funkci vyzkoušet ...\n",
    "# všimni si, že pole, které se vrací z funkce rozdel_zpravu, rovnou rozdělíme na dvě části\n",
    "klic, sdeleni = rozdel_zpravu(sifra)\n",
    "print(f\"{klic=}\")\n",
    "print(f\"{sdeleni=}\")"
   ]
  },
  {
   "cell_type": "code",
   "execution_count": null,
   "metadata": {},
   "outputs": [],
   "source": []
  },
  {
   "cell_type": "markdown",
   "metadata": {},
   "source": [
    "**Potom** bys měl napsat funkci, která připraví dešifrovací klíč.\n",
    "\n",
    "Ten by měl vypadat nějak takhle (je to jenom příklad!):\n",
    "\n",
    "```python\n",
    "# desifrovaci_klic je dict, klíčem je symbol, a hodnotou je pole s písmeny\n",
    "desifrovaci_klic = {\n",
    "    \"@\" : \"ďo;ieíbnsáýúňyk.,luqt\", # kráceno!\n",
    "    \"#\" : \"ěčjšdépi áwcnbtqťe:mú\", # kráceno\n",
    "}\n",
    "```\n",
    "\n",
    "Jinými slovy, potřebuješ funkci, která ti takový dešifrovací klíč vrátí.\n",
    "\n",
    "- vytvoříš si prázdné dictionary\n",
    "- hlavičku zprávy rozdělíš na řádky (`splitlines()`)\n",
    "- první znak na každé řádce je symbol, který použiješ jako klíč do dictinary\n",
    "- zbytek řádky potom uložíš jako string"
   ]
  },
  {
   "cell_type": "code",
   "execution_count": 11,
   "metadata": {},
   "outputs": [],
   "source": [
    "def ziskej_klic(klic_jako_text: str):\n",
    "    # tohle musíš postupně sestavit\n",
    "    klic = {}\n",
    "\n",
    "    # .. nejdřív rozděl klic_jako_text na radky\n",
    "    # .. potom pro každou řádku ..\n",
    "    # .. získej symbol (je to první znak na řádce) \n",
    "    # .. a překladovou \"tabulku\" (všechno kromě symbolu)\n",
    "    # .. a ten zařaď do proměnné klic, zhruba takhle:\n",
    "    # klic[symbol] = preklad\n",
    "\n",
    "    # a nakonec ten klíč vrať ...\n",
    "    return klic"
   ]
  },
  {
   "cell_type": "code",
   "execution_count": null,
   "metadata": {},
   "outputs": [],
   "source": []
  }
 ],
 "metadata": {
  "kernelspec": {
   "display_name": "jupyterlab",
   "language": "python",
   "name": "python3"
  },
  "language_info": {
   "codemirror_mode": {
    "name": "ipython",
    "version": 3
   },
   "file_extension": ".py",
   "mimetype": "text/x-python",
   "name": "python",
   "nbconvert_exporter": "python",
   "pygments_lexer": "ipython3",
   "version": "3.12.0"
  }
 },
 "nbformat": 4,
 "nbformat_minor": 2
}
