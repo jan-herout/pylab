{
 "cells": [
  {
   "cell_type": "markdown",
   "metadata": {},
   "source": [
    "# Záhadná šifra\n",
    "\n",
    "Pracovat na severním pólu v kotelne obvykle není žádná velká zábava. Elfové, kteří\n",
    "se starají o to, aby na základně SantaK nikomu nemrznul - řekněme - polštářek který má\n",
    "každý z nich zezadu pod kalhotami, se často nudí, a přemýšlí čím by si mohli zpříjemnit\n",
    "dlouhou službu. Docela často jeden na druhého vymýšlí různé rošťárny. Ve službě se pravidelně\n",
    "střídají, a nastupující směně často provedou nějaký kanadský žertík.\n",
    "\n",
    "Největší šibal je elf, kterému se neřekne jinak než Nosík. Chodí totiž často s nosem nahoru."
   ]
  },
  {
   "cell_type": "markdown",
   "metadata": {},
   "source": [
    "Jednou takhle přišel Nosík za tebou, a ukazuje ti nejnovější rošťárnu, kterou vymyslel.\n",
    "\n",
    "\"Koukej!\" povídá. Po nás tady má sloužit Bambula. Připravil jsem si pro něj překvapení,\n",
    "a vsadím se že ho nachytám, že to nerozluští.\n",
    "\n",
    "Podává ti kousek papíru, na kterém je napsáno tohle:\n",
    "\n",
    "`1 0 12 1 20 11 0 26 9 4 26 14 18 4 11 27`"
   ]
  },
  {
   "cell_type": "code",
   "execution_count": null,
   "metadata": {},
   "outputs": [],
   "source": []
  },
  {
   "cell_type": "code",
   "execution_count": null,
   "metadata": {},
   "outputs": [],
   "source": []
  },
  {
   "cell_type": "markdown",
   "metadata": {},
   "source": [
    "Nechápavě na něj hledíš. \"Co to jako je?\""
   ]
  },
  {
   "cell_type": "markdown",
   "metadata": {},
   "source": [
    "\"No právě! Na tohle Bambula nikdy nepřijde.\" A s těmito slovy ti ukazuje program, který napsal. \"Celé je to jedna velká šifra.\n",
    "Vsadím se, že na to bude koukat dvě hodiny, a vůbec mu nedojde, jak jsem si z něj vystřelil.\""
   ]
  },
  {
   "cell_type": "code",
   "execution_count": null,
   "metadata": {},
   "outputs": [],
   "source": []
  },
  {
   "cell_type": "code",
   "execution_count": null,
   "metadata": {},
   "outputs": [],
   "source": []
  },
  {
   "cell_type": "markdown",
   "metadata": {},
   "source": [
    "**Nejdřív si připravíme šifrovací klíč, a šifrovací funkci.**"
   ]
  },
  {
   "cell_type": "code",
   "execution_count": null,
   "metadata": {},
   "outputs": [],
   "source": [
    "# PISMENA je šifrovací klíč. Každé písmeno má \n",
    "# v klíči jasně danou pozici.\n",
    "PISMENA = \"abcdefghijklmnopqrstuvwxyz !\"\n",
    "\n",
    "# potom si připravíme šifrovací funkci\n",
    "def zasifruj(text: str):\n",
    "    \"\"\"Funkce vrací původní text, v zašifrované podobě.\n",
    "\n",
    "    Args:\n",
    "        text (str): původní text\n",
    "\n",
    "    Returns:\n",
    "        str: zašifrovaný text\n",
    "    \"\"\"\n",
    "    # tahle proměnná je list, do kterého postupně budeme vkládat jednotlivá\n",
    "    # písmenka, pochopitelně zašifrovaná, jak jinak!\n",
    "    sifra = []\n",
    "    # potom půjdeme přes každé písmenko v původním textu\n",
    "    for pismeno in text:\n",
    "        # najdeme si pozici písmenka v šifrovacím klíči\n",
    "        idx = PISMENA.find(pismeno)\n",
    "        # a tahle pozice - poté co z ní uděláme string - je zašifrované písmena\n",
    "        sifra.append(str(idx))\n",
    "    # nakonec všechna zašifrovaná písmena spojíme do jednoho stringu\n",
    "    # jednotlivá zašifrovaná písmena spojíme mezerou\n",
    "    return \" \".join(sifra)\n"
   ]
  },
  {
   "cell_type": "code",
   "execution_count": null,
   "metadata": {},
   "outputs": [],
   "source": []
  },
  {
   "cell_type": "code",
   "execution_count": null,
   "metadata": {},
   "outputs": [],
   "source": []
  },
  {
   "cell_type": "markdown",
   "metadata": {},
   "source": [
    "\"No to je fajn,\" - odpovíš - \" - jenže já vlastně pořád nevím, cos mu to tam napsal\".\n",
    "\n",
    "\"Žádný problém šéfe! Podívej, tady jsem si napsal dešifrovací funkci. Tak si to na ní zkus!\""
   ]
  },
  {
   "cell_type": "code",
   "execution_count": null,
   "metadata": {},
   "outputs": [],
   "source": [
    "# tahle proměnná už existuje, nemusel bych jí asi definovat znovu\n",
    "# ale chci, aby tady bylo jasně vidět co je vlastně ten klíč\n",
    "PISMENA = \"abcdefghijklmnopqrstuvwxyz !\"\n",
    "\n",
    "def desifruj(sifra: str):\n",
    "    vysledek = []\n",
    "    for cislo in sifra.split(\" \"):\n",
    "        pozice = int(cislo)\n",
    "        pismeno = PISMENA[pozice]\n",
    "        vysledek.append(pismeno)\n",
    "    return \"\".join(vysledek)\n"
   ]
  },
  {
   "cell_type": "markdown",
   "metadata": {},
   "source": [
    "Posadíš se k terminálu, a zkusíš si projet vzkaz, který Nosík posílá Bambulovi."
   ]
  },
  {
   "cell_type": "code",
   "execution_count": null,
   "metadata": {},
   "outputs": [],
   "source": [
    "print(desifruj(\"1 0 12 1 20 11 0 26 9 4 26 14 18 4 11 27\"))"
   ]
  },
  {
   "cell_type": "code",
   "execution_count": null,
   "metadata": {},
   "outputs": [],
   "source": []
  },
  {
   "cell_type": "code",
   "execution_count": null,
   "metadata": {},
   "outputs": [],
   "source": []
  },
  {
   "cell_type": "markdown",
   "metadata": {},
   "source": [
    "\"**Nosíku!**\" zařveš. \"Styď se. To je neslušné. Takhle si z chudáka Bambuly utahovat.\"\n",
    "\n",
    "\"Klid, šéfe ... hlavně si zkus ten vzkaz zašifrovat, a potom znova rozšifrovat.\n",
    "\n",
    "Chvilku ťukáš - ťukyťuk - do kláves, a napíšeš tohle:"
   ]
  },
  {
   "cell_type": "code",
   "execution_count": null,
   "metadata": {},
   "outputs": [],
   "source": [
    "vzkaz = \"bambula je osel!\"\n",
    "sifra = zasifruj(vzkaz)\n",
    "desifrovano = desifruj(sifra)\n",
    "\n",
    "print(f\"{vzkaz=}\")\n",
    "print(f\"{sifra=}\")\n",
    "print(f\"{desifrovano=}\")"
   ]
  },
  {
   "cell_type": "code",
   "execution_count": null,
   "metadata": {},
   "outputs": [],
   "source": []
  },
  {
   "cell_type": "code",
   "execution_count": null,
   "metadata": {},
   "outputs": [],
   "source": []
  },
  {
   "cell_type": "markdown",
   "metadata": {},
   "source": [
    "\"Jo, funguje to pěkně\", odpovíš. Nosík skáče radostí půl metru do vzduchu, a jak tak vyskočí, praští hlavou do lampičky která osvětluje pracovní desku, a na stůl se snese kousek papíru. \n",
    "\n",
    "Je na něm napsáno: _Od Bambuly pro kamaráda Nosíka._"
   ]
  },
  {
   "cell_type": "code",
   "execution_count": null,
   "metadata": {},
   "outputs": [],
   "source": []
  },
  {
   "cell_type": "code",
   "execution_count": null,
   "metadata": {},
   "outputs": [],
   "source": []
  },
  {
   "cell_type": "markdown",
   "metadata": {},
   "source": [
    "Nosík se ho okamžitě zmocní, a tiše hvízdne. \"No, páni\". Podíváš se mu přes rameno, a vidíš docela dlouhý text.\n",
    "\n",
    "\n",
    "Vypadá přesně takhle (*spusť si následující buňku*)."
   ]
  },
  {
   "cell_type": "code",
   "execution_count": null,
   "metadata": {},
   "outputs": [],
   "source": [
    "from severni_pol import zprava\n",
    "sifra = zprava.zprava()\n",
    "\n",
    "print(sifra)"
   ]
  },
  {
   "cell_type": "markdown",
   "metadata": {},
   "source": [
    "\"No, asi tě dostal Nosíku\".\n",
    "\n",
    "Nosík se chvíli dívá na ten kus papíru, škrábe se na nose a pod bradou, a potom ...\n",
    "\n",
    "**\"Heuréka!\"** - vykřikne. Vždyť to je jasná substituční šifra. To nahoře vypadá jako klíč... \n",
    "A to dole jako zpráva.\n",
    "\n",
    "Nechápavě na něj hledíš.\n",
    "\n",
    "\"Ale no tak, šéfe. Vždyť to je ten samý algoritmus, jaký jsem použil já\".\n",
    "\n",
    "A s těmi slovy ti vysvětluje, jak zprávu vyluštit.\n",
    "\n",
    "Pokus se podle pravidel, která ti sdělí, zprávu dešifrovat."
   ]
  },
  {
   "cell_type": "markdown",
   "metadata": {},
   "source": [
    "## Šifrovací klíč\n",
    "\n",
    "\"Podívej.\" Nosík ukáže na první část zprávy. \"Vidíš ty první řádky? Tak to je jasný šifrovací klíč.\""
   ]
  },
  {
   "cell_type": "code",
   "execution_count": null,
   "metadata": {},
   "outputs": [],
   "source": [
    "for radek in sifra.splitlines()[0:3]:\n",
    "    print(radek)"
   ]
  },
  {
   "cell_type": "markdown",
   "metadata": {},
   "source": [
    "**Všimni si:**\n",
    "\n",
    "- na začátku každé řádky je nějaký \"podivný\" symbol, například `@`, nebo `#`\n",
    "- za tím symbolem jsou potom nějak náhodně rozházená písmenka (a nějaké další znaky, třeba\n",
    "  symboly pro interpunkci - mezera, čárka, a podobně)\n",
    "\n",
    "\"Tak tohle je přece šifrovací klíč, stejný jako ten, co jsem ti před chvíli ukazoval, ne?\n",
    "Jenom je potřeba ignorovat ten první symbol. Ten určitě není součástí toho klíče.\"\n"
   ]
  },
  {
   "cell_type": "markdown",
   "metadata": {},
   "source": [
    "Nosík potom pokračuje:\n",
    "\n",
    "\"A vidíš první řádky zbytku té zprávy, tam kde končí klíč? Klíč evidentně končí tam,\n",
    "kde je taková ta čára z pomlček... určitě jí vidíš, ne?\"\n",
    "\n",
    "(*podívej se nahoru, na text celé zprávy*)"
   ]
  },
  {
   "cell_type": "markdown",
   "metadata": {},
   "source": [
    "\"No, tak když si vezmeme každý ten zašifrovaný řádek, tak si všimni, že začíná nějakým symbolem.\n",
    "A ten symbol odpovídá přesně jednomu řádku klíče. Podívej se:\""
   ]
  },
  {
   "cell_type": "code",
   "execution_count": null,
   "metadata": {},
   "outputs": [],
   "source": [
    "mame_caru = False\n",
    "zprava_za_carou = []\n",
    "for radek in zprava.zprava().splitlines():\n",
    "    if radek.startswith(\"---\"):\n",
    "        mame_caru = True\n",
    "        continue\n",
    "    if not mame_caru:\n",
    "        continue\n",
    "    zprava_za_carou.append(radek)\n",
    "\n",
    "for radek in zprava_za_carou[1:3]:\n",
    "    symbol = radek[0]\n",
    "    sdeleni = radek[2:]\n",
    "    print(f\"{symbol=}, {sdeleni=}\")"
   ]
  },
  {
   "cell_type": "markdown",
   "metadata": {},
   "source": [
    "Poškrábeš se na hlavě. \"Aha, tak už to začíná být jasné....\" Takže je to nějak takhle, ne?\n",
    "\n",
    "![šifra](./imgs/sifra-clean.png)"
   ]
  },
  {
   "cell_type": "markdown",
   "metadata": {},
   "source": [
    "## Zadání"
   ]
  },
  {
   "cell_type": "markdown",
   "metadata": {},
   "source": [
    "Nahoře je buňka, která získá text zprávy. Pro jistotu jsem ti jí tady zopakoval. Můžeš si jí spustit (udělej to)."
   ]
  },
  {
   "cell_type": "code",
   "execution_count": null,
   "metadata": {},
   "outputs": [],
   "source": [
    "from severni_pol import zprava\n",
    "\n",
    "sifra = zprava.zprava()\n",
    "print(sifra)"
   ]
  },
  {
   "cell_type": "code",
   "execution_count": null,
   "metadata": {},
   "outputs": [],
   "source": []
  },
  {
   "cell_type": "code",
   "execution_count": null,
   "metadata": {},
   "outputs": [],
   "source": []
  },
  {
   "cell_type": "markdown",
   "metadata": {},
   "source": [
    "V tomhle okamžiku máš v proměnné `sifra` celý text zprávy. Musíš s ním udělat následující:\n",
    "\n",
    "**Nejdřív ho musíš rozdělit** na tu část zprávy, která obsahuje šifrovací klíč, a na tu část zprávy, která obsahuje samotné sdělení. Text musíš rozdělit přes tu část, která obsahuje samotné pomlčky. \n",
    "\n",
    "**Zkus si na to napsat funkci.** Nejspíš budeš potřebovat: \n",
    "\n",
    "- pracovat s [textem](https://github.com/jan-herout/pylab/tree/main/kapitola-06#text-jako-objekt-metody) - odkaz vede na šestou kapitolu"
   ]
  },
  {
   "cell_type": "code",
   "execution_count": null,
   "metadata": {},
   "outputs": [],
   "source": [
    "# dokonči funkci\n",
    "def rozdel_zpravu(zprava: str):\n",
    "    \"\"\"Funkce rozdělí zprávu na dvě části, a vrátí pole o dvou prvcích.\n",
    "    - první prvek bude šifrovací klíč\n",
    "    - druhý prvek bude samotné sdělení\n",
    "    - rozděl je přes řádek, který obsahuje samé pomlčky\n",
    "\n",
    "    Args:\n",
    "        zprava (str): text zprávy\n",
    "    \"\"\"\n",
    "    # tohle už je na tobě\n",
    "    klic = \"\" # tady by měl být jen šifrovací klíč\n",
    "    sdeleni = \"\" # tady by měla být jen ta část, která je zašifrovaná\n",
    "    return [klic, sdeleni] # vracíme pole o dvou prvcích"
   ]
  },
  {
   "cell_type": "code",
   "execution_count": null,
   "metadata": {},
   "outputs": [],
   "source": [
    "# tady si můžeš tu funkci vyzkoušet ...\n",
    "# všimni si, že pole, které se vrací z funkce rozdel_zpravu, rovnou rozdělíme na dvě části\n",
    "klic, sdeleni = rozdel_zpravu(sifra)\n",
    "print(f\"{klic=}\")\n",
    "print(f\"{sdeleni=}\")"
   ]
  },
  {
   "cell_type": "code",
   "execution_count": null,
   "metadata": {},
   "outputs": [],
   "source": []
  },
  {
   "cell_type": "code",
   "execution_count": null,
   "metadata": {},
   "outputs": [],
   "source": []
  },
  {
   "cell_type": "markdown",
   "metadata": {},
   "source": [
    "**Potom** bys měl napsat funkci, která připraví dešifrovací klíč.\n",
    "\n",
    "Ten by měl vypadat nějak takhle (je to jenom příklad!):\n",
    "\n",
    "```python\n",
    "# desifrovaci_klic je dict, klíčem je symbol, a hodnotou je pole s písmeny\n",
    "desifrovaci_klic = {\n",
    "    \"@\" : \"ďo;ieíbnsáýúňyk.,luqt\", # kráceno!\n",
    "    \"#\" : \"ěčjšdépi áwcnbtqťe:mú\", # kráceno\n",
    "}\n",
    "```\n",
    "\n",
    "Jinými slovy, potřebuješ funkci, která ti takový dešifrovací klíč vrátí.\n",
    "\n",
    "- vytvoříš si prázdné dictionary\n",
    "- hlavičku zprávy rozdělíš na řádky (`splitlines()`)\n",
    "- první znak na každé řádce je symbol, který použiješ jako klíč do dictinary\n",
    "- zbytek řádky potom uložíš jako string"
   ]
  },
  {
   "cell_type": "code",
   "execution_count": null,
   "metadata": {},
   "outputs": [],
   "source": [
    "def ziskej_klic(klic_jako_text: str):\n",
    "    # tohle musíš postupně sestavit\n",
    "    klic = {}\n",
    "\n",
    "    # .. nejdřív rozděl klic_jako_text na radky\n",
    "    # .. potom pro každou řádku ..\n",
    "    # .. získej symbol (je to první znak na řádce) \n",
    "    # .. a překladovou \"tabulku\" (všechno kromě symbolu)\n",
    "    # .. a ten zařaď do proměnné klic, zhruba takhle:\n",
    "    # klic[symbol] = preklad\n",
    "\n",
    "    # a nakonec ten klíč vrať ...\n",
    "    return klic"
   ]
  },
  {
   "cell_type": "markdown",
   "metadata": {},
   "source": [
    "... a potom dešifruj celou zprávu ... Inspiruj se dešifrovací funkcí, která je nahoře v notebooku.\n",
    "\n",
    "- text zprávy rozděl na jednotlivé řádky\n",
    "- první znak je **symbol**, který odkazuje na správný `desifrovaci_klic`\n",
    "- za ním je sada čísel - řádku rozděl přes mezery, a jednotlivé získané hodnoty převeď na čísla\n",
    "- každé číslo ti udává pozici písmene na správné položce dešifrovacího klíče"
   ]
  },
  {
   "cell_type": "markdown",
   "metadata": {},
   "source": []
  }
 ],
 "metadata": {
  "kernelspec": {
   "display_name": "jupyterlab",
   "language": "python",
   "name": "python3"
  },
  "language_info": {
   "codemirror_mode": {
    "name": "ipython",
    "version": 3
   },
   "file_extension": ".py",
   "mimetype": "text/x-python",
   "name": "python",
   "nbconvert_exporter": "python",
   "pygments_lexer": "ipython3",
   "version": "3.12.0"
  }
 },
 "nbformat": 4,
 "nbformat_minor": 2
}
