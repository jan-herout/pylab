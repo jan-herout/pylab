{
 "cells": [
  {
   "cell_type": "markdown",
   "metadata": {},
   "source": [
    "# Počítání karet"
   ]
  },
  {
   "cell_type": "markdown",
   "metadata": {},
   "source": [
    "Večery na severním pólu jsou dlouhé a nudné, a elfové tedy hledají jakoukoliv kratochvíli, která se jim nabídne. Jednou z nich je karban.\n",
    "\n",
    "Oblíbený je například poker. Poker se hraje s kartami na žolíky.\n",
    "\n"
   ]
  },
  {
   "cell_type": "code",
   "execution_count": null,
   "metadata": {},
   "outputs": [],
   "source": []
  },
  {
   "cell_type": "code",
   "execution_count": null,
   "metadata": {},
   "outputs": [],
   "source": []
  },
  {
   "cell_type": "markdown",
   "metadata": {},
   "source": [
    "Balíček karet může vypadat nějak takhle. Všimni si: vlevo je hodnota karty, a vpravo její barva, takže například:\n",
    "\n",
    "- `A: červená` - je srdcové eso (A = ace = eso)"
   ]
  },
  {
   "cell_type": "code",
   "execution_count": 27,
   "metadata": {},
   "outputs": [],
   "source": [
    "from severni_pol import karban"
   ]
  },
  {
   "cell_type": "markdown",
   "metadata": {},
   "source": [
    "Tohle je prvních pět karet z balíčku."
   ]
  },
  {
   "cell_type": "code",
   "execution_count": 28,
   "metadata": {},
   "outputs": [
    {
     "name": "stdout",
     "output_type": "stream",
     "text": [
      "1:kárová\n",
      "1:kříže\n",
      "1:listy\n",
      "1:červená\n",
      "2:kárová\n"
     ]
    }
   ],
   "source": [
    "for karta in karban.DECK[:5]:\n",
    "    print(karta)"
   ]
  },
  {
   "cell_type": "markdown",
   "metadata": {},
   "source": [
    "Jednou takhle sedíte nad hrnkem čaje, a jeden z elfů tě poprosil, abys mu napsal program na počítání karet. Rozhodl se totiž při partii pokeru švindlovat."
   ]
  },
  {
   "cell_type": "markdown",
   "metadata": {},
   "source": [
    "Napsal jsi tedy následující program:"
   ]
  },
  {
   "cell_type": "code",
   "execution_count": 29,
   "metadata": {},
   "outputs": [],
   "source": [
    "# založímé prázdný objekt typu dict\n",
    "# klíčem bude karta, a hodnota bude buď True, nebo False\n",
    "# pokud True, znamená to, že tahle karta byla z balíčku vytažená\n",
    "# pokud False, znamená to, že jsme jí z něj ještě nevytáhli\n",
    "karty = {}\n",
    "\n",
    "# pro každou kartu, která je v balíčku, si do něj \n",
    "for karta in karban.DECK:\n",
    "    karty[karta] = False # tahle karta ještě z balíčku vytažená nebyla"
   ]
  },
  {
   "cell_type": "code",
   "execution_count": 30,
   "metadata": {},
   "outputs": [
    {
     "name": "stdout",
     "output_type": "stream",
     "text": [
      "1:kárová False\n",
      "1:kříže False\n",
      "1:listy False\n",
      "1:červená False\n",
      "2:kárová False\n"
     ]
    }
   ],
   "source": [
    "i = 0\n",
    "for karta, vytazena in karty.items():\n",
    "    print(karta, vytazena)\n",
    "    i = i + 1\n",
    "    if i >= 5: \n",
    "        break"
   ]
  },
  {
   "cell_type": "code",
   "execution_count": null,
   "metadata": {},
   "outputs": [],
   "source": []
  },
  {
   "cell_type": "code",
   "execution_count": null,
   "metadata": {},
   "outputs": [],
   "source": []
  },
  {
   "cell_type": "markdown",
   "metadata": {},
   "source": [
    "Teď tedy máš k dispozici způsob, jak zjistit, které karty byly z balíčku vytažené, a které ne. Prostě budeš vytahovat karty jednu za druhou, a pro každou z nich si poznamenáš, že jsi ji z balíčku už vytáhnul."
   ]
  },
  {
   "cell_type": "markdown",
   "metadata": {},
   "source": [
    "Ze zamíchaného balíčku karet teď vytáhneme jednu kartu za druhou, **kromě poslední**, a poznamenáme si, že jsme tuhle kartu již viděli."
   ]
  },
  {
   "cell_type": "code",
   "execution_count": 31,
   "metadata": {},
   "outputs": [],
   "source": [
    "# SHUFFLED_DECK je zamíchaný balíček karet\n",
    "# ber karty jednu za druhou, kromě té poslední karty\n",
    "for karta in karban.SHUFFLED_DECK[:-1]:\n",
    "    karty[karta] = True"
   ]
  },
  {
   "cell_type": "markdown",
   "metadata": {},
   "source": [
    "Tak, a teď přichází ke slovu důležitá otázka:\n",
    "\n",
    "> která karta v balíčku zbyla?"
   ]
  },
  {
   "cell_type": "markdown",
   "metadata": {},
   "source": [
    "Zkus to zjistit. \n",
    "\n",
    "Napiš mi následující funkci (podle zadání v jejím docstringu, a s tím, že některé části kódu jsou již napsané, viz komentáře)."
   ]
  },
  {
   "cell_type": "code",
   "execution_count": 42,
   "metadata": {},
   "outputs": [],
   "source": [
    "def zbyvajici_karty(vytazene_karty: list[str]) -> list[str]:\n",
    "    \n",
    "\n",
    "    \"\"\"\n",
    "    Funkce vrací informaci o tom, které karty nebyly zatím z balíčku vytažené.\n",
    "\n",
    "    Vstupy:\n",
    "        karty (list[str]): seznam karet, které jsou vytažené\n",
    "\n",
    "    Returns:\n",
    "        list[str]: seznam karet, které ještě vytažené nebyly\n",
    "    \"\"\"\n",
    "    # založímé prázdný objekt typu dict\n",
    "    # klíčem bude karta, a hodnota bude buď True, nebo False\n",
    "    # pokud True, znamená to, že tahle karta byla z balíčku vytažená\n",
    "    # pokud False, znamená to, že jsme jí z něj ještě nevytáhli\n",
    "    karty = {}\n",
    "\n",
    "    # pro každou kartu, která je v balíčku, si do něj založíme informaci, že\n",
    "    # vytažená ještě nebyla\n",
    "    for karta in karban.DECK:\n",
    "        karty[karta] = False # tahle karta ještě z balíčku vytažená nebyla\n",
    "    \n",
    "    zbyva = []\n",
    "    for karta in vytazene_karty:\n",
    "        karty[karta] = True\n",
    "\n",
    "    for karta, zahlednuta in karty.items():        \n",
    "        if zahlednuta == True:\n",
    "            continue\n",
    "        else:\n",
    "            zbyva.append(karta)\n",
    "\n",
    "    # tohle napiš ty: pro každou kartu z vytazene_karty změň hodnoty\n",
    "    # v dictionary karty na true (karty[vytazena_karta] = True)\n",
    "\n",
    "    # tohle napiš ty: pro každý klíč a hodnotu (items()) z dictionary karty:\n",
    "    # pokud je hodnota False, doplň kartu na konec listu zbyva\n",
    "    \n",
    "\n",
    "    # vracíme seznam zbývajících karet\n",
    "    return zbyva"
   ]
  },
  {
   "cell_type": "markdown",
   "metadata": {},
   "source": []
  },
  {
   "cell_type": "code",
   "execution_count": null,
   "metadata": {},
   "outputs": [],
   "source": []
  },
  {
   "cell_type": "code",
   "execution_count": null,
   "metadata": {},
   "outputs": [],
   "source": []
  },
  {
   "cell_type": "markdown",
   "metadata": {},
   "source": [
    "## Okamžik pravdy\n",
    "\n",
    "Pokud jsi funkci napsal správně, následující kód dopadne dobře.\n",
    "\n",
    "**Kontrolní otázka:** kolik karet jsme v zamíchaném balíčku nechali?"
   ]
  },
  {
   "cell_type": "code",
   "execution_count": 43,
   "metadata": {},
   "outputs": [
    {
     "data": {
      "text/plain": [
       "['9:červená', 'J:kárová', 'Q:kárová']"
      ]
     },
     "execution_count": 43,
     "metadata": {},
     "output_type": "execute_result"
    }
   ],
   "source": [
    "zbyvajici_karty(karban.SHUFFLED_DECK[:-3])"
   ]
  },
  {
   "cell_type": "code",
   "execution_count": 45,
   "metadata": {},
   "outputs": [
    {
     "data": {
      "text/markdown": [
       "\n",
       "# Výborně!\n",
       "\n",
       "To je správný výsledek.\n",
       "\n",
       "![medved](./imgs/joker-good.png)\n"
      ]
     },
     "metadata": {},
     "output_type": "display_data"
    }
   ],
   "source": [
    "karban.je_to_spravne(karban.SHUFFLED_DECK[:-3], zbyvajici_karty)"
   ]
  },
  {
   "cell_type": "code",
   "execution_count": null,
   "metadata": {},
   "outputs": [],
   "source": []
  }
 ],
 "metadata": {
  "kernelspec": {
   "display_name": "Python 3 (ipykernel)",
   "language": "python",
   "name": "python3"
  },
  "language_info": {
   "codemirror_mode": {
    "name": "ipython",
    "version": 3
   },
   "file_extension": ".py",
   "mimetype": "text/x-python",
   "name": "python",
   "nbconvert_exporter": "python",
   "pygments_lexer": "ipython3",
   "version": "3.12.2"
  }
 },
 "nbformat": 4,
 "nbformat_minor": 4
}
