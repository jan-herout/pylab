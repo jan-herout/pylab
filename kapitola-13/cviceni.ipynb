{
 "cells": [
  {
   "cell_type": "code",
   "execution_count": 3,
   "id": "787066fc-8024-4f1f-bd60-4433aeedd27c",
   "metadata": {},
   "outputs": [],
   "source": [
    "abeceda = {\n",
    "    \"a\": \".-\",\n",
    "    \"b\": \"-...\",\n",
    "    \"c\": \"-.-.\", \n",
    "}"
   ]
  },
  {
   "cell_type": "code",
   "execution_count": 4,
   "id": "c60072aa-6de9-42ce-9231-59f7fe2974c0",
   "metadata": {},
   "outputs": [
    {
     "name": "stdout",
     "output_type": "stream",
     "text": [
      "{'a': '.-', 'b': '-...', 'c': '-.-.', 1: None, 2: [1], 3: {'žlutý': 'kůň'}}\n"
     ]
    }
   ],
   "source": [
    "abeceda[1] = None \n",
    "abeceda[2] = [1] # hodnota je list o jedné položce\n",
    "abeceda[3] = {\"žlutý\" : \"kůň\" } # hodnota je dictionary\n",
    "\n",
    "# všimni si, jak se navenek dict \"tváří\", jak se prezentuje\n",
    "print(abeceda)"
   ]
  },
  {
   "cell_type": "code",
   "execution_count": 5,
   "id": "b8333664-038c-41ef-afa8-22f81ca0a53e",
   "metadata": {},
   "outputs": [
    {
     "name": "stdout",
     "output_type": "stream",
     "text": [
      "dict_keys(['a', 'b', 'c', 1, 2, 3])\n"
     ]
    }
   ],
   "source": [
    "print(abeceda.keys())"
   ]
  },
  {
   "cell_type": "code",
   "execution_count": 6,
   "id": "6997e178-d2b6-4378-8a8a-94e210ed5032",
   "metadata": {},
   "outputs": [
    {
     "ename": "TypeError",
     "evalue": "'dict_keys' object is not subscriptable",
     "output_type": "error",
     "traceback": [
      "\u001b[1;31m---------------------------------------------------------------------------\u001b[0m",
      "\u001b[1;31mTypeError\u001b[0m                                 Traceback (most recent call last)",
      "Cell \u001b[1;32mIn[6], line 1\u001b[0m\n\u001b[1;32m----> 1\u001b[0m \u001b[38;5;28mprint\u001b[39m(\u001b[43mabeceda\u001b[49m\u001b[38;5;241;43m.\u001b[39;49m\u001b[43mkeys\u001b[49m\u001b[43m(\u001b[49m\u001b[43m)\u001b[49m\u001b[43m[\u001b[49m\u001b[38;5;241;43m0\u001b[39;49m\u001b[43m]\u001b[49m)\n",
      "\u001b[1;31mTypeError\u001b[0m: 'dict_keys' object is not subscriptable"
     ]
    }
   ],
   "source": [
    "print(abeceda.keys()[0])"
   ]
  },
  {
   "cell_type": "code",
   "execution_count": 7,
   "id": "95c06325-c04e-4529-b046-8b2fc2499cfd",
   "metadata": {},
   "outputs": [
    {
     "name": "stdout",
     "output_type": "stream",
     "text": [
      "a\n",
      "b\n",
      "c\n",
      "1\n",
      "2\n",
      "3\n"
     ]
    }
   ],
   "source": [
    "for pismeno in abeceda.keys():\n",
    "    print(pismeno)"
   ]
  },
  {
   "cell_type": "code",
   "execution_count": 8,
   "id": "32d00044-bfd8-48b0-b979-17b97ee9671f",
   "metadata": {},
   "outputs": [
    {
     "name": "stdout",
     "output_type": "stream",
     "text": [
      ".-\n",
      "-...\n",
      "-.-.\n",
      "None\n",
      "[1]\n",
      "{'žlutý': 'kůň'}\n"
     ]
    }
   ],
   "source": [
    "for hodnota in abeceda.values():\n",
    "    print(hodnota)"
   ]
  },
  {
   "cell_type": "code",
   "execution_count": 9,
   "id": "cd0abb30-ddfd-469b-a02c-8b5eda72d0c9",
   "metadata": {},
   "outputs": [
    {
     "name": "stdout",
     "output_type": "stream",
     "text": [
      "klic_a_hodnota=('a', '.-')\n",
      "klic_a_hodnota=('b', '-...')\n",
      "klic_a_hodnota=('c', '-.-.')\n",
      "klic_a_hodnota=(1, None)\n",
      "klic_a_hodnota=(2, [1])\n",
      "klic_a_hodnota=(3, {'žlutý': 'kůň'})\n"
     ]
    }
   ],
   "source": [
    "for klic_a_hodnota in abeceda.items():\n",
    "    print(f\"{klic_a_hodnota=}\")"
   ]
  },
  {
   "cell_type": "code",
   "execution_count": null,
   "id": "6ee981ca-35e5-43e5-ae4c-1a51b876efd5",
   "metadata": {},
   "outputs": [],
   "source": []
  }
 ],
 "metadata": {
  "kernelspec": {
   "display_name": "Python 3 (ipykernel)",
   "language": "python",
   "name": "python3"
  },
  "language_info": {
   "codemirror_mode": {
    "name": "ipython",
    "version": 3
   },
   "file_extension": ".py",
   "mimetype": "text/x-python",
   "name": "python",
   "nbconvert_exporter": "python",
   "pygments_lexer": "ipython3",
   "version": "3.12.2"
  }
 },
 "nbformat": 4,
 "nbformat_minor": 5
}
