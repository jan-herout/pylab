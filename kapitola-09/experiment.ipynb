{
 "cells": [
  {
   "cell_type": "code",
   "execution_count": 19,
   "id": "821a2c9f-7a19-4aa2-95d5-9b88df0b5b55",
   "metadata": {},
   "outputs": [],
   "source": [
    "def obvod_obdelniku(strana_a, strana_b):\n",
    "    return ( 2 * (strana_a + strana_b) )"
   ]
  },
  {
   "cell_type": "code",
   "execution_count": 21,
   "id": "25cbaae8-9171-4819-86ff-3d98436cae1c",
   "metadata": {},
   "outputs": [
    {
     "data": {
      "text/plain": [
       "30"
      ]
     },
     "execution_count": 21,
     "metadata": {},
     "output_type": "execute_result"
    }
   ],
   "source": [
    "strana_a = 5\n",
    "strana_b = 10\n",
    "obvod_obdelniku(strana_a, strana_b)"
   ]
  },
  {
   "cell_type": "code",
   "execution_count": 22,
   "id": "e19b57b9-77e3-47e5-bde6-91ba6d037415",
   "metadata": {},
   "outputs": [],
   "source": [
    "def tlac_nebo_tahni(rychlost_tahu=None, sila_tlaku=None):\n",
    "    \"\"\"\n",
    "    Funkci použiješ takhle:\n",
    "    - tlac_nebo_tahni(rychlost_tahu=10)\n",
    "    - tlac_nebo_tahni(sila_tlaku=500)\n",
    "    \"\"\"\n",
    "    if rychlost_tahu is not None:\n",
    "        print(\"Táhneme rychlostí\", rychlost_tahu)\n",
    "        return\n",
    "    \n",
    "    print(\"Tlačíme!\", sila_tlaku)   "
   ]
  },
  {
   "cell_type": "code",
   "execution_count": 23,
   "id": "e12f2fd7-511c-4a18-b504-c5551fc58c91",
   "metadata": {},
   "outputs": [
    {
     "name": "stdout",
     "output_type": "stream",
     "text": [
      "Táhneme rychlostí 10\n",
      "Tlačíme! 500\n"
     ]
    }
   ],
   "source": [
    "tlac_nebo_tahni(rychlost_tahu=10)\n",
    "tlac_nebo_tahni(sila_tlaku=500)"
   ]
  },
  {
   "cell_type": "code",
   "execution_count": null,
   "id": "bc8d76a6-ffb3-40b5-a61a-726d554c77d9",
   "metadata": {},
   "outputs": [],
   "source": []
  }
 ],
 "metadata": {
  "kernelspec": {
   "display_name": "Python 3 (ipykernel)",
   "language": "python",
   "name": "python3"
  },
  "language_info": {
   "codemirror_mode": {
    "name": "ipython",
    "version": 3
   },
   "file_extension": ".py",
   "mimetype": "text/x-python",
   "name": "python",
   "nbconvert_exporter": "python",
   "pygments_lexer": "ipython3",
   "version": "3.12.2"
  }
 },
 "nbformat": 4,
 "nbformat_minor": 5
}
