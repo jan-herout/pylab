{
 "cells": [
  {
   "cell_type": "markdown",
   "id": "52783773-4b2c-47ca-8db7-613adf8cee77",
   "metadata": {},
   "source": [
    "# Vzorová úloha ke kapitole 9\n",
    "\n"
   ]
  },
  {
   "cell_type": "markdown",
   "id": "52d22787-0812-475b-9920-76c97e4d22c5",
   "metadata": {},
   "source": [
    "## Vzor\n",
    "\n",
    "Níže je vzorové řešení.\n",
    "\n",
    "> Napiš funkci, která spočítá obsah obdélníku o stranách `strana_a` a `strana_b`.\n",
    "> "
   ]
  },
  {
   "cell_type": "code",
   "execution_count": 1,
   "id": "59115a75-6228-410e-8cff-781f05d40dec",
   "metadata": {},
   "outputs": [],
   "source": [
    "def obsah_obdelniku(strana_a, strana_b):\n",
    "    \"\"\"\n",
    "    Funkce spočítá a vrátí obsah obdélníku o stranách strana_a a strana_b.\n",
    "    \"\"\"\n",
    "    obsah = strana_a * strana_b\n",
    "    return obsah"
   ]
  },
  {
   "cell_type": "code",
   "execution_count": 2,
   "id": "e3b07ae5-09b0-49b0-8a47-1968bfc08b3c",
   "metadata": {},
   "outputs": [
    {
     "name": "stdout",
     "output_type": "stream",
     "text": [
      "strana_a = 5 strana_b = 5 obsah = 25\n",
      "... a to je SPRÁVNĚ\n"
     ]
    }
   ],
   "source": [
    "strana_a = 5\n",
    "strana_b = 5\n",
    "wanted = 25\n",
    "vysledek = obsah_obdelniku(strana_a, strana_b)\n",
    "\n",
    "print(\"strana_a =\", strana_a, \"strana_b =\", strana_b, \"obsah =\", vysledek)\n",
    "if vysledek == wanted:\n",
    "    print(\"... a to je SPRÁVNĚ\")\n",
    "else:\n",
    "    print(\"ŠPATNĚ\")"
   ]
  },
  {
   "cell_type": "markdown",
   "id": "29bedd1f-19cd-4acf-b27d-e1b7396f162f",
   "metadata": {},
   "source": [
    "## Tvoje řešení\n"
   ]
  },
  {
   "cell_type": "markdown",
   "id": "04bff67c-80d5-43dd-b613-2a4af505c2f6",
   "metadata": {},
   "source": [
    "Naimplementuj (doplň \"správný kód\") pro následující funkce. To znamená, že smažeš slovo `pass` uvedené v kódu, a provedeš výpočet tak, aby použití funkce na následujícím řádku dopadlo \"dobře\"."
   ]
  },
  {
   "cell_type": "markdown",
   "id": "52b540fc-6f9d-4985-81fa-b3a95d0c326a",
   "metadata": {},
   "source": [
    "### Obvod obdélníku"
   ]
  },
  {
   "cell_type": "code",
   "execution_count": 1,
   "id": "33796e47-3ad3-49d8-96e2-7db854b706fc",
   "metadata": {},
   "outputs": [],
   "source": [
    "def obvod_obdelniku(strana_a, strana_b):\n",
    "    \"\"\"Funkce spočítá obvod obdélníku o stranách strana_a a strana_b.\"\"\"\n",
    "    obvod = (strana_a + strana_b) * 2\n",
    "    return obvod"
   ]
  },
  {
   "cell_type": "code",
   "execution_count": 2,
   "id": "fb98d8bc-a8cb-4503-892b-8865a2aaf227",
   "metadata": {},
   "outputs": [
    {
     "name": "stdout",
     "output_type": "stream",
     "text": [
      "Správně\n"
     ]
    }
   ],
   "source": [
    "if obvod_obdelniku(5,10) == 30:\n",
    "    print(\"Správně\")\n",
    "else:\n",
    "    print(\"Špatně\")"
   ]
  },
  {
   "cell_type": "code",
   "execution_count": 3,
   "id": "773cd1c0-d390-47ac-a060-f69b1046dab9",
   "metadata": {},
   "outputs": [
    {
     "name": "stdout",
     "output_type": "stream",
     "text": [
      "Help on function obvod_obdelniku in module __main__:\n",
      "\n",
      "obvod_obdelniku(strana_a, strana_b)\n",
      "    Funkce spočítá obvod obdélníku o stranách strana_a a strana_b.\n",
      "\n"
     ]
    }
   ],
   "source": [
    "# všimni si: Python umí zobrazit nápovedu (help) pro zadanou funkci.\n",
    "# Kde jí vezme? Je to ten text \"ve třech uvozovkách\" uvedený hned za signaturou funkce.\n",
    "# Říká se tomu také \"docstring\"\n",
    "help(obvod_obdelniku)"
   ]
  },
  {
   "cell_type": "code",
   "execution_count": 4,
   "id": "4070cad6-ab73-48b8-8dcb-b0804f365a49",
   "metadata": {},
   "outputs": [
    {
     "data": {
      "text/plain": [
       "\u001b[1;31mSignature:\u001b[0m \u001b[0mobvod_obdelniku\u001b[0m\u001b[1;33m(\u001b[0m\u001b[0mstrana_a\u001b[0m\u001b[1;33m,\u001b[0m \u001b[0mstrana_b\u001b[0m\u001b[1;33m)\u001b[0m\u001b[1;33m\u001b[0m\u001b[1;33m\u001b[0m\u001b[0m\n",
       "\u001b[1;31mDocstring:\u001b[0m Funkce spočítá obvod obdélníku o stranách strana_a a strana_b.\n",
       "\u001b[1;31mFile:\u001b[0m      c:\\users\\tomas\\appdata\\local\\temp\\ipykernel_1808\\2137770113.py\n",
       "\u001b[1;31mType:\u001b[0m      function"
      ]
     },
     "metadata": {},
     "output_type": "display_data"
    }
   ],
   "source": [
    "?obvod_obdelniku"
   ]
  },
  {
   "cell_type": "code",
   "execution_count": 5,
   "id": "ca95a9ca-afb6-47f1-ab22-2e162d0aa8f1",
   "metadata": {},
   "outputs": [
    {
     "name": "stdout",
     "output_type": "stream",
     "text": [
      "Help on function obvod_obdelniku in module __main__:\n",
      "\n",
      "obvod_obdelniku(strana_a, strana_b)\n",
      "    Funkce spočítá obvod obdélníku o stranách strana_a a strana_b.\n",
      "\n"
     ]
    }
   ],
   "source": [
    "help(obvod_obdelniku)"
   ]
  },
  {
   "cell_type": "markdown",
   "id": "046fb829-0aac-4a27-ad51-b2ec9b2827f7",
   "metadata": {},
   "source": [
    "## Který obdélník zabírá větší plochu?"
   ]
  },
  {
   "cell_type": "code",
   "execution_count": 11,
   "id": "c2d81fe2-0307-4c4e-b39c-f206d9f22ddd",
   "metadata": {},
   "outputs": [],
   "source": [
    "def vetsi_obdelnik(o1_strana_a, o1_strana_b, o2_strana_a, o2_strana_b):\n",
    "    \"\"\"\n",
    "    Funkce na vstupu dostane rozměry dvou obdélníků. Každý z nich má stranu a a stranu b.\n",
    "    První obdélník se jmenuje \"o1\", druhý se jmenuje \"o2\".\n",
    "\n",
    "    Funkce vrací string.\n",
    "    \n",
    "    - Pokud má obdélník o1 větší plochu, funkce vrací string \"o1\".\n",
    "    - Pokud má obdélník o1 stejnou plochu jako o2, funkce vrací \"o1o2\"\n",
    "    - Pokud má větší plochu \"o2\", funkce vrací \"o2\"\n",
    "    \"\"\"\n",
    "    plocha1 = o1_strana_a * o1_strana_b\n",
    "    plocha2 = o2_strana_a * o2_strana_b\n",
    "    if plocha1 > plocha2:\n",
    "        return \"o1\"\n",
    "    elif plocha1 == plocha2:\n",
    "        return \"o1o2\"        \n",
    "    else:\n",
    "        return \"o2\""
   ]
  },
  {
   "cell_type": "code",
   "execution_count": 12,
   "id": "0bd191c6-8f91-474f-9efc-6bd8d6c837d3",
   "metadata": {
    "scrolled": true
   },
   "outputs": [
    {
     "name": "stdout",
     "output_type": "stream",
     "text": [
      "Help on function vetsi_obdelnik in module __main__:\n",
      "\n",
      "vetsi_obdelnik(o1_strana_a, o1_strana_b, o2_strana_a, o2_strana_b)\n",
      "    Funkce na vstupu dostane rozměry dvou obdélníků. Každý z nich má stranu a a stranu b.\n",
      "    První obdélník se jmenuje \"o1\", druhý se jmenuje \"o2\".\n",
      "\n",
      "    Funkce vrací string.\n",
      "\n",
      "    - Pokud má obdélník o1 větší plochu, funkce vrací string \"o1\".\n",
      "    - Pokud má obdélník o1 stejnou plochu jako o2, funkce vrací \"o1o2\"\n",
      "    - Pokud má větší plochu \"o2\", funkce vrací \"o2\"\n",
      "\n"
     ]
    }
   ],
   "source": [
    "# tohle máš naimplementovat ... přečti si, co m funkce dělat.\n",
    "# slovo pass v buňce výše nahradíš správným kódem, funkci opravíš.\n",
    "help(vetsi_obdelnik)"
   ]
  },
  {
   "cell_type": "code",
   "execution_count": 13,
   "id": "91369de2-234a-421d-8e75-cce70e18b13d",
   "metadata": {},
   "outputs": [
    {
     "name": "stdout",
     "output_type": "stream",
     "text": [
      "správně: o1=20, o2=10\n",
      "správně: o1=10, o2=10\n",
      "správně: o1=25, o2=42\n"
     ]
    }
   ],
   "source": [
    "# tohle je kontrola ... musí se 3x vypsat \"správně\", buňku prostě spusť abys zjistil, jak sis vedl\n",
    "# všimni si: jeden test je \"správně\", ale dva jsou \"špatně\"\n",
    "testy = [\n",
    "    (\"o1 je větší\", 2, 10, 1, 10, \"o1\"),\n",
    "    (\"oba jsou stejné\", 1, 10, 10, 1,\"o1o2\"),\n",
    "    (\"o2 je větší\", 5, 5, 6, 7,\"o2\")\n",
    "]\n",
    "for test, o1a, o1b, o2a, o2b, wanted in testy:\n",
    "    vysledek = vetsi_obdelnik(o1a, o1b, o2a, o2b)\n",
    "    if vysledek == wanted:\n",
    "        print(f\"správně: o1={o1a*o1b}, o2={o2a*o2b}\")\n",
    "    else:\n",
    "        print(f\"špatně: o1={o1a*o1b}, o2={o2a*o2b}; funkce vrátila {vysledek}, ale měla vrátit {wanted}\")"
   ]
  },
  {
   "cell_type": "markdown",
   "id": "11705b4a-7987-43b4-a308-458214302b06",
   "metadata": {},
   "source": [
    "### Úprava textu\n",
    "\n",
    "Viz popis funkce níže. Pro připomenutí: konec řádky se v Pythonu napíše jako `\"\\n\"`.\n",
    "\n",
    "Můžeš se také podívat [sem](https://github.com/jan-herout/pylab/blob/main/kapitola-06/readme.md#text-jako-objekt-metody), pokud tápeš (klikni na ten odkaz se stisknutou klávesou `Ctrl`, nápověda se ti otevře v novém okně)."
   ]
  },
  {
   "cell_type": "code",
   "execution_count": 28,
   "id": "16197597-4792-4237-ac9f-b1cea45420f6",
   "metadata": {},
   "outputs": [],
   "source": [
    "def uprav_text(text):\n",
    "    \"\"\"\n",
    "    Funkce na vstupu dostane text. Provede s ním následující úpravy, a vrátí ho zpátky.\n",
    "\n",
    "    - text se převede na malá písmena\n",
    "    - všechny znaky konců řádek se nahradí mezerou \n",
    "    - oříznou se mezery zleva a mezery zprava\n",
    "    - tam, kde jsou dvě mezery po sobě, se nahradí jednou mezerou\n",
    "    - najdi první tečku, a vrať text, který je před ní (včetně té tečky)    \n",
    "    \"\"\"\n",
    "    text = text.lower()\n",
    "    text = text.replace(\"\\n\", \" \")\n",
    "    text = text.strip()\n",
    "    text = text.replace(\"  \", \" \")\n",
    "    tecka = text.find(\".\")\n",
    "    return text[0:tecka+1]\n",
    "    "
   ]
  },
  {
   "cell_type": "code",
   "execution_count": 34,
   "id": "f81e64f7-7e78-482d-bf04-1ea34ed9ac0a",
   "metadata": {},
   "outputs": [],
   "source": [
    "text = \"\"\"Recept na Grog  zpustlých námořníků: \n",
    "Půl  litru vody dej svařit s 2 - 3 zrny nového koření, 10 zrny hřebíčku, kousek skořice, citronové kůry a šťávu z celého citronu a přidej půl kila cukru. \n",
    "Po svaření přilej tři litry bílého vína a nech přejít varem. \n",
    "Pak přidej litr koňaku a znovu povař, ale dej pozor, aby to neuteklo!! \n",
    "Po postavení na stůl se sundá puklice a páry se zapálí a hned zas se nádoba přikreje. \n",
    "Tím slavnostní obřad vaření grogu končí. A kdo ti řekne, že tam máš dát vanilku, tak mu dej přes držku!\"\"\""
   ]
  },
  {
   "cell_type": "code",
   "execution_count": 35,
   "id": "2899db15-d3a5-4d2f-8c75-77b9e8441b2a",
   "metadata": {},
   "outputs": [
    {
     "data": {
      "text/plain": [
       "'recept na grog zpustlých námořníků: půl litru vody dej svařit s 2 - 3 zrny nového koření, 10 zrny hřebíčku, kousek skořice, citronové kůry a šťávu z celého citronu a přidej půl kila cukru.'"
      ]
     },
     "execution_count": 35,
     "metadata": {},
     "output_type": "execute_result"
    }
   ],
   "source": [
    "uprav_text(text)"
   ]
  },
  {
   "cell_type": "code",
   "execution_count": 31,
   "id": "033a4e4e-fd15-4a02-8fbd-36aacba19b8a",
   "metadata": {},
   "outputs": [],
   "source": [
    "# tohle bude vstup do tvojí funkce.\n",
    "text_na_vstupu = \"\"\"\n",
    "Recept na Grog  zpustlých námořníků: \n",
    "Půl  litru vody dej svařit s 2 - 3 zrny nového koření, 10 zrny hřebíčku, kousek skořice, citronové kůry a šťávu z celého citronu a přidej půl kila cukru. \n",
    "Po svaření přilej tři litry bílého vína a nech přejít varem. \n",
    "Pak přidej litr koňaku a znovu povař, ale dej pozor, aby to neuteklo!! \n",
    "Po postavení na stůl se sundá puklice a páry se zapálí a hned zas se nádoba přikreje. \n",
    "Tím slavnostní obřad vaření grogu končí. A kdo ti řekne, že tam máš dát vanilku, tak mu dej přes držku!\n",
    "\"\"\""
   ]
  },
  {
   "cell_type": "code",
   "execution_count": 32,
   "id": "d3ae80b8-5eed-4f26-8c5c-e0b9a6ca1423",
   "metadata": {},
   "outputs": [],
   "source": [
    "# tahle buňka ti napíše, co má funkce vrátit.\n",
    "wanted = \"\".join(\n",
    "    [\n",
    "        \"recept na grog zpustlých námořníků: půl litru vody dej svařit s 2 - 3 zrny nového koření, \",\n",
    "        \"10 zrny hřebíčku, kousek skořice, citronové kůry a šťávu z celého citronu a přidej půl kila cukru.\",\n",
    "    ]\n",
    ")"
   ]
  },
  {
   "cell_type": "code",
   "execution_count": 33,
   "id": "66d97e62-ab98-498e-9a77-fc243d796c80",
   "metadata": {
    "scrolled": true
   },
   "outputs": [
    {
     "name": "stdout",
     "output_type": "stream",
     "text": [
      "Správně\n"
     ]
    }
   ],
   "source": [
    "if wanted == uprav_text(text_na_vstupu):\n",
    "    print(\"Správně\")\n",
    "else:\n",
    "    print(\"Špatně\")"
   ]
  },
  {
   "cell_type": "code",
   "execution_count": null,
   "id": "72722b87-ae93-4cd7-826d-51ac48ae4bff",
   "metadata": {},
   "outputs": [],
   "source": []
  }
 ],
 "metadata": {
  "kernelspec": {
   "display_name": "Python 3 (ipykernel)",
   "language": "python",
   "name": "python3"
  },
  "language_info": {
   "codemirror_mode": {
    "name": "ipython",
    "version": 3
   },
   "file_extension": ".py",
   "mimetype": "text/x-python",
   "name": "python",
   "nbconvert_exporter": "python",
   "pygments_lexer": "ipython3",
   "version": "3.12.2"
  }
 },
 "nbformat": 4,
 "nbformat_minor": 5
}
