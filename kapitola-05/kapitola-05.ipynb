{
 "cells": [
  {
   "cell_type": "markdown",
   "id": "e7cad87e-29d4-4c3f-80bb-755552965310",
   "metadata": {},
   "source": [
    "Pokud má kostka cukru výšku 1.1 cm, kolik řad nad sebou se vejde do krabičky, která je vysoká 16 cm? Použij operátor pro celočíselné dělení."
   ]
  },
  {
   "cell_type": "code",
   "execution_count": 9,
   "id": "3d666297-d009-49a0-9145-de77c1e7c25e",
   "metadata": {},
   "outputs": [
    {
     "name": "stdout",
     "output_type": "stream",
     "text": [
      "Vejde se tam 14.0 kostek cukru.\n"
     ]
    }
   ],
   "source": [
    "krabicka = 16\n",
    "kostka_cukru = 1.1\n",
    "vysledek = krabicka // kostka_cukru\n",
    "print(\"Vejde se tam\", vysledek, \"kostek cukru.\")"
   ]
  },
  {
   "cell_type": "markdown",
   "id": "da89a4fd-9c99-4a76-9763-e8eafddcb264",
   "metadata": {},
   "source": [
    "Jaký je obsah čtverce o straně 4321 m? Použij operátor pro výpočet mocniny."
   ]
  },
  {
   "cell_type": "code",
   "execution_count": 10,
   "id": "74a49fb4-3895-4c4c-81a9-635f10d8047e",
   "metadata": {},
   "outputs": [
    {
     "name": "stdout",
     "output_type": "stream",
     "text": [
      "Jeho obsah je 18671041 metrů čtverečních.\n"
     ]
    }
   ],
   "source": [
    "strana = 4321\n",
    "obsah = strana ** 2\n",
    "print(\"Jeho obsah je\", obsah, \"metrů čtverečních.\") "
   ]
  },
  {
   "cell_type": "markdown",
   "id": "ac7aa286-3491-4cc2-bbf1-f5ccdc7a5081",
   "metadata": {},
   "source": [
    "Prkno má na délku 347 cm. Když ho rozřežeš na kousky o délce 13 cm:\r\n",
    "jak velký kus ti nakonec zbude? Použij operátor pro zbytek po celočíselném dělení.\r\n",
    "kolik kousků o délce 13 cm máš? Použij operátor pro celočíselné dělen.\r\n"
   ]
  },
  {
   "cell_type": "code",
   "execution_count": 14,
   "id": "917e0442-16a4-4932-b5f0-5223418335f6",
   "metadata": {},
   "outputs": [
    {
     "name": "stdout",
     "output_type": "stream",
     "text": [
      "Zbyde 9 centimetrů.\n",
      "Mám 26 kusů.\n"
     ]
    }
   ],
   "source": [
    "prkno = 347\n",
    "kus = 13\n",
    "zbytek = prkno % kus\n",
    "print(\"Zbyde\", zbytek, \"centimetrů.\")\n",
    "pocet_kusu = prkno // kus\n",
    "print(\"Mám\", pocet_kusu, \"kusů.\")"
   ]
  }
 ],
 "metadata": {
  "kernelspec": {
   "display_name": "Python 3 (ipykernel)",
   "language": "python",
   "name": "python3"
  },
  "language_info": {
   "codemirror_mode": {
    "name": "ipython",
    "version": 3
   },
   "file_extension": ".py",
   "mimetype": "text/x-python",
   "name": "python",
   "nbconvert_exporter": "python",
   "pygments_lexer": "ipython3",
   "version": "3.12.2"
  }
 },
 "nbformat": 4,
 "nbformat_minor": 5
}
