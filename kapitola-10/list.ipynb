{
 "cells": [
  {
   "cell_type": "code",
   "execution_count": 78,
   "id": "fb3b143f-6281-4061-b998-4ba6a5287d0b",
   "metadata": {},
   "outputs": [],
   "source": [
    "suroviny = [\"mléko\", \"vejce\", \"hladká mouka\"]"
   ]
  },
  {
   "cell_type": "code",
   "execution_count": 61,
   "id": "7659f744-52d4-49a7-8a5e-700c4ec8a7a6",
   "metadata": {},
   "outputs": [
    {
     "name": "stdout",
     "output_type": "stream",
     "text": [
      "['mléko', 'vejce', 'hladká mouka']\n"
     ]
    }
   ],
   "source": [
    "print(suroviny)"
   ]
  },
  {
   "cell_type": "code",
   "execution_count": 62,
   "id": "3dffff06-51e2-4ac4-961a-fb71c61c894e",
   "metadata": {},
   "outputs": [
    {
     "name": "stdout",
     "output_type": "stream",
     "text": [
      "Délka seznamu surovin je 3\n"
     ]
    }
   ],
   "source": [
    "print(\"Délka seznamu surovin je\", len(suroviny)) "
   ]
  },
  {
   "cell_type": "code",
   "execution_count": 63,
   "id": "d0827fe3-0274-4150-a35a-10332431b377",
   "metadata": {},
   "outputs": [
    {
     "name": "stdout",
     "output_type": "stream",
     "text": [
      "První surovina na seznamu je mléko\n",
      "Druhá surovina na seznamu je vejce\n"
     ]
    }
   ],
   "source": [
    "print(\"První surovina na seznamu je\", suroviny[0])\n",
    "print(\"Druhá surovina na seznamu je\", suroviny[1])"
   ]
  },
  {
   "cell_type": "code",
   "execution_count": 64,
   "id": "bd0bd5d8-9329-4d82-8411-9e3de54e8dd0",
   "metadata": {},
   "outputs": [
    {
     "ename": "IndexError",
     "evalue": "list index out of range",
     "output_type": "error",
     "traceback": [
      "\u001b[1;31m---------------------------------------------------------------------------\u001b[0m",
      "\u001b[1;31mIndexError\u001b[0m                                Traceback (most recent call last)",
      "Cell \u001b[1;32mIn[64], line 1\u001b[0m\n\u001b[1;32m----> 1\u001b[0m chybejici_surovina \u001b[38;5;241m=\u001b[39m \u001b[43msuroviny\u001b[49m\u001b[43m[\u001b[49m\u001b[38;5;241;43m3\u001b[39;49m\u001b[43m]\u001b[49m\n",
      "\u001b[1;31mIndexError\u001b[0m: list index out of range"
     ]
    }
   ],
   "source": [
    "chybejici_surovina = suroviny[3]"
   ]
  },
  {
   "cell_type": "code",
   "execution_count": 65,
   "id": "021cbc8f-2f58-4318-b919-6783eb0983f6",
   "metadata": {},
   "outputs": [
    {
     "name": "stdout",
     "output_type": "stream",
     "text": [
      "mlé\n"
     ]
    }
   ],
   "source": [
    "print(suroviny[0][0:3])"
   ]
  },
  {
   "cell_type": "code",
   "execution_count": 66,
   "id": "b54a86e9-c377-4c91-9058-5188599a8513",
   "metadata": {},
   "outputs": [],
   "source": [
    "import re\n",
    "import pathlib\n",
    "for f in pathlib.Path(\".\").rglob(\"*.md\"):\n",
    "    slova = [ s.lower() for s in re.split(r\"\\s\",f.read_text(encoding=\"utf-8\")) ]\n",
    "    slova = [ s for s in slova if re.match(\"^[a-z]+$\", s)]\n",
    "    break"
   ]
  },
  {
   "cell_type": "code",
   "execution_count": 67,
   "id": "35e86754-b2ef-4c53-bc87-de321438ed4b",
   "metadata": {},
   "outputs": [
    {
     "name": "stdout",
     "output_type": "stream",
     "text": [
      "['je', 'to', 'a', 'slovo', 'na', 'slovo', 'na', 'indexace', 'od', 'cyklus']\n",
      "['a', 'slovo']\n"
     ]
    }
   ],
   "source": [
    "print(slova[:10])\n",
    "print(slova[2:4])"
   ]
  },
  {
   "cell_type": "code",
   "execution_count": 68,
   "id": "600b4fc9-d182-4ff1-97b3-c9f2300985bf",
   "metadata": {},
   "outputs": [],
   "source": [
    "slovo_11 = [\"11\"]\n",
    "slova_2_az_6 = [\"to\", \"a\", \"slovo\", \"na\", \"indexace\"]"
   ]
  },
  {
   "cell_type": "code",
   "execution_count": 69,
   "id": "50c33521-669f-4619-a7f6-c4bcd17c1279",
   "metadata": {},
   "outputs": [
    {
     "data": {
      "text/plain": [
       "5"
      ]
     },
     "execution_count": 69,
     "metadata": {},
     "output_type": "execute_result"
    }
   ],
   "source": [
    "len(slova_2_az_6)"
   ]
  },
  {
   "cell_type": "code",
   "execution_count": 70,
   "id": "957c9c60-a4d4-49dd-8b26-59b06255b326",
   "metadata": {},
   "outputs": [
    {
     "name": "stdout",
     "output_type": "stream",
     "text": [
      "a\n",
      "vypadal\n",
      "je + cyklus\n"
     ]
    }
   ],
   "source": [
    "print(slova[2])\n",
    "print(slova[49])\n",
    "print(slova[0], \"+\", slova[9])"
   ]
  },
  {
   "cell_type": "code",
   "execution_count": 71,
   "id": "ea9de02b-9ace-4d76-8c22-bc878ec895b3",
   "metadata": {},
   "outputs": [
    {
     "name": "stdout",
     "output_type": "stream",
     "text": [
      "seznamu\n"
     ]
    }
   ],
   "source": [
    "len(slova)\n",
    "print(slova[751])"
   ]
  },
  {
   "cell_type": "code",
   "execution_count": 72,
   "id": "dc6b130a-eef1-41f3-a00d-92e15d4e0c29",
   "metadata": {},
   "outputs": [
    {
     "name": "stdout",
     "output_type": "stream",
     "text": [
      "jsou\n"
     ]
    }
   ],
   "source": [
    "print(slova[-4])"
   ]
  },
  {
   "cell_type": "code",
   "execution_count": 73,
   "id": "4cf624c3-9630-4c1a-a99e-8a4b3177a569",
   "metadata": {},
   "outputs": [
    {
     "name": "stdout",
     "output_type": "stream",
     "text": [
      "['jsou', 'zjisti', 'v']\n"
     ]
    }
   ],
   "source": [
    "print(slova[-4:-1])"
   ]
  },
  {
   "cell_type": "code",
   "execution_count": 74,
   "id": "c67c1c1a-86b4-4b8b-847b-05a8e40924ed",
   "metadata": {},
   "outputs": [
    {
     "name": "stdout",
     "output_type": "stream",
     "text": [
      "mléko\n",
      "vejce\n",
      "hladká mouka\n"
     ]
    }
   ],
   "source": [
    "for surovina in suroviny:\n",
    "    print(surovina)"
   ]
  },
  {
   "cell_type": "code",
   "execution_count": 75,
   "id": "2822d626-8690-4a05-a03f-09a9034303c1",
   "metadata": {},
   "outputs": [
    {
     "ename": "TypeError",
     "evalue": "'str' object does not support item assignment",
     "output_type": "error",
     "traceback": [
      "\u001b[1;31m---------------------------------------------------------------------------\u001b[0m",
      "\u001b[1;31mTypeError\u001b[0m                                 Traceback (most recent call last)",
      "Cell \u001b[1;32mIn[75], line 2\u001b[0m\n\u001b[0;32m      1\u001b[0m slovo \u001b[38;5;241m=\u001b[39m slova[\u001b[38;5;241m3\u001b[39m] \u001b[38;5;66;03m# dej mi čtvrté slovo na seznamu\u001b[39;00m\n\u001b[1;32m----> 2\u001b[0m \u001b[43mslovo\u001b[49m\u001b[43m[\u001b[49m\u001b[38;5;241;43m0\u001b[39;49m\u001b[43m]\u001b[49m \u001b[38;5;241m=\u001b[39m \u001b[38;5;124m\"\u001b[39m\u001b[38;5;124mA\u001b[39m\u001b[38;5;124m\"\u001b[39m \u001b[38;5;66;03m# jeho první písmeno změň na \"A\"\u001b[39;00m\n",
      "\u001b[1;31mTypeError\u001b[0m: 'str' object does not support item assignment"
     ]
    }
   ],
   "source": [
    "slovo = slova[3] # dej mi čtvrté slovo na seznamu\n",
    "slovo[0] = \"A\" # jeho první písmeno změň na \"A\""
   ]
  },
  {
   "cell_type": "code",
   "execution_count": 76,
   "id": "4e4822a6-e6e7-4316-912e-5122ade48d0c",
   "metadata": {},
   "outputs": [
    {
     "name": "stdout",
     "output_type": "stream",
     "text": [
      "před změnou ['je', 'to', 'a']\n",
      "po změně ['JEDNOROŽEC', 'to', 'a']\n"
     ]
    }
   ],
   "source": [
    "# první tři slova před změnou\n",
    "print(\"před změnou\", slova[:3])\n",
    "\n",
    "# ZMĚNA LISTU\n",
    "slova[0] = \"JEDNOROŽEC\"\n",
    "\n",
    "# první tři slova poz měně\n",
    "print(\"po změně\", slova[:3])"
   ]
  },
  {
   "cell_type": "code",
   "execution_count": 77,
   "id": "1a9932d9-f935-4f72-8493-5368a4c81eda",
   "metadata": {},
   "outputs": [
    {
     "name": "stdout",
     "output_type": "stream",
     "text": [
      "Máme celkem 68 slov začínajících na N.\n",
      "První tři slova: ['na', 'na', 'na']\n"
     ]
    }
   ],
   "source": [
    "slova_na_n = []\n",
    "for slovo in slova:\n",
    "    if slovo.lower().startswith(\"n\"):\n",
    "        slova_na_n.append(slovo)\n",
    "print(\"Máme celkem\", len(slova_na_n), \"slov začínajících na N.\")\n",
    "print(\"První tři slova:\", slova_na_n[:3])"
   ]
  },
  {
   "cell_type": "code",
   "execution_count": 90,
   "id": "59b78321-7ef2-431f-9876-1be9ae52eae0",
   "metadata": {},
   "outputs": [
    {
     "name": "stdout",
     "output_type": "stream",
     "text": [
      "před změnou: ['duhový', 'poník', 'je']\n",
      "po změně: ['nádherný', 'duhový', 'poník']\n"
     ]
    }
   ],
   "source": [
    "print(\"před změnou:\", slova_na_n[:3])\n",
    "slova_na_n.insert(0, \"nádherný\")\n",
    "print(\"po změně:\", slova_na_n[:3])"
   ]
  },
  {
   "cell_type": "code",
   "execution_count": 91,
   "id": "0c22d9a3-64ca-41e0-b149-46a7b5e92149",
   "metadata": {},
   "outputs": [
    {
     "name": "stdout",
     "output_type": "stream",
     "text": [
      "před změnou: [1, 2, 3, 4, 5]\n",
      "odstraněný prvek je:  5\n",
      "po změně: [1, 2, 3, 4]\n",
      "odstraněný prvek je:  1\n",
      "po změně: [2, 3, 4]\n"
     ]
    }
   ],
   "source": [
    "cisla = [1,2,3,4,5]\n",
    "print(\"před změnou:\", cisla)\n",
    "print(\"odstraněný prvek je: \", cisla.pop())  # poslední\n",
    "print(\"po změně:\", cisla)\n",
    "print(\"odstraněný prvek je: \", cisla.pop(0))  # první\n",
    "print(\"po změně:\", cisla)"
   ]
  },
  {
   "cell_type": "code",
   "execution_count": 92,
   "id": "dffa14e4-4cd5-4e4d-a877-e498ecc7c313",
   "metadata": {},
   "outputs": [],
   "source": [
    "import random\n",
    "def generuj_nahodna_cisla():\n",
    "    nahodna_cisla = []\n",
    "    # tento cyklus do i postupně přiřadí čísla od 0 do 99 (včetně)\n",
    "    for i in range(100):\n",
    "        nahodna_cisla.append(random.randint(0, 100))\n",
    "    return nahodna_cisla\n",
    "\n",
    "cisla = generuj_nahodna_cisla()"
   ]
  },
  {
   "cell_type": "code",
   "execution_count": 97,
   "id": "4bc8c580-2acf-4367-9e6c-e43a1a32c2c7",
   "metadata": {},
   "outputs": [
    {
     "name": "stdout",
     "output_type": "stream",
     "text": [
      "Máme 47 sudých čísel.\n"
     ]
    }
   ],
   "source": [
    "suda_cisla = []\n",
    "for cislo in cisla:\n",
    "    vydelene_cislo = cislo % 2\n",
    "    if vydelene_cislo == 0:\n",
    "        suda_cisla.append(cislo)\n",
    "print(\"Máme\", len(suda_cisla), \"sudých čísel.\")"
   ]
  },
  {
   "cell_type": "code",
   "execution_count": 95,
   "id": "61375ee8-06ba-4d0a-b6bf-50213c44d4b9",
   "metadata": {},
   "outputs": [
    {
     "name": "stdout",
     "output_type": "stream",
     "text": [
      "[14, 92, 34, 84, 66, 50, 94, 24, 22, 70, 58, 18, 50, 12, 100, 36, 80, 84, 50, 98, 14, 8, 28, 80, 24, 66, 90, 40, 6, 56, 68, 74, 50, 44, 34, 84, 82, 82, 74, 52, 50, 100, 100, 60, 72, 44, 26]\n"
     ]
    }
   ],
   "source": [
    "print(suda_cisla)"
   ]
  },
  {
   "cell_type": "code",
   "execution_count": 98,
   "id": "4c2d631a-a65f-49a2-b04d-edb1c616faf8",
   "metadata": {},
   "outputs": [
    {
     "name": "stdout",
     "output_type": "stream",
     "text": [
      "[14, 92, 17, 15, 34, 59, 84, 66, 23, 49, 67, 45, 50, 94, 24, 22, 93, 41, 70, 51, 81, 31, 81, 58, 18, 50, 12, 100, 79, 36, 80, 37, 33, 84, 50, 98, 14, 28, 99, 80, 73, 15, 63, 24, 66, 45, 45, 27, 85, 90, 40, 56, 68, 59, 31, 31, 74, 39, 13, 50, 44, 15, 27, 34, 63, 84, 55, 95, 89, 57, 82, 82, 43, 74, 52, 50, 79, 21, 53, 25, 100, 100, 35, 63, 97, 60, 72, 44, 39, 26, 25, 31, 53, 45]\n"
     ]
    }
   ],
   "source": [
    "vetsi_nez_deset = []\n",
    "for cislo in cisla:\n",
    "    if cislo > 10:\n",
    "        vetsi_nez_deset.append(cislo)\n",
    "print(vetsi_nez_deset)"
   ]
  },
  {
   "cell_type": "code",
   "execution_count": 99,
   "id": "f6aee7da-28fd-4015-b8ed-57276c5eeb0b",
   "metadata": {},
   "outputs": [
    {
     "name": "stdout",
     "output_type": "stream",
     "text": [
      "[196, 81, 289, 225, 1156, 529, 1, 2401, 2025, 49, 576, 484, 1681, 961, 324, 144, 1296, 1369, 1089, 196, 64, 784, 225, 576, 2025, 2025, 729, 1600, 36, 961, 961, 1521, 169, 1936, 225, 729, 1156, 1849, 441, 625, 1225, 1936, 1521, 676, 625, 961, 2025, 81]\n"
     ]
    }
   ],
   "source": [
    "druha_mocnina = []\n",
    "for cislo in cisla:\n",
    "    if cislo < 50:\n",
    "        cislo = cislo * cislo\n",
    "        druha_mocnina.append(cislo)\n",
    "print(druha_mocnina)"
   ]
  },
  {
   "cell_type": "code",
   "execution_count": 100,
   "id": "9e18e5e5-77da-41d4-8955-46f8b1d90bd3",
   "metadata": {},
   "outputs": [
    {
     "name": "stdout",
     "output_type": "stream",
     "text": [
      "42759\n"
     ]
    }
   ],
   "source": [
    "zaklad = 0\n",
    "for cislo in druha_mocnina:\n",
    "    zaklad = zaklad + cislo\n",
    "print(zaklad)"
   ]
  },
  {
   "cell_type": "code",
   "execution_count": null,
   "id": "8cd5d338-cd63-40ee-9457-d9480135cc43",
   "metadata": {},
   "outputs": [],
   "source": []
  }
 ],
 "metadata": {
  "kernelspec": {
   "display_name": "Python 3 (ipykernel)",
   "language": "python",
   "name": "python3"
  },
  "language_info": {
   "codemirror_mode": {
    "name": "ipython",
    "version": 3
   },
   "file_extension": ".py",
   "mimetype": "text/x-python",
   "name": "python",
   "nbconvert_exporter": "python",
   "pygments_lexer": "ipython3",
   "version": "3.12.2"
  }
 },
 "nbformat": 4,
 "nbformat_minor": 5
}
