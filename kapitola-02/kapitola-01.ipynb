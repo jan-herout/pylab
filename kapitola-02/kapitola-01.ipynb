{
 "cells": [
  {
   "cell_type": "markdown",
   "id": "6412a2b5-883e-45e3-8a2b-442709754d8a",
   "metadata": {},
   "source": [
    "# Setup\n",
    "\n",
    "Sem patří jednotlivé importy, nutné pro funkčnost notebooku."
   ]
  },
  {
   "cell_type": "code",
   "execution_count": 1,
   "id": "906c940c-3de9-472c-bdc4-a6a4c25ef726",
   "metadata": {},
   "outputs": [],
   "source": [
    "import pathlib\n",
    "import sys\n",
    "from rich import print, traceback, pretty, inspect\n",
    "pylabcheck_path = pathlib.Path(\"pylabcheck\").absolute()\n",
    "if pylabcheck_path not in sys.path:\n",
    "    sys.path.append(pylabcheck_path)\n",
    "traceback.install(show_locals=False)\n",
    "pretty.install()"
   ]
  },
  {
   "cell_type": "code",
   "execution_count": 2,
   "id": "2c93b43b-8760-44b8-a490-75de345a3d15",
   "metadata": {},
   "outputs": [],
   "source": [
    "import pylabcheck"
   ]
  },
  {
   "cell_type": "markdown",
   "id": "b0cd260e-fb79-4081-a418-458c8794beec",
   "metadata": {},
   "source": [
    "# Lab"
   ]
  },
  {
   "cell_type": "markdown",
   "id": "32cc05ff-e297-4a91-9840-b864237ab67e",
   "metadata": {},
   "source": [
    "## Otázka 1\n",
    "\n",
    "Pokud ten samý program napíšu v jazyce `C` a v jazyce `Python`, který z následujících výroků je pravdivý?\n",
    "\n",
    "- `1`: oba budou zhruba stejně rychlé.\n",
    "- `2`: verze v jazyce `C` bude zpravidla rychlejší.\n",
    "- `3`: verze v jazyce `Python` bude zpravidla rychlejší.\n",
    "\n",
    "Odpověď ověříš v následující buňce takto: dejme tomu, že první odpověď je správná, tj číslo `1` je správně. Pak napíšeš:\n",
    "\n",
    "```python\n",
    "pylabcheck.je_spravne(otazka=1, odpoved=1)\n",
    "```\n",
    "\n",
    "Otázka je 1, a odpověď 1 jsi v tomto případě označil jako správnou.\n",
    "\n",
    "Uprav text v následující buňce tak, aby byl správně, a buňku spusť. Pokud tvá odpověď je špatná, pokus se správnou odpověď najít v textu ke kapitole 1 (a vysvětlit proč tomu tak je)."
   ]
  },
  {
   "cell_type": "code",
   "execution_count": 3,
   "id": "e2044201-4a4c-4f72-9561-806d4f5ffd46",
   "metadata": {},
   "outputs": [
    {
     "name": "stdout",
     "output_type": "stream",
     "text": [
      "špatně.\n"
     ]
    }
   ],
   "source": [
    "pylabcheck.je_spravne(otazka=1, odpoved=0)"
   ]
  },
  {
   "cell_type": "markdown",
   "id": "6d20c261-1d85-4f14-834e-8de96326553a",
   "metadata": {},
   "source": [
    "## Otázka 2\n",
    "\n",
    "Které z následujících tvrzení je správné?\n",
    "\n",
    "- `1`: strojový kód se překládá do assembleru\n",
    "- `2`: program v jazyce `Python` se překládá do assembleru\n",
    "- `3`: program v assembleru se překládá do strojového kódu\n"
   ]
  },
  {
   "cell_type": "code",
   "execution_count": 4,
   "id": "b4f511bd-1fc3-42fb-9028-aaf76072c1d9",
   "metadata": {},
   "outputs": [
    {
     "name": "stdout",
     "output_type": "stream",
     "text": [
      "špatně.\n"
     ]
    }
   ],
   "source": [
    "pylabcheck.je_spravne(otazka=2, odpoved=0)"
   ]
  },
  {
   "cell_type": "markdown",
   "id": "21871ced-8526-4fa3-a1f7-2ab290abfe22",
   "metadata": {},
   "source": [
    "## Otázka 3\n",
    "\n",
    "Které z následujících tvrzení je správné?\n",
    "\n",
    "- `1`: programy napsané v kompilovaném programovacím jazyce jsou vždy lépe udržovatelné\n",
    "- `2`: programy napsané v intepretovaném programovacím jazyce jsou vždy lépe udržovatelné\n",
    "- `3`: ani jedno z výše uvedených tvrzení není samo o sobě správné, záleží na situaci\n"
   ]
  },
  {
   "cell_type": "code",
   "execution_count": 5,
   "id": "c40efdbe-e6ea-4159-818a-4322e00791d0",
   "metadata": {},
   "outputs": [
    {
     "name": "stdout",
     "output_type": "stream",
     "text": [
      "špatně.\n"
     ]
    }
   ],
   "source": [
    "pylabcheck.je_spravne(otazka=3, odpoved=0)"
   ]
  },
  {
   "cell_type": "markdown",
   "id": "b8cf9bcd-cddd-4f50-aed2-5baf1e7e0e0f",
   "metadata": {},
   "source": [
    "## Otázka 4\n",
    "\n",
    "Python je:\n",
    "\n",
    "- `1`: kompilovaný programovací jazyk\n",
    "- `2`: interpretovaný programovací jazyk\n",
    "- `3`: jiné označení pro strojový kód\n",
    "\n"
   ]
  },
  {
   "cell_type": "code",
   "execution_count": 6,
   "id": "f187fe94-5c00-4c09-ae12-44528f946691",
   "metadata": {},
   "outputs": [
    {
     "name": "stdout",
     "output_type": "stream",
     "text": [
      "špatně.\n"
     ]
    }
   ],
   "source": [
    "pylabcheck.je_spravne(otazka=4, odpoved=0)"
   ]
  },
  {
   "cell_type": "markdown",
   "id": "43a1fff8-cc32-4449-acfc-ced7d8a3c5b8",
   "metadata": {},
   "source": [
    "## Otázka 5\n",
    "\n",
    "`Duck typing` je koncept, který říká že:\n",
    "\n",
    "- `1`: každá proměnná v programu má předem daný, a neměnný datový typ\n",
    "- `2`: proměnná v programu může volně měnit svůj datový typ podle potřeby\n",
    "- `3`: ani jedno, termín s programováním vůbec nesouvisí"
   ]
  },
  {
   "cell_type": "code",
   "execution_count": 7,
   "id": "a5f52e51-9933-4474-a594-0c80f9a3745b",
   "metadata": {},
   "outputs": [
    {
     "name": "stdout",
     "output_type": "stream",
     "text": [
      "špatně.\n"
     ]
    }
   ],
   "source": [
    "pylabcheck.je_spravne(otazka=5, odpoved=0)"
   ]
  },
  {
   "cell_type": "markdown",
   "id": "d3109181-e750-49fa-8dad-c2d1a41a46f0",
   "metadata": {},
   "source": [
    "## Otázka 6\n",
    "\n",
    "Programátor zpravidla stráví víc času:\n",
    "\n",
    "- `1`: čtením programu\n",
    "- `2`: psaním programu"
   ]
  },
  {
   "cell_type": "code",
   "execution_count": 8,
   "id": "641b063b-470c-44d6-a6cb-15fe30602ffb",
   "metadata": {},
   "outputs": [
    {
     "name": "stdout",
     "output_type": "stream",
     "text": [
      "špatně.\n"
     ]
    }
   ],
   "source": [
    "pylabcheck.je_spravne(otazka=6, odpoved=0)"
   ]
  }
 ],
 "metadata": {
  "kernelspec": {
   "display_name": "Python 3 (ipykernel)",
   "language": "python",
   "name": "python3"
  },
  "language_info": {
   "codemirror_mode": {
    "name": "ipython",
    "version": 3
   },
   "file_extension": ".py",
   "mimetype": "text/x-python",
   "name": "python",
   "nbconvert_exporter": "python",
   "pygments_lexer": "ipython3",
   "version": "3.11.1"
  }
 },
 "nbformat": 4,
 "nbformat_minor": 5
}
